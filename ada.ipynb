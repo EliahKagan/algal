{
 "cells": [
  {
   "cell_type": "code",
   "execution_count": 90,
   "metadata": {},
   "outputs": [],
   "source": [
    "import itertools\n",
    "\n",
    "from colorama import Back, Fore, Style\n",
    "import numpy as np\n",
    "import openai\n",
    "import tiktoken"
   ]
  },
  {
   "cell_type": "code",
   "execution_count": 2,
   "metadata": {},
   "outputs": [],
   "source": [
    "openai.api_key_path = '.openai_key'"
   ]
  },
  {
   "cell_type": "code",
   "execution_count": 3,
   "metadata": {},
   "outputs": [],
   "source": [
    "texts = [\n",
    "    'That is a happy person',\n",
    "    'That is a happy dog',\n",
    "    'That is a very happy person',\n",
    "    'Today is a sunny day',\n",
    "]"
   ]
  },
  {
   "cell_type": "code",
   "execution_count": 4,
   "metadata": {},
   "outputs": [],
   "source": [
    "results = openai.Embedding.create(\n",
    "    input=texts,\n",
    "    model='text-embedding-ada-002',\n",
    ")"
   ]
  },
  {
   "cell_type": "code",
   "execution_count": 13,
   "metadata": {},
   "outputs": [
    {
     "data": {
      "text/plain": [
       "dict_keys(['object', 'index', 'embedding'])"
      ]
     },
     "execution_count": 13,
     "metadata": {},
     "output_type": "execute_result"
    }
   ],
   "source": [
    "results.data[0].keys()"
   ]
  },
  {
   "cell_type": "code",
   "execution_count": 14,
   "metadata": {},
   "outputs": [
    {
     "data": {
      "text/plain": [
       "['embedding', 'embedding', 'embedding', 'embedding']"
      ]
     },
     "execution_count": 14,
     "metadata": {},
     "output_type": "execute_result"
    }
   ],
   "source": [
    "[datum.object for datum in results.data]"
   ]
  },
  {
   "cell_type": "code",
   "execution_count": 27,
   "metadata": {},
   "outputs": [
    {
     "data": {
      "text/plain": [
       "[0, 1, 2, 3]"
      ]
     },
     "execution_count": 27,
     "metadata": {},
     "output_type": "execute_result"
    }
   ],
   "source": [
    "[datum.index for datum in results.data]"
   ]
  },
  {
   "cell_type": "code",
   "execution_count": 16,
   "metadata": {},
   "outputs": [
    {
     "data": {
      "text/plain": [
       "True"
      ]
     },
     "execution_count": 16,
     "metadata": {},
     "output_type": "execute_result"
    }
   ],
   "source": [
    "pairs = itertools.pairwise(datum.index for datum in results.data)\n",
    "all(lhs < rhs for lhs, rhs in pairs)"
   ]
  },
  {
   "cell_type": "code",
   "execution_count": 19,
   "metadata": {},
   "outputs": [],
   "source": [
    "v1, v2, v3, v4 = (\n",
    "    np.array(datum.embedding, dtype=np.float32)\n",
    "    for datum in results.data\n",
    ")"
   ]
  },
  {
   "cell_type": "code",
   "execution_count": 20,
   "metadata": {},
   "outputs": [
    {
     "data": {
      "text/plain": [
       "[(1536,), (1536,), (1536,), (1536,)]"
      ]
     },
     "execution_count": 20,
     "metadata": {},
     "output_type": "execute_result"
    }
   ],
   "source": [
    "[embedding.shape for embedding in (v1, v2, v3, v4)]"
   ]
  },
  {
   "cell_type": "code",
   "execution_count": 21,
   "metadata": {},
   "outputs": [
    {
     "data": {
      "text/plain": [
       "[0.99999994, 1.0, 0.9999999, 0.9999999]"
      ]
     },
     "execution_count": 21,
     "metadata": {},
     "output_type": "execute_result"
    }
   ],
   "source": [
    "[np.linalg.norm(embedding) for embedding in (v1, v2, v3, v4)]"
   ]
  },
  {
   "cell_type": "code",
   "execution_count": 22,
   "metadata": {},
   "outputs": [
    {
     "data": {
      "text/plain": [
       "0.9301601"
      ]
     },
     "execution_count": 22,
     "metadata": {},
     "output_type": "execute_result"
    }
   ],
   "source": [
    "np.dot(v1, v2)"
   ]
  },
  {
   "cell_type": "code",
   "execution_count": 23,
   "metadata": {},
   "outputs": [
    {
     "data": {
      "text/plain": [
       "0.98347116"
      ]
     },
     "execution_count": 23,
     "metadata": {},
     "output_type": "execute_result"
    }
   ],
   "source": [
    "np.dot(v1, v3)"
   ]
  },
  {
   "cell_type": "code",
   "execution_count": 24,
   "metadata": {},
   "outputs": [
    {
     "data": {
      "text/plain": [
       "0.8226278"
      ]
     },
     "execution_count": 24,
     "metadata": {},
     "output_type": "execute_result"
    }
   ],
   "source": [
    "np.dot(v1, v4)"
   ]
  },
  {
   "cell_type": "code",
   "execution_count": 25,
   "metadata": {},
   "outputs": [],
   "source": [
    "with open('the_open_window.txt', encoding='utf-8') as file:\n",
    "    tow = file.read().strip().replace('\\n', ' ')\n",
    "\n",
    "with open('the_open_window_modified.txt', encoding='utf-8') as file:\n",
    "    tow_modified = file.read().strip().replace('\\n', ' ')\n",
    "\n",
    "assert tow != tow_modified\n",
    "\n",
    "tow_results = openai.Embedding.create(\n",
    "    input=[tow, tow_modified],\n",
    "    model='text-embedding-ada-002',\n",
    ")"
   ]
  },
  {
   "cell_type": "code",
   "execution_count": 26,
   "metadata": {},
   "outputs": [
    {
     "data": {
      "text/plain": [
       "['embedding', 'embedding']"
      ]
     },
     "execution_count": 26,
     "metadata": {},
     "output_type": "execute_result"
    }
   ],
   "source": [
    "[datum.object for datum in tow_results.data]"
   ]
  },
  {
   "cell_type": "code",
   "execution_count": 28,
   "metadata": {},
   "outputs": [
    {
     "data": {
      "text/plain": [
       "[0, 1]"
      ]
     },
     "execution_count": 28,
     "metadata": {},
     "output_type": "execute_result"
    }
   ],
   "source": [
    "[datum.index for datum in tow_results.data]"
   ]
  },
  {
   "cell_type": "code",
   "execution_count": 29,
   "metadata": {},
   "outputs": [
    {
     "data": {
      "text/plain": [
       "True"
      ]
     },
     "execution_count": 29,
     "metadata": {},
     "output_type": "execute_result"
    }
   ],
   "source": [
    "pairs = itertools.pairwise(datum.index for datum in tow_results.data)\n",
    "all(lhs < rhs for lhs, rhs in pairs)"
   ]
  },
  {
   "cell_type": "code",
   "execution_count": 30,
   "metadata": {},
   "outputs": [],
   "source": [
    "w1, w2 = (\n",
    "    np.array(datum.embedding, dtype=np.float32)\n",
    "    for datum in tow_results.data\n",
    ")"
   ]
  },
  {
   "cell_type": "code",
   "execution_count": 31,
   "metadata": {},
   "outputs": [
    {
     "data": {
      "text/plain": [
       "False"
      ]
     },
     "execution_count": 31,
     "metadata": {},
     "output_type": "execute_result"
    }
   ],
   "source": [
    "(w1 == w2).all()"
   ]
  },
  {
   "cell_type": "code",
   "execution_count": 32,
   "metadata": {},
   "outputs": [
    {
     "data": {
      "text/plain": [
       "0.08089018"
      ]
     },
     "execution_count": 32,
     "metadata": {},
     "output_type": "execute_result"
    }
   ],
   "source": [
    "np.linalg.norm(w1 - w2)"
   ]
  },
  {
   "cell_type": "code",
   "execution_count": 33,
   "metadata": {},
   "outputs": [
    {
     "data": {
      "text/plain": [
       "0.9967284"
      ]
     },
     "execution_count": 33,
     "metadata": {},
     "output_type": "execute_result"
    }
   ],
   "source": [
    "np.dot(w1, w2)"
   ]
  },
  {
   "cell_type": "code",
   "execution_count": 38,
   "metadata": {},
   "outputs": [
    {
     "data": {
      "text/plain": [
       "<OpenAIObject at 0x22ae654dc10> JSON: {\n",
       "  \"prompt_tokens\": 21,\n",
       "  \"total_tokens\": 21\n",
       "}"
      ]
     },
     "execution_count": 38,
     "metadata": {},
     "output_type": "execute_result"
    }
   ],
   "source": [
    "results.usage"
   ]
  },
  {
   "cell_type": "code",
   "execution_count": 36,
   "metadata": {},
   "outputs": [
    {
     "data": {
      "text/plain": [
       "<OpenAIObject at 0x22ae6ad2c90> JSON: {\n",
       "  \"prompt_tokens\": 3114,\n",
       "  \"total_tokens\": 3114\n",
       "}"
      ]
     },
     "execution_count": 36,
     "metadata": {},
     "output_type": "execute_result"
    }
   ],
   "source": [
    "tow_results.usage"
   ]
  },
  {
   "cell_type": "code",
   "execution_count": 47,
   "metadata": {},
   "outputs": [],
   "source": [
    "enc = tiktoken.get_encoding('cl100k_base')"
   ]
  },
  {
   "cell_type": "code",
   "execution_count": 48,
   "metadata": {},
   "outputs": [
    {
     "data": {
      "text/plain": [
       "[4897, 374, 264, 1633, 6380, 1732]"
      ]
     },
     "execution_count": 48,
     "metadata": {},
     "output_type": "execute_result"
    }
   ],
   "source": [
    "enc.encode('That is a very happy person')"
   ]
  },
  {
   "cell_type": "code",
   "execution_count": 55,
   "metadata": {},
   "outputs": [
    {
     "data": {
      "text/plain": [
       "[76777, 3522, 61990, 68976]"
      ]
     },
     "execution_count": 55,
     "metadata": {},
     "output_type": "execute_result"
    }
   ],
   "source": [
    "enc.encode('altogether doctrinaire')"
   ]
  },
  {
   "cell_type": "code",
   "execution_count": 95,
   "metadata": {},
   "outputs": [],
   "source": [
    "COLORS = (\n",
    "    Style.BRIGHT + Fore.BLACK + Back.LIGHTGREEN_EX,\n",
    "    Style.BRIGHT + Fore.BLACK + Back.LIGHTMAGENTA_EX,\n",
    ")"
   ]
  },
  {
   "cell_type": "code",
   "execution_count": 96,
   "metadata": {},
   "outputs": [],
   "source": [
    "def index_color(index):\n",
    "    return COLORS[index % len(COLORS)]"
   ]
  },
  {
   "cell_type": "code",
   "execution_count": 97,
   "metadata": {},
   "outputs": [],
   "source": [
    "def reveal(text):\n",
    "    pieces = (enc.decode([code], errors='strict') for code in enc.encode(text))\n",
    "    pretty = (index_color(index) + piece for index, piece in enumerate(pieces))\n",
    "    print(*pretty, sep='', end=(Style.RESET_ALL + '\\n'))"
   ]
  },
  {
   "cell_type": "code",
   "execution_count": 98,
   "metadata": {},
   "outputs": [
    {
     "name": "stdout",
     "output_type": "stream",
     "text": [
      "\u001b[1m\u001b[30m\u001b[102malto\u001b[1m\u001b[30m\u001b[105mgether\u001b[1m\u001b[30m\u001b[102m doctr\u001b[1m\u001b[30m\u001b[105minaire\u001b[0m\n"
     ]
    }
   ],
   "source": [
    "reveal('altogether doctrinaire')"
   ]
  },
  {
   "cell_type": "code",
   "execution_count": 99,
   "metadata": {},
   "outputs": [
    {
     "name": "stdout",
     "output_type": "stream",
     "text": [
      "\u001b[1m\u001b[30m\u001b[102mDr\u001b[1m\u001b[30m\u001b[105m.\u001b[1m\u001b[30m\u001b[102m Von\u001b[1m\u001b[30m\u001b[105m Squ\u001b[1m\u001b[30m\u001b[102mill\u001b[1m\u001b[30m\u001b[105mde\u001b[1m\u001b[30m\u001b[102mbrand\u001b[1m\u001b[30m\u001b[105mt\u001b[0m\n"
     ]
    }
   ],
   "source": [
    "reveal('Dr. Von Squilldebrandt')"
   ]
  },
  {
   "cell_type": "code",
   "execution_count": 100,
   "metadata": {},
   "outputs": [],
   "source": [
    "def count_tokens(text):\n",
    "    return len(enc.encode(text))"
   ]
  },
  {
   "cell_type": "code",
   "execution_count": 101,
   "metadata": {},
   "outputs": [
    {
     "data": {
      "text/plain": [
       "['That is a happy person',\n",
       " 'That is a happy dog',\n",
       " 'That is a very happy person',\n",
       " 'Today is a sunny day']"
      ]
     },
     "execution_count": 101,
     "metadata": {},
     "output_type": "execute_result"
    }
   ],
   "source": [
    "texts"
   ]
  },
  {
   "cell_type": "code",
   "execution_count": 102,
   "metadata": {},
   "outputs": [
    {
     "data": {
      "text/plain": [
       "21"
      ]
     },
     "execution_count": 102,
     "metadata": {},
     "output_type": "execute_result"
    }
   ],
   "source": [
    "sum(count_tokens(text) for text in texts)"
   ]
  },
  {
   "cell_type": "code",
   "execution_count": 103,
   "metadata": {},
   "outputs": [
    {
     "data": {
      "text/plain": [
       "3114"
      ]
     },
     "execution_count": 103,
     "metadata": {},
     "output_type": "execute_result"
    }
   ],
   "source": [
    "count_tokens(tow) + count_tokens(tow_modified)"
   ]
  },
  {
   "cell_type": "code",
   "execution_count": 104,
   "metadata": {},
   "outputs": [
    {
     "name": "stdout",
     "output_type": "stream",
     "text": [
      "\u001b[1m\u001b[30m\u001b[102m\"My\u001b[1m\u001b[30m\u001b[105m aunt\u001b[1m\u001b[30m\u001b[102m will\u001b[1m\u001b[30m\u001b[105m be\u001b[1m\u001b[30m\u001b[102m down\u001b[1m\u001b[30m\u001b[105m presently\u001b[1m\u001b[30m\u001b[102m,\u001b[1m\u001b[30m\u001b[105m Mr\u001b[1m\u001b[30m\u001b[102m.\u001b[1m\u001b[30m\u001b[105m Nut\u001b[1m\u001b[30m\u001b[102mtel\u001b[1m\u001b[30m\u001b[105m,\"\u001b[1m\u001b[30m\u001b[102m said\u001b[1m\u001b[30m\u001b[105m a\u001b[1m\u001b[30m\u001b[102m very\u001b[1m\u001b[30m\u001b[105m self\u001b[1m\u001b[30m\u001b[102m-\u001b[1m\u001b[30m\u001b[105mposs\u001b[1m\u001b[30m\u001b[102messed\u001b[1m\u001b[30m\u001b[105m young\u001b[1m\u001b[30m\u001b[102m lady\u001b[1m\u001b[30m\u001b[105m of\u001b[1m\u001b[30m\u001b[102m fifteen\u001b[1m\u001b[30m\u001b[105m;\u001b[1m\u001b[30m\u001b[102m \"\u001b[1m\u001b[30m\u001b[105min\u001b[1m\u001b[30m\u001b[102m the\u001b[1m\u001b[30m\u001b[105m meantime\u001b[1m\u001b[30m\u001b[102m you\u001b[1m\u001b[30m\u001b[105m must\u001b[1m\u001b[30m\u001b[102m try\u001b[1m\u001b[30m\u001b[105m and\u001b[1m\u001b[30m\u001b[102m put\u001b[1m\u001b[30m\u001b[105m up\u001b[1m\u001b[30m\u001b[102m with\u001b[1m\u001b[30m\u001b[105m me\u001b[1m\u001b[30m\u001b[102m.\"\u001b[1m\u001b[30m\u001b[105m \u001b[1m\u001b[30m\u001b[102m Fram\u001b[1m\u001b[30m\u001b[105mton\u001b[1m\u001b[30m\u001b[102m Nut\u001b[1m\u001b[30m\u001b[105mtel\u001b[1m\u001b[30m\u001b[102m ende\u001b[1m\u001b[30m\u001b[105mavored\u001b[1m\u001b[30m\u001b[102m to\u001b[1m\u001b[30m\u001b[105m say\u001b[1m\u001b[30m\u001b[102m the\u001b[1m\u001b[30m\u001b[105m correct\u001b[1m\u001b[30m\u001b[102m something\u001b[1m\u001b[30m\u001b[105m which\u001b[1m\u001b[30m\u001b[102m should\u001b[1m\u001b[30m\u001b[105m duly\u001b[1m\u001b[30m\u001b[102m H\u001b[1m\u001b[30m\u001b[105matter\u001b[1m\u001b[30m\u001b[102m the\u001b[1m\u001b[30m\u001b[105m niece\u001b[1m\u001b[30m\u001b[102m of\u001b[1m\u001b[30m\u001b[105m the\u001b[1m\u001b[30m\u001b[102m moment\u001b[1m\u001b[30m\u001b[105m without\u001b[1m\u001b[30m\u001b[102m und\u001b[1m\u001b[30m\u001b[105muly\u001b[1m\u001b[30m\u001b[102m discount\u001b[1m\u001b[30m\u001b[105ming\u001b[1m\u001b[30m\u001b[102m the\u001b[1m\u001b[30m\u001b[105m aunt\u001b[1m\u001b[30m\u001b[102m that\u001b[1m\u001b[30m\u001b[105m was\u001b[1m\u001b[30m\u001b[102m to\u001b[1m\u001b[30m\u001b[105m come\u001b[1m\u001b[30m\u001b[102m.\u001b[1m\u001b[30m\u001b[105m Priv\u001b[1m\u001b[30m\u001b[102mately\u001b[1m\u001b[30m\u001b[105m he\u001b[1m\u001b[30m\u001b[102m doubted\u001b[1m\u001b[30m\u001b[105m more\u001b[1m\u001b[30m\u001b[102m than\u001b[1m\u001b[30m\u001b[105m ever\u001b[1m\u001b[30m\u001b[102m whether\u001b[1m\u001b[30m\u001b[105m these\u001b[1m\u001b[30m\u001b[102m formal\u001b[1m\u001b[30m\u001b[105m visits\u001b[1m\u001b[30m\u001b[102m on\u001b[1m\u001b[30m\u001b[105m a\u001b[1m\u001b[30m\u001b[102m succession\u001b[1m\u001b[30m\u001b[105m of\u001b[1m\u001b[30m\u001b[102m total\u001b[1m\u001b[30m\u001b[105m strangers\u001b[1m\u001b[30m\u001b[102m would\u001b[1m\u001b[30m\u001b[105m do\u001b[1m\u001b[30m\u001b[102m very\u001b[1m\u001b[30m\u001b[105m much\u001b[1m\u001b[30m\u001b[102m towards\u001b[1m\u001b[30m\u001b[105m helping\u001b[1m\u001b[30m\u001b[102m the\u001b[1m\u001b[30m\u001b[105m nerve\u001b[1m\u001b[30m\u001b[102m cure\u001b[1m\u001b[30m\u001b[105m which\u001b[1m\u001b[30m\u001b[102m he\u001b[1m\u001b[30m\u001b[105m was\u001b[1m\u001b[30m\u001b[102m supposed\u001b[1m\u001b[30m\u001b[105m to\u001b[1m\u001b[30m\u001b[102m be\u001b[1m\u001b[30m\u001b[105m undergoing\u001b[1m\u001b[30m\u001b[102m.\u001b[1m\u001b[30m\u001b[105m \u001b[1m\u001b[30m\u001b[102m \"\u001b[1m\u001b[30m\u001b[105mI\u001b[1m\u001b[30m\u001b[102m know\u001b[1m\u001b[30m\u001b[105m how\u001b[1m\u001b[30m\u001b[102m it\u001b[1m\u001b[30m\u001b[105m will\u001b[1m\u001b[30m\u001b[102m be\u001b[1m\u001b[30m\u001b[105m,\"\u001b[1m\u001b[30m\u001b[102m his\u001b[1m\u001b[30m\u001b[105m sister\u001b[1m\u001b[30m\u001b[102m had\u001b[1m\u001b[30m\u001b[105m said\u001b[1m\u001b[30m\u001b[102m when\u001b[1m\u001b[30m\u001b[105m he\u001b[1m\u001b[30m\u001b[102m was\u001b[1m\u001b[30m\u001b[105m preparing\u001b[1m\u001b[30m\u001b[102m to\u001b[1m\u001b[30m\u001b[105m migrate\u001b[1m\u001b[30m\u001b[102m to\u001b[1m\u001b[30m\u001b[105m this\u001b[1m\u001b[30m\u001b[102m rural\u001b[1m\u001b[30m\u001b[105m retreat\u001b[1m\u001b[30m\u001b[102m;\u001b[1m\u001b[30m\u001b[105m \"\u001b[1m\u001b[30m\u001b[102myou\u001b[1m\u001b[30m\u001b[105m will\u001b[1m\u001b[30m\u001b[102m bury\u001b[1m\u001b[30m\u001b[105m yourself\u001b[1m\u001b[30m\u001b[102m down\u001b[1m\u001b[30m\u001b[105m there\u001b[1m\u001b[30m\u001b[102m and\u001b[1m\u001b[30m\u001b[105m not\u001b[1m\u001b[30m\u001b[102m speak\u001b[1m\u001b[30m\u001b[105m to\u001b[1m\u001b[30m\u001b[102m a\u001b[1m\u001b[30m\u001b[105m living\u001b[1m\u001b[30m\u001b[102m soul\u001b[1m\u001b[30m\u001b[105m,\u001b[1m\u001b[30m\u001b[102m and\u001b[1m\u001b[30m\u001b[105m your\u001b[1m\u001b[30m\u001b[102m nerves\u001b[1m\u001b[30m\u001b[105m will\u001b[1m\u001b[30m\u001b[102m be\u001b[1m\u001b[30m\u001b[105m worse\u001b[1m\u001b[30m\u001b[102m than\u001b[1m\u001b[30m\u001b[105m ever\u001b[1m\u001b[30m\u001b[102m from\u001b[1m\u001b[30m\u001b[105m m\u001b[1m\u001b[30m\u001b[102moping\u001b[1m\u001b[30m\u001b[105m.\u001b[1m\u001b[30m\u001b[102m \u001b[1m\u001b[30m\u001b[105m I\u001b[1m\u001b[30m\u001b[102m shall\u001b[1m\u001b[30m\u001b[105m just\u001b[1m\u001b[30m\u001b[102m give\u001b[1m\u001b[30m\u001b[105m you\u001b[1m\u001b[30m\u001b[102m letters\u001b[1m\u001b[30m\u001b[105m of\u001b[1m\u001b[30m\u001b[102m introduction\u001b[1m\u001b[30m\u001b[105m to\u001b[1m\u001b[30m\u001b[102m all\u001b[1m\u001b[30m\u001b[105m the\u001b[1m\u001b[30m\u001b[102m people\u001b[1m\u001b[30m\u001b[105m I\u001b[1m\u001b[30m\u001b[102m know\u001b[1m\u001b[30m\u001b[105m there\u001b[1m\u001b[30m\u001b[102m.\u001b[1m\u001b[30m\u001b[105m Some\u001b[1m\u001b[30m\u001b[102m of\u001b[1m\u001b[30m\u001b[105m them\u001b[1m\u001b[30m\u001b[102m,\u001b[1m\u001b[30m\u001b[105m as\u001b[1m\u001b[30m\u001b[102m far\u001b[1m\u001b[30m\u001b[105m as\u001b[1m\u001b[30m\u001b[102m I\u001b[1m\u001b[30m\u001b[105m can\u001b[1m\u001b[30m\u001b[102m remember\u001b[1m\u001b[30m\u001b[105m,\u001b[1m\u001b[30m\u001b[102m were\u001b[1m\u001b[30m\u001b[105m quite\u001b[1m\u001b[30m\u001b[102m nice\u001b[1m\u001b[30m\u001b[105m.\"\u001b[1m\u001b[30m\u001b[102m \u001b[1m\u001b[30m\u001b[105m Fram\u001b[1m\u001b[30m\u001b[102mton\u001b[1m\u001b[30m\u001b[105m wondered\u001b[1m\u001b[30m\u001b[102m whether\u001b[1m\u001b[30m\u001b[105m Mrs\u001b[1m\u001b[30m\u001b[102m.\u001b[1m\u001b[30m\u001b[105m S\u001b[1m\u001b[30m\u001b[102mapp\u001b[1m\u001b[30m\u001b[105mleton\u001b[1m\u001b[30m\u001b[102m,\u001b[1m\u001b[30m\u001b[105m the\u001b[1m\u001b[30m\u001b[102m lady\u001b[1m\u001b[30m\u001b[105m to\u001b[1m\u001b[30m\u001b[102m whom\u001b[1m\u001b[30m\u001b[105m he\u001b[1m\u001b[30m\u001b[102m was\u001b[1m\u001b[30m\u001b[105m presenting\u001b[1m\u001b[30m\u001b[102m one\u001b[1m\u001b[30m\u001b[105m of\u001b[1m\u001b[30m\u001b[102m the\u001b[1m\u001b[30m\u001b[105m letters\u001b[1m\u001b[30m\u001b[102m of\u001b[1m\u001b[30m\u001b[105m introduction\u001b[1m\u001b[30m\u001b[102m came\u001b[1m\u001b[30m\u001b[105m into\u001b[1m\u001b[30m\u001b[102m the\u001b[1m\u001b[30m\u001b[105m nice\u001b[1m\u001b[30m\u001b[102m division\u001b[1m\u001b[30m\u001b[105m.\u001b[1m\u001b[30m\u001b[102m \u001b[1m\u001b[30m\u001b[105m \"\u001b[1m\u001b[30m\u001b[102mDo\u001b[1m\u001b[30m\u001b[105m you\u001b[1m\u001b[30m\u001b[102m know\u001b[1m\u001b[30m\u001b[105m many\u001b[1m\u001b[30m\u001b[102m of\u001b[1m\u001b[30m\u001b[105m the\u001b[1m\u001b[30m\u001b[102m people\u001b[1m\u001b[30m\u001b[105m round\u001b[1m\u001b[30m\u001b[102m here\u001b[1m\u001b[30m\u001b[105m?\"\u001b[1m\u001b[30m\u001b[102m asked\u001b[1m\u001b[30m\u001b[105m the\u001b[1m\u001b[30m\u001b[102m niece\u001b[1m\u001b[30m\u001b[105m,\u001b[1m\u001b[30m\u001b[102m when\u001b[1m\u001b[30m\u001b[105m she\u001b[1m\u001b[30m\u001b[102m judged\u001b[1m\u001b[30m\u001b[105m that\u001b[1m\u001b[30m\u001b[102m they\u001b[1m\u001b[30m\u001b[105m had\u001b[1m\u001b[30m\u001b[102m had\u001b[1m\u001b[30m\u001b[105m sufficient\u001b[1m\u001b[30m\u001b[102m silent\u001b[1m\u001b[30m\u001b[105m communion\u001b[1m\u001b[30m\u001b[102m.\u001b[1m\u001b[30m\u001b[105m \u001b[1m\u001b[30m\u001b[102m \"\u001b[1m\u001b[30m\u001b[105mHard\u001b[1m\u001b[30m\u001b[102mly\u001b[1m\u001b[30m\u001b[105m a\u001b[1m\u001b[30m\u001b[102m soul\u001b[1m\u001b[30m\u001b[105m,\"\u001b[1m\u001b[30m\u001b[102m said\u001b[1m\u001b[30m\u001b[105m Fram\u001b[1m\u001b[30m\u001b[102mton\u001b[1m\u001b[30m\u001b[105m.\u001b[1m\u001b[30m\u001b[102m \"\u001b[1m\u001b[30m\u001b[105mMy\u001b[1m\u001b[30m\u001b[102m sister\u001b[1m\u001b[30m\u001b[105m was\u001b[1m\u001b[30m\u001b[102m staying\u001b[1m\u001b[30m\u001b[105m here\u001b[1m\u001b[30m\u001b[102m,\u001b[1m\u001b[30m\u001b[105m at\u001b[1m\u001b[30m\u001b[102m the\u001b[1m\u001b[30m\u001b[105m rect\u001b[1m\u001b[30m\u001b[102mory\u001b[1m\u001b[30m\u001b[105m,\u001b[1m\u001b[30m\u001b[102m you\u001b[1m\u001b[30m\u001b[105m know\u001b[1m\u001b[30m\u001b[102m,\u001b[1m\u001b[30m\u001b[105m some\u001b[1m\u001b[30m\u001b[102m four\u001b[1m\u001b[30m\u001b[105m years\u001b[1m\u001b[30m\u001b[102m ago\u001b[1m\u001b[30m\u001b[105m,\u001b[1m\u001b[30m\u001b[102m and\u001b[1m\u001b[30m\u001b[105m she\u001b[1m\u001b[30m\u001b[102m gave\u001b[1m\u001b[30m\u001b[105m me\u001b[1m\u001b[30m\u001b[102m letters\u001b[1m\u001b[30m\u001b[105m of\u001b[1m\u001b[30m\u001b[102m introduction\u001b[1m\u001b[30m\u001b[105m to\u001b[1m\u001b[30m\u001b[102m some\u001b[1m\u001b[30m\u001b[105m of\u001b[1m\u001b[30m\u001b[102m the\u001b[1m\u001b[30m\u001b[105m people\u001b[1m\u001b[30m\u001b[102m here\u001b[1m\u001b[30m\u001b[105m.\"\u001b[1m\u001b[30m\u001b[102m \u001b[1m\u001b[30m\u001b[105m He\u001b[1m\u001b[30m\u001b[102m made\u001b[1m\u001b[30m\u001b[105m the\u001b[1m\u001b[30m\u001b[102m last\u001b[1m\u001b[30m\u001b[105m statement\u001b[1m\u001b[30m\u001b[102m in\u001b[1m\u001b[30m\u001b[105m a\u001b[1m\u001b[30m\u001b[102m tone\u001b[1m\u001b[30m\u001b[105m of\u001b[1m\u001b[30m\u001b[102m distinct\u001b[1m\u001b[30m\u001b[105m regret\u001b[1m\u001b[30m\u001b[102m.\u001b[1m\u001b[30m\u001b[105m \u001b[1m\u001b[30m\u001b[102m \"\u001b[1m\u001b[30m\u001b[105mThen\u001b[1m\u001b[30m\u001b[102m you\u001b[1m\u001b[30m\u001b[105m know\u001b[1m\u001b[30m\u001b[102m practically\u001b[1m\u001b[30m\u001b[105m nothing\u001b[1m\u001b[30m\u001b[102m about\u001b[1m\u001b[30m\u001b[105m my\u001b[1m\u001b[30m\u001b[102m aunt\u001b[1m\u001b[30m\u001b[105m?\"\u001b[1m\u001b[30m\u001b[102m pursued\u001b[1m\u001b[30m\u001b[105m the\u001b[1m\u001b[30m\u001b[102m self\u001b[1m\u001b[30m\u001b[105m-\u001b[1m\u001b[30m\u001b[102mposs\u001b[1m\u001b[30m\u001b[105messed\u001b[1m\u001b[30m\u001b[102m young\u001b[1m\u001b[30m\u001b[105m lady\u001b[1m\u001b[30m\u001b[102m.\u001b[1m\u001b[30m\u001b[105m \u001b[1m\u001b[30m\u001b[102m \"\u001b[1m\u001b[30m\u001b[105mOnly\u001b[1m\u001b[30m\u001b[102m her\u001b[1m\u001b[30m\u001b[105m name\u001b[1m\u001b[30m\u001b[102m and\u001b[1m\u001b[30m\u001b[105m address\u001b[1m\u001b[30m\u001b[102m,\"\u001b[1m\u001b[30m\u001b[105m admitted\u001b[1m\u001b[30m\u001b[102m the\u001b[1m\u001b[30m\u001b[105m caller\u001b[1m\u001b[30m\u001b[102m.\u001b[1m\u001b[30m\u001b[105m He\u001b[1m\u001b[30m\u001b[102m was\u001b[1m\u001b[30m\u001b[105m wondering\u001b[1m\u001b[30m\u001b[102m whether\u001b[1m\u001b[30m\u001b[105m Mrs\u001b[1m\u001b[30m\u001b[102m.\u001b[1m\u001b[30m\u001b[105m \u001b[1m\u001b[30m\u001b[102m S\u001b[1m\u001b[30m\u001b[105mapp\u001b[1m\u001b[30m\u001b[102mleton\u001b[1m\u001b[30m\u001b[105m was\u001b[1m\u001b[30m\u001b[102m in\u001b[1m\u001b[30m\u001b[105m the\u001b[1m\u001b[30m\u001b[102m married\u001b[1m\u001b[30m\u001b[105m or\u001b[1m\u001b[30m\u001b[102m wid\u001b[1m\u001b[30m\u001b[105mowed\u001b[1m\u001b[30m\u001b[102m state\u001b[1m\u001b[30m\u001b[105m.\u001b[1m\u001b[30m\u001b[102m An\u001b[1m\u001b[30m\u001b[105m undef\u001b[1m\u001b[30m\u001b[102min\u001b[1m\u001b[30m\u001b[105mable\u001b[1m\u001b[30m\u001b[102m something\u001b[1m\u001b[30m\u001b[105m about\u001b[1m\u001b[30m\u001b[102m the\u001b[1m\u001b[30m\u001b[105m room\u001b[1m\u001b[30m\u001b[102m seemed\u001b[1m\u001b[30m\u001b[105m to\u001b[1m\u001b[30m\u001b[102m suggest\u001b[1m\u001b[30m\u001b[105m masculine\u001b[1m\u001b[30m\u001b[102m hab\u001b[1m\u001b[30m\u001b[105mitation\u001b[1m\u001b[30m\u001b[102m.\u001b[1m\u001b[30m\u001b[105m \u001b[1m\u001b[30m\u001b[102m \"\u001b[1m\u001b[30m\u001b[105mHer\u001b[1m\u001b[30m\u001b[102m great\u001b[1m\u001b[30m\u001b[105m tragedy\u001b[1m\u001b[30m\u001b[102m happened\u001b[1m\u001b[30m\u001b[105m just\u001b[1m\u001b[30m\u001b[102m three\u001b[1m\u001b[30m\u001b[105m years\u001b[1m\u001b[30m\u001b[102m ago\u001b[1m\u001b[30m\u001b[105m,\"\u001b[1m\u001b[30m\u001b[102m said\u001b[1m\u001b[30m\u001b[105m the\u001b[1m\u001b[30m\u001b[102m child\u001b[1m\u001b[30m\u001b[105m;\u001b[1m\u001b[30m\u001b[102m \"\u001b[1m\u001b[30m\u001b[105mthat\u001b[1m\u001b[30m\u001b[102m would\u001b[1m\u001b[30m\u001b[105m be\u001b[1m\u001b[30m\u001b[102m since\u001b[1m\u001b[30m\u001b[105m your\u001b[1m\u001b[30m\u001b[102m sister\u001b[1m\u001b[30m\u001b[105m's\u001b[1m\u001b[30m\u001b[102m time\u001b[1m\u001b[30m\u001b[105m.\"\u001b[1m\u001b[30m\u001b[102m \u001b[1m\u001b[30m\u001b[105m \"\u001b[1m\u001b[30m\u001b[102mHer\u001b[1m\u001b[30m\u001b[105m tragedy\u001b[1m\u001b[30m\u001b[102m?\"\u001b[1m\u001b[30m\u001b[105m asked\u001b[1m\u001b[30m\u001b[102m Fram\u001b[1m\u001b[30m\u001b[105mton\u001b[1m\u001b[30m\u001b[102m;\u001b[1m\u001b[30m\u001b[105m somehow\u001b[1m\u001b[30m\u001b[102m in\u001b[1m\u001b[30m\u001b[105m this\u001b[1m\u001b[30m\u001b[102m rest\u001b[1m\u001b[30m\u001b[105mful\u001b[1m\u001b[30m\u001b[102m country\u001b[1m\u001b[30m\u001b[105m spot\u001b[1m\u001b[30m\u001b[102m tragedies\u001b[1m\u001b[30m\u001b[105m seemed\u001b[1m\u001b[30m\u001b[102m out\u001b[1m\u001b[30m\u001b[105m of\u001b[1m\u001b[30m\u001b[102m place\u001b[1m\u001b[30m\u001b[105m.\u001b[1m\u001b[30m\u001b[102m \u001b[1m\u001b[30m\u001b[105m \"\u001b[1m\u001b[30m\u001b[102mYou\u001b[1m\u001b[30m\u001b[105m may\u001b[1m\u001b[30m\u001b[102m wonder\u001b[1m\u001b[30m\u001b[105m why\u001b[1m\u001b[30m\u001b[102m we\u001b[1m\u001b[30m\u001b[105m keep\u001b[1m\u001b[30m\u001b[102m that\u001b[1m\u001b[30m\u001b[105m window\u001b[1m\u001b[30m\u001b[102m wide\u001b[1m\u001b[30m\u001b[105m open\u001b[1m\u001b[30m\u001b[102m on\u001b[1m\u001b[30m\u001b[105m an\u001b[1m\u001b[30m\u001b[102m October\u001b[1m\u001b[30m\u001b[105m afternoon\u001b[1m\u001b[30m\u001b[102m,\"\u001b[1m\u001b[30m\u001b[105m said\u001b[1m\u001b[30m\u001b[102m the\u001b[1m\u001b[30m\u001b[105m niece\u001b[1m\u001b[30m\u001b[102m,\u001b[1m\u001b[30m\u001b[105m indicating\u001b[1m\u001b[30m\u001b[102m a\u001b[1m\u001b[30m\u001b[105m large\u001b[1m\u001b[30m\u001b[102m French\u001b[1m\u001b[30m\u001b[105m window\u001b[1m\u001b[30m\u001b[102m that\u001b[1m\u001b[30m\u001b[105m opened\u001b[1m\u001b[30m\u001b[102m on\u001b[1m\u001b[30m\u001b[105m to\u001b[1m\u001b[30m\u001b[102m a\u001b[1m\u001b[30m\u001b[105m lawn\u001b[1m\u001b[30m\u001b[102m.\u001b[1m\u001b[30m\u001b[105m \u001b[1m\u001b[30m\u001b[102m \"\u001b[1m\u001b[30m\u001b[105mIt\u001b[1m\u001b[30m\u001b[102m is\u001b[1m\u001b[30m\u001b[105m quite\u001b[1m\u001b[30m\u001b[102m warm\u001b[1m\u001b[30m\u001b[105m for\u001b[1m\u001b[30m\u001b[102m the\u001b[1m\u001b[30m\u001b[105m time\u001b[1m\u001b[30m\u001b[102m of\u001b[1m\u001b[30m\u001b[105m the\u001b[1m\u001b[30m\u001b[102m year\u001b[1m\u001b[30m\u001b[105m,\"\u001b[1m\u001b[30m\u001b[102m said\u001b[1m\u001b[30m\u001b[105m Fram\u001b[1m\u001b[30m\u001b[102mton\u001b[1m\u001b[30m\u001b[105m;\u001b[1m\u001b[30m\u001b[102m \"\u001b[1m\u001b[30m\u001b[105mbut\u001b[1m\u001b[30m\u001b[102m has\u001b[1m\u001b[30m\u001b[105m that\u001b[1m\u001b[30m\u001b[102m window\u001b[1m\u001b[30m\u001b[105m got\u001b[1m\u001b[30m\u001b[102m anything\u001b[1m\u001b[30m\u001b[105m to\u001b[1m\u001b[30m\u001b[102m do\u001b[1m\u001b[30m\u001b[105m with\u001b[1m\u001b[30m\u001b[102m the\u001b[1m\u001b[30m\u001b[105m tragedy\u001b[1m\u001b[30m\u001b[102m?\"\u001b[1m\u001b[30m\u001b[105m \u001b[1m\u001b[30m\u001b[102m \"\u001b[1m\u001b[30m\u001b[105mOut\u001b[1m\u001b[30m\u001b[102m through\u001b[1m\u001b[30m\u001b[105m that\u001b[1m\u001b[30m\u001b[102m window\u001b[1m\u001b[30m\u001b[105m,\u001b[1m\u001b[30m\u001b[102m three\u001b[1m\u001b[30m\u001b[105m years\u001b[1m\u001b[30m\u001b[102m ago\u001b[1m\u001b[30m\u001b[105m to\u001b[1m\u001b[30m\u001b[102m a\u001b[1m\u001b[30m\u001b[105m day\u001b[1m\u001b[30m\u001b[102m,\u001b[1m\u001b[30m\u001b[105m her\u001b[1m\u001b[30m\u001b[102m husband\u001b[1m\u001b[30m\u001b[105m and\u001b[1m\u001b[30m\u001b[102m her\u001b[1m\u001b[30m\u001b[105m two\u001b[1m\u001b[30m\u001b[102m young\u001b[1m\u001b[30m\u001b[105m brothers\u001b[1m\u001b[30m\u001b[102m went\u001b[1m\u001b[30m\u001b[105m off\u001b[1m\u001b[30m\u001b[102m for\u001b[1m\u001b[30m\u001b[105m their\u001b[1m\u001b[30m\u001b[102m day\u001b[1m\u001b[30m\u001b[105m's\u001b[1m\u001b[30m\u001b[102m shooting\u001b[1m\u001b[30m\u001b[105m.\u001b[1m\u001b[30m\u001b[102m They\u001b[1m\u001b[30m\u001b[105m never\u001b[1m\u001b[30m\u001b[102m came\u001b[1m\u001b[30m\u001b[105m back\u001b[1m\u001b[30m\u001b[102m.\u001b[1m\u001b[30m\u001b[105m Inc\u001b[1m\u001b[30m\u001b[102mross\u001b[1m\u001b[30m\u001b[105ming\u001b[1m\u001b[30m\u001b[102m the\u001b[1m\u001b[30m\u001b[105m mo\u001b[1m\u001b[30m\u001b[102mor\u001b[1m\u001b[30m\u001b[105m to\u001b[1m\u001b[30m\u001b[102m their\u001b[1m\u001b[30m\u001b[105m favorite\u001b[1m\u001b[30m\u001b[102m sn\u001b[1m\u001b[30m\u001b[105mipe\u001b[1m\u001b[30m\u001b[102m-sh\u001b[1m\u001b[30m\u001b[105mooting\u001b[1m\u001b[30m\u001b[102m ground\u001b[1m\u001b[30m\u001b[105m they\u001b[1m\u001b[30m\u001b[102m were\u001b[1m\u001b[30m\u001b[105m all\u001b[1m\u001b[30m\u001b[102m three\u001b[1m\u001b[30m\u001b[105m engulf\u001b[1m\u001b[30m\u001b[102med\u001b[1m\u001b[30m\u001b[105m in\u001b[1m\u001b[30m\u001b[102m a\u001b[1m\u001b[30m\u001b[105m tre\u001b[1m\u001b[30m\u001b[102macher\u001b[1m\u001b[30m\u001b[105mous\u001b[1m\u001b[30m\u001b[102m piece\u001b[1m\u001b[30m\u001b[105m of\u001b[1m\u001b[30m\u001b[102m bog\u001b[1m\u001b[30m\u001b[105m.\u001b[1m\u001b[30m\u001b[102m It\u001b[1m\u001b[30m\u001b[105m had\u001b[1m\u001b[30m\u001b[102m been\u001b[1m\u001b[30m\u001b[105m that\u001b[1m\u001b[30m\u001b[102m dreadful\u001b[1m\u001b[30m\u001b[105m wet\u001b[1m\u001b[30m\u001b[102m summer\u001b[1m\u001b[30m\u001b[105m,\u001b[1m\u001b[30m\u001b[102m you\u001b[1m\u001b[30m\u001b[105m know\u001b[1m\u001b[30m\u001b[102m,\u001b[1m\u001b[30m\u001b[105m and\u001b[1m\u001b[30m\u001b[102m places\u001b[1m\u001b[30m\u001b[105m that\u001b[1m\u001b[30m\u001b[102m were\u001b[1m\u001b[30m\u001b[105m safe\u001b[1m\u001b[30m\u001b[102m in\u001b[1m\u001b[30m\u001b[105m other\u001b[1m\u001b[30m\u001b[102m years\u001b[1m\u001b[30m\u001b[105m gave\u001b[1m\u001b[30m\u001b[102m way\u001b[1m\u001b[30m\u001b[105m suddenly\u001b[1m\u001b[30m\u001b[102m without\u001b[1m\u001b[30m\u001b[105m warning\u001b[1m\u001b[30m\u001b[102m.\u001b[1m\u001b[30m\u001b[105m Their\u001b[1m\u001b[30m\u001b[102m bodies\u001b[1m\u001b[30m\u001b[105m were\u001b[1m\u001b[30m\u001b[102m never\u001b[1m\u001b[30m\u001b[105m recovered\u001b[1m\u001b[30m\u001b[102m.\u001b[1m\u001b[30m\u001b[105m That\u001b[1m\u001b[30m\u001b[102m was\u001b[1m\u001b[30m\u001b[105m the\u001b[1m\u001b[30m\u001b[102m dreadful\u001b[1m\u001b[30m\u001b[105m part\u001b[1m\u001b[30m\u001b[102m of\u001b[1m\u001b[30m\u001b[105m it\u001b[1m\u001b[30m\u001b[102m.\"\u001b[1m\u001b[30m\u001b[105m \u001b[1m\u001b[30m\u001b[102m Here\u001b[1m\u001b[30m\u001b[105m the\u001b[1m\u001b[30m\u001b[102m child\u001b[1m\u001b[30m\u001b[105m's\u001b[1m\u001b[30m\u001b[102m voice\u001b[1m\u001b[30m\u001b[105m lost\u001b[1m\u001b[30m\u001b[102m its\u001b[1m\u001b[30m\u001b[105m self\u001b[1m\u001b[30m\u001b[102m-\u001b[1m\u001b[30m\u001b[105mposs\u001b[1m\u001b[30m\u001b[102messed\u001b[1m\u001b[30m\u001b[105m note\u001b[1m\u001b[30m\u001b[102m and\u001b[1m\u001b[30m\u001b[105m became\u001b[1m\u001b[30m\u001b[102mf\u001b[1m\u001b[30m\u001b[105malter\u001b[1m\u001b[30m\u001b[102mingly\u001b[1m\u001b[30m\u001b[105m human\u001b[1m\u001b[30m\u001b[102m.\u001b[1m\u001b[30m\u001b[105m \"\u001b[1m\u001b[30m\u001b[102mPoor\u001b[1m\u001b[30m\u001b[105m aunt\u001b[1m\u001b[30m\u001b[102m always\u001b[1m\u001b[30m\u001b[105m thinks\u001b[1m\u001b[30m\u001b[102m that\u001b[1m\u001b[30m\u001b[105m they\u001b[1m\u001b[30m\u001b[102m will\u001b[1m\u001b[30m\u001b[105m come\u001b[1m\u001b[30m\u001b[102m back\u001b[1m\u001b[30m\u001b[105m someday\u001b[1m\u001b[30m\u001b[102m,\u001b[1m\u001b[30m\u001b[105m they\u001b[1m\u001b[30m\u001b[102m and\u001b[1m\u001b[30m\u001b[105m the\u001b[1m\u001b[30m\u001b[102m little\u001b[1m\u001b[30m\u001b[105m brown\u001b[1m\u001b[30m\u001b[102m span\u001b[1m\u001b[30m\u001b[105miel\u001b[1m\u001b[30m\u001b[102m that\u001b[1m\u001b[30m\u001b[105m was\u001b[1m\u001b[30m\u001b[102m lost\u001b[1m\u001b[30m\u001b[105m with\u001b[1m\u001b[30m\u001b[102m them\u001b[1m\u001b[30m\u001b[105m,\u001b[1m\u001b[30m\u001b[102m and\u001b[1m\u001b[30m\u001b[105m walk\u001b[1m\u001b[30m\u001b[102m in\u001b[1m\u001b[30m\u001b[105m at\u001b[1m\u001b[30m\u001b[102m that\u001b[1m\u001b[30m\u001b[105m window\u001b[1m\u001b[30m\u001b[102m just\u001b[1m\u001b[30m\u001b[105m as\u001b[1m\u001b[30m\u001b[102m they\u001b[1m\u001b[30m\u001b[105m used\u001b[1m\u001b[30m\u001b[102m to\u001b[1m\u001b[30m\u001b[105m do\u001b[1m\u001b[30m\u001b[102m.\u001b[1m\u001b[30m\u001b[105m That\u001b[1m\u001b[30m\u001b[102m is\u001b[1m\u001b[30m\u001b[105m why\u001b[1m\u001b[30m\u001b[102m the\u001b[1m\u001b[30m\u001b[105m window\u001b[1m\u001b[30m\u001b[102m is\u001b[1m\u001b[30m\u001b[105m kept\u001b[1m\u001b[30m\u001b[102m open\u001b[1m\u001b[30m\u001b[105m every\u001b[1m\u001b[30m\u001b[102m evening\u001b[1m\u001b[30m\u001b[105m till\u001b[1m\u001b[30m\u001b[102m it\u001b[1m\u001b[30m\u001b[105m is\u001b[1m\u001b[30m\u001b[102m quite\u001b[1m\u001b[30m\u001b[105m dusk\u001b[1m\u001b[30m\u001b[102m.\u001b[1m\u001b[30m\u001b[105m \u001b[1m\u001b[30m\u001b[102m \"\u001b[1m\u001b[30m\u001b[105mPoor\u001b[1m\u001b[30m\u001b[102m dear\u001b[1m\u001b[30m\u001b[105m aunt\u001b[1m\u001b[30m\u001b[102m,\u001b[1m\u001b[30m\u001b[105m she\u001b[1m\u001b[30m\u001b[102m has\u001b[1m\u001b[30m\u001b[105m often\u001b[1m\u001b[30m\u001b[102m told\u001b[1m\u001b[30m\u001b[105m me\u001b[1m\u001b[30m\u001b[102m how\u001b[1m\u001b[30m\u001b[105m they\u001b[1m\u001b[30m\u001b[102m went\u001b[1m\u001b[30m\u001b[105m out\u001b[1m\u001b[30m\u001b[102m,\u001b[1m\u001b[30m\u001b[105m her\u001b[1m\u001b[30m\u001b[102m husband\u001b[1m\u001b[30m\u001b[105m with\u001b[1m\u001b[30m\u001b[102m his\u001b[1m\u001b[30m\u001b[105m white\u001b[1m\u001b[30m\u001b[102m waterproof\u001b[1m\u001b[30m\u001b[105m coat\u001b[1m\u001b[30m\u001b[102m over\u001b[1m\u001b[30m\u001b[105m his\u001b[1m\u001b[30m\u001b[102m arm\u001b[1m\u001b[30m\u001b[105m,\u001b[1m\u001b[30m\u001b[102m and\u001b[1m\u001b[30m\u001b[105m Ronnie\u001b[1m\u001b[30m\u001b[102m,\u001b[1m\u001b[30m\u001b[105m her\u001b[1m\u001b[30m\u001b[102m youngest\u001b[1m\u001b[30m\u001b[105m brother\u001b[1m\u001b[30m\u001b[102m,\u001b[1m\u001b[30m\u001b[105m singing\u001b[1m\u001b[30m\u001b[102m '\u001b[1m\u001b[30m\u001b[105mB\u001b[1m\u001b[30m\u001b[102mert\u001b[1m\u001b[30m\u001b[105mie\u001b[1m\u001b[30m\u001b[102m,\u001b[1m\u001b[30m\u001b[105m why\u001b[1m\u001b[30m\u001b[102m do\u001b[1m\u001b[30m\u001b[105m you\u001b[1m\u001b[30m\u001b[102m bound\u001b[1m\u001b[30m\u001b[105m?'\u001b[1m\u001b[30m\u001b[102m as\u001b[1m\u001b[30m\u001b[105m he\u001b[1m\u001b[30m\u001b[102m always\u001b[1m\u001b[30m\u001b[105m did\u001b[1m\u001b[30m\u001b[102m to\u001b[1m\u001b[30m\u001b[105m tease\u001b[1m\u001b[30m\u001b[102m her\u001b[1m\u001b[30m\u001b[105m,\u001b[1m\u001b[30m\u001b[102m because\u001b[1m\u001b[30m\u001b[105m she\u001b[1m\u001b[30m\u001b[102m said\u001b[1m\u001b[30m\u001b[105m it\u001b[1m\u001b[30m\u001b[102m got\u001b[1m\u001b[30m\u001b[105m on\u001b[1m\u001b[30m\u001b[102m her\u001b[1m\u001b[30m\u001b[105m nerves\u001b[1m\u001b[30m\u001b[102m.\u001b[1m\u001b[30m\u001b[105m Do\u001b[1m\u001b[30m\u001b[102m you\u001b[1m\u001b[30m\u001b[105m know\u001b[1m\u001b[30m\u001b[102m,\u001b[1m\u001b[30m\u001b[105m sometimes\u001b[1m\u001b[30m\u001b[102m on\u001b[1m\u001b[30m\u001b[105m still\u001b[1m\u001b[30m\u001b[102m,\u001b[1m\u001b[30m\u001b[105m quiet\u001b[1m\u001b[30m\u001b[102m evenings\u001b[1m\u001b[30m\u001b[105m like\u001b[1m\u001b[30m\u001b[102m this\u001b[1m\u001b[30m\u001b[105m,\u001b[1m\u001b[30m\u001b[102m I\u001b[1m\u001b[30m\u001b[105m almost\u001b[1m\u001b[30m\u001b[102m get\u001b[1m\u001b[30m\u001b[105m a\u001b[1m\u001b[30m\u001b[102m creepy\u001b[1m\u001b[30m\u001b[105m feeling\u001b[1m\u001b[30m\u001b[102m that\u001b[1m\u001b[30m\u001b[105m they\u001b[1m\u001b[30m\u001b[102m will\u001b[1m\u001b[30m\u001b[105m all\u001b[1m\u001b[30m\u001b[102m walk\u001b[1m\u001b[30m\u001b[105m in\u001b[1m\u001b[30m\u001b[102m through\u001b[1m\u001b[30m\u001b[105m that\u001b[1m\u001b[30m\u001b[102m window\u001b[1m\u001b[30m\u001b[105m--\u001b[1m\u001b[30m\u001b[102m\"\u001b[1m\u001b[30m\u001b[105m \u001b[1m\u001b[30m\u001b[102m She\u001b[1m\u001b[30m\u001b[105m broke\u001b[1m\u001b[30m\u001b[102m off\u001b[1m\u001b[30m\u001b[105m with\u001b[1m\u001b[30m\u001b[102m a\u001b[1m\u001b[30m\u001b[105m little\u001b[1m\u001b[30m\u001b[102m sh\u001b[1m\u001b[30m\u001b[105mudder\u001b[1m\u001b[30m\u001b[102m.\u001b[1m\u001b[30m\u001b[105m It\u001b[1m\u001b[30m\u001b[102m was\u001b[1m\u001b[30m\u001b[105m a\u001b[1m\u001b[30m\u001b[102m relief\u001b[1m\u001b[30m\u001b[105m to\u001b[1m\u001b[30m\u001b[102m Fram\u001b[1m\u001b[30m\u001b[105mton\u001b[1m\u001b[30m\u001b[102m when\u001b[1m\u001b[30m\u001b[105m the\u001b[1m\u001b[30m\u001b[102m aunt\u001b[1m\u001b[30m\u001b[105m bust\u001b[1m\u001b[30m\u001b[102mled\u001b[1m\u001b[30m\u001b[105m into\u001b[1m\u001b[30m\u001b[102m the\u001b[1m\u001b[30m\u001b[105m room\u001b[1m\u001b[30m\u001b[102m with\u001b[1m\u001b[30m\u001b[105m a\u001b[1m\u001b[30m\u001b[102m whirl\u001b[1m\u001b[30m\u001b[105m of\u001b[1m\u001b[30m\u001b[102m apologies\u001b[1m\u001b[30m\u001b[105m for\u001b[1m\u001b[30m\u001b[102m being\u001b[1m\u001b[30m\u001b[105m late\u001b[1m\u001b[30m\u001b[102m in\u001b[1m\u001b[30m\u001b[105m making\u001b[1m\u001b[30m\u001b[102m her\u001b[1m\u001b[30m\u001b[105m appearance\u001b[1m\u001b[30m\u001b[102m.\u001b[1m\u001b[30m\u001b[105m \u001b[1m\u001b[30m\u001b[102m \"\u001b[1m\u001b[30m\u001b[105mI\u001b[1m\u001b[30m\u001b[102m hope\u001b[1m\u001b[30m\u001b[105m Vera\u001b[1m\u001b[30m\u001b[102m has\u001b[1m\u001b[30m\u001b[105m been\u001b[1m\u001b[30m\u001b[102m amusing\u001b[1m\u001b[30m\u001b[105m you\u001b[1m\u001b[30m\u001b[102m?\"\u001b[1m\u001b[30m\u001b[105m she\u001b[1m\u001b[30m\u001b[102m said\u001b[1m\u001b[30m\u001b[105m.\u001b[1m\u001b[30m\u001b[102m \u001b[1m\u001b[30m\u001b[105m \"\u001b[1m\u001b[30m\u001b[102mShe\u001b[1m\u001b[30m\u001b[105m has\u001b[1m\u001b[30m\u001b[102m been\u001b[1m\u001b[30m\u001b[105m very\u001b[1m\u001b[30m\u001b[102m interesting\u001b[1m\u001b[30m\u001b[105m,\"\u001b[1m\u001b[30m\u001b[102m said\u001b[1m\u001b[30m\u001b[105m Fram\u001b[1m\u001b[30m\u001b[102mton\u001b[1m\u001b[30m\u001b[105m.\u001b[1m\u001b[30m\u001b[102m \u001b[1m\u001b[30m\u001b[105m \"\u001b[1m\u001b[30m\u001b[102mI\u001b[1m\u001b[30m\u001b[105m hope\u001b[1m\u001b[30m\u001b[102m you\u001b[1m\u001b[30m\u001b[105m don\u001b[1m\u001b[30m\u001b[102m't\u001b[1m\u001b[30m\u001b[105m mind\u001b[1m\u001b[30m\u001b[102m the\u001b[1m\u001b[30m\u001b[105m open\u001b[1m\u001b[30m\u001b[102m window\u001b[1m\u001b[30m\u001b[105m,\"\u001b[1m\u001b[30m\u001b[102m said\u001b[1m\u001b[30m\u001b[105m Mrs\u001b[1m\u001b[30m\u001b[102m.\u001b[1m\u001b[30m\u001b[105m S\u001b[1m\u001b[30m\u001b[102mapp\u001b[1m\u001b[30m\u001b[105mleton\u001b[1m\u001b[30m\u001b[102m brisk\u001b[1m\u001b[30m\u001b[105mly\u001b[1m\u001b[30m\u001b[102m;\u001b[1m\u001b[30m\u001b[105m \"\u001b[1m\u001b[30m\u001b[102mmy\u001b[1m\u001b[30m\u001b[105m husband\u001b[1m\u001b[30m\u001b[102m and\u001b[1m\u001b[30m\u001b[105m brothers\u001b[1m\u001b[30m\u001b[102m will\u001b[1m\u001b[30m\u001b[105m be\u001b[1m\u001b[30m\u001b[102m home\u001b[1m\u001b[30m\u001b[105m directly\u001b[1m\u001b[30m\u001b[102m from\u001b[1m\u001b[30m\u001b[105m shooting\u001b[1m\u001b[30m\u001b[102m,\u001b[1m\u001b[30m\u001b[105m and\u001b[1m\u001b[30m\u001b[102m they\u001b[1m\u001b[30m\u001b[105m always\u001b[1m\u001b[30m\u001b[102m come\u001b[1m\u001b[30m\u001b[105m in\u001b[1m\u001b[30m\u001b[102m this\u001b[1m\u001b[30m\u001b[105m way\u001b[1m\u001b[30m\u001b[102m.\u001b[1m\u001b[30m\u001b[105m They\u001b[1m\u001b[30m\u001b[102m've\u001b[1m\u001b[30m\u001b[105m been\u001b[1m\u001b[30m\u001b[102m out\u001b[1m\u001b[30m\u001b[105m for\u001b[1m\u001b[30m\u001b[102m sn\u001b[1m\u001b[30m\u001b[105mipe\u001b[1m\u001b[30m\u001b[102m in\u001b[1m\u001b[30m\u001b[105m the\u001b[1m\u001b[30m\u001b[102m marsh\u001b[1m\u001b[30m\u001b[105mes\u001b[1m\u001b[30m\u001b[102m today\u001b[1m\u001b[30m\u001b[105m,\u001b[1m\u001b[30m\u001b[102m so\u001b[1m\u001b[30m\u001b[105m they\u001b[1m\u001b[30m\u001b[102m'll\u001b[1m\u001b[30m\u001b[105m make\u001b[1m\u001b[30m\u001b[102m a\u001b[1m\u001b[30m\u001b[105m fine\u001b[1m\u001b[30m\u001b[102m mess\u001b[1m\u001b[30m\u001b[105m over\u001b[1m\u001b[30m\u001b[102m my\u001b[1m\u001b[30m\u001b[105m poor\u001b[1m\u001b[30m\u001b[102m carpets\u001b[1m\u001b[30m\u001b[105m.\u001b[1m\u001b[30m\u001b[102m \u001b[1m\u001b[30m\u001b[105m So\u001b[1m\u001b[30m\u001b[102m like\u001b[1m\u001b[30m\u001b[105m you\u001b[1m\u001b[30m\u001b[102m men\u001b[1m\u001b[30m\u001b[105mfolk\u001b[1m\u001b[30m\u001b[102m,\u001b[1m\u001b[30m\u001b[105m isn\u001b[1m\u001b[30m\u001b[102m't\u001b[1m\u001b[30m\u001b[105m it\u001b[1m\u001b[30m\u001b[102m?\"\u001b[1m\u001b[30m\u001b[105m \u001b[1m\u001b[30m\u001b[102m She\u001b[1m\u001b[30m\u001b[105m ratt\u001b[1m\u001b[30m\u001b[102mled\u001b[1m\u001b[30m\u001b[105m on\u001b[1m\u001b[30m\u001b[102m cheer\u001b[1m\u001b[30m\u001b[105mfully\u001b[1m\u001b[30m\u001b[102m about\u001b[1m\u001b[30m\u001b[105m the\u001b[1m\u001b[30m\u001b[102m shooting\u001b[1m\u001b[30m\u001b[105m and\u001b[1m\u001b[30m\u001b[102m the\u001b[1m\u001b[30m\u001b[105m scarcity\u001b[1m\u001b[30m\u001b[102m of\u001b[1m\u001b[30m\u001b[105m birds\u001b[1m\u001b[30m\u001b[102m,\u001b[1m\u001b[30m\u001b[105m and\u001b[1m\u001b[30m\u001b[102m the\u001b[1m\u001b[30m\u001b[105m prospects\u001b[1m\u001b[30m\u001b[102m for\u001b[1m\u001b[30m\u001b[105m duck\u001b[1m\u001b[30m\u001b[102m in\u001b[1m\u001b[30m\u001b[105m the\u001b[1m\u001b[30m\u001b[102m winter\u001b[1m\u001b[30m\u001b[105m.\u001b[1m\u001b[30m\u001b[102m \u001b[1m\u001b[30m\u001b[105m To\u001b[1m\u001b[30m\u001b[102m Fram\u001b[1m\u001b[30m\u001b[105mton\u001b[1m\u001b[30m\u001b[102m it\u001b[1m\u001b[30m\u001b[105m was\u001b[1m\u001b[30m\u001b[102m all\u001b[1m\u001b[30m\u001b[105m purely\u001b[1m\u001b[30m\u001b[102m horrible\u001b[1m\u001b[30m\u001b[105m.\u001b[1m\u001b[30m\u001b[102m \u001b[1m\u001b[30m\u001b[105m He\u001b[1m\u001b[30m\u001b[102m made\u001b[1m\u001b[30m\u001b[105m a\u001b[1m\u001b[30m\u001b[102m desperate\u001b[1m\u001b[30m\u001b[105m but\u001b[1m\u001b[30m\u001b[102m only\u001b[1m\u001b[30m\u001b[105m partially\u001b[1m\u001b[30m\u001b[102m successful\u001b[1m\u001b[30m\u001b[105m effort\u001b[1m\u001b[30m\u001b[102m to\u001b[1m\u001b[30m\u001b[105m turn\u001b[1m\u001b[30m\u001b[102m the\u001b[1m\u001b[30m\u001b[105m talk\u001b[1m\u001b[30m\u001b[102m on\u001b[1m\u001b[30m\u001b[105m to\u001b[1m\u001b[30m\u001b[102m a\u001b[1m\u001b[30m\u001b[105m less\u001b[1m\u001b[30m\u001b[102m gh\u001b[1m\u001b[30m\u001b[105mast\u001b[1m\u001b[30m\u001b[102mly\u001b[1m\u001b[30m\u001b[105m topic\u001b[1m\u001b[30m\u001b[102m,\u001b[1m\u001b[30m\u001b[105m he\u001b[1m\u001b[30m\u001b[102m was\u001b[1m\u001b[30m\u001b[105m conscious\u001b[1m\u001b[30m\u001b[102m that\u001b[1m\u001b[30m\u001b[105m his\u001b[1m\u001b[30m\u001b[102m host\u001b[1m\u001b[30m\u001b[105mess\u001b[1m\u001b[30m\u001b[102m was\u001b[1m\u001b[30m\u001b[105m giving\u001b[1m\u001b[30m\u001b[102m him\u001b[1m\u001b[30m\u001b[105m only\u001b[1m\u001b[30m\u001b[102m a\u001b[1m\u001b[30m\u001b[105m fragment\u001b[1m\u001b[30m\u001b[102m of\u001b[1m\u001b[30m\u001b[105m her\u001b[1m\u001b[30m\u001b[102m attention\u001b[1m\u001b[30m\u001b[105m,\u001b[1m\u001b[30m\u001b[102m and\u001b[1m\u001b[30m\u001b[105m her\u001b[1m\u001b[30m\u001b[102m eyes\u001b[1m\u001b[30m\u001b[105m were\u001b[1m\u001b[30m\u001b[102m constantly\u001b[1m\u001b[30m\u001b[105m str\u001b[1m\u001b[30m\u001b[102maying\u001b[1m\u001b[30m\u001b[105m past\u001b[1m\u001b[30m\u001b[102m him\u001b[1m\u001b[30m\u001b[105m to\u001b[1m\u001b[30m\u001b[102m the\u001b[1m\u001b[30m\u001b[105m open\u001b[1m\u001b[30m\u001b[102m window\u001b[1m\u001b[30m\u001b[105m and\u001b[1m\u001b[30m\u001b[102m the\u001b[1m\u001b[30m\u001b[105m lawn\u001b[1m\u001b[30m\u001b[102m beyond\u001b[1m\u001b[30m\u001b[105m.\u001b[1m\u001b[30m\u001b[102m It\u001b[1m\u001b[30m\u001b[105m was\u001b[1m\u001b[30m\u001b[102m certainly\u001b[1m\u001b[30m\u001b[105m an\u001b[1m\u001b[30m\u001b[102m unfortunate\u001b[1m\u001b[30m\u001b[105m coincidence\u001b[1m\u001b[30m\u001b[102m that\u001b[1m\u001b[30m\u001b[105m he\u001b[1m\u001b[30m\u001b[102m should\u001b[1m\u001b[30m\u001b[105m have\u001b[1m\u001b[30m\u001b[102m paid\u001b[1m\u001b[30m\u001b[105m his\u001b[1m\u001b[30m\u001b[102m visit\u001b[1m\u001b[30m\u001b[105m on\u001b[1m\u001b[30m\u001b[102m this\u001b[1m\u001b[30m\u001b[105m tragic\u001b[1m\u001b[30m\u001b[102m anniversary\u001b[1m\u001b[30m\u001b[105m.\u001b[1m\u001b[30m\u001b[102m \u001b[1m\u001b[30m\u001b[105m \"\u001b[1m\u001b[30m\u001b[102mThe\u001b[1m\u001b[30m\u001b[105m doctors\u001b[1m\u001b[30m\u001b[102m agree\u001b[1m\u001b[30m\u001b[105m in\u001b[1m\u001b[30m\u001b[102m ordering\u001b[1m\u001b[30m\u001b[105m me\u001b[1m\u001b[30m\u001b[102m complete\u001b[1m\u001b[30m\u001b[105m rest\u001b[1m\u001b[30m\u001b[102m,\u001b[1m\u001b[30m\u001b[105m an\u001b[1m\u001b[30m\u001b[102m absence\u001b[1m\u001b[30m\u001b[105m of\u001b[1m\u001b[30m\u001b[102m mental\u001b[1m\u001b[30m\u001b[105m excitement\u001b[1m\u001b[30m\u001b[102m,\u001b[1m\u001b[30m\u001b[105m and\u001b[1m\u001b[30m\u001b[102m avoidance\u001b[1m\u001b[30m\u001b[105m of\u001b[1m\u001b[30m\u001b[102m anything\u001b[1m\u001b[30m\u001b[105m in\u001b[1m\u001b[30m\u001b[102m the\u001b[1m\u001b[30m\u001b[105m nature\u001b[1m\u001b[30m\u001b[102m of\u001b[1m\u001b[30m\u001b[105m violent\u001b[1m\u001b[30m\u001b[102m physical\u001b[1m\u001b[30m\u001b[105m exercise\u001b[1m\u001b[30m\u001b[102m,\"\u001b[1m\u001b[30m\u001b[105m announced\u001b[1m\u001b[30m\u001b[102m Fram\u001b[1m\u001b[30m\u001b[105mton\u001b[1m\u001b[30m\u001b[102m,\u001b[1m\u001b[30m\u001b[105m who\u001b[1m\u001b[30m\u001b[102m lab\u001b[1m\u001b[30m\u001b[105mored\u001b[1m\u001b[30m\u001b[102m under\u001b[1m\u001b[30m\u001b[105m the\u001b[1m\u001b[30m\u001b[102m toler\u001b[1m\u001b[30m\u001b[105mably\u001b[1m\u001b[30m\u001b[102m widespread\u001b[1m\u001b[30m\u001b[105m del\u001b[1m\u001b[30m\u001b[102musion\u001b[1m\u001b[30m\u001b[105m that\u001b[1m\u001b[30m\u001b[102m total\u001b[1m\u001b[30m\u001b[105m strangers\u001b[1m\u001b[30m\u001b[102m and\u001b[1m\u001b[30m\u001b[105m chance\u001b[1m\u001b[30m\u001b[102m acquaint\u001b[1m\u001b[30m\u001b[105mances\u001b[1m\u001b[30m\u001b[102m are\u001b[1m\u001b[30m\u001b[105m hungry\u001b[1m\u001b[30m\u001b[102m for\u001b[1m\u001b[30m\u001b[105m the\u001b[1m\u001b[30m\u001b[102m least\u001b[1m\u001b[30m\u001b[105m detail\u001b[1m\u001b[30m\u001b[102m of\u001b[1m\u001b[30m\u001b[105m one\u001b[1m\u001b[30m\u001b[102m's\u001b[1m\u001b[30m\u001b[105m ailments\u001b[1m\u001b[30m\u001b[102m and\u001b[1m\u001b[30m\u001b[105m inf\u001b[1m\u001b[30m\u001b[102mirm\u001b[1m\u001b[30m\u001b[105mities\u001b[1m\u001b[30m\u001b[102m,\u001b[1m\u001b[30m\u001b[105m their\u001b[1m\u001b[30m\u001b[102m cause\u001b[1m\u001b[30m\u001b[105m and\u001b[1m\u001b[30m\u001b[102m cure\u001b[1m\u001b[30m\u001b[105m.\u001b[1m\u001b[30m\u001b[102m \"\u001b[1m\u001b[30m\u001b[105mOn\u001b[1m\u001b[30m\u001b[102m the\u001b[1m\u001b[30m\u001b[105m matter\u001b[1m\u001b[30m\u001b[102m of\u001b[1m\u001b[30m\u001b[105m diet\u001b[1m\u001b[30m\u001b[102m they\u001b[1m\u001b[30m\u001b[105m are\u001b[1m\u001b[30m\u001b[102m not\u001b[1m\u001b[30m\u001b[105m so\u001b[1m\u001b[30m\u001b[102m much\u001b[1m\u001b[30m\u001b[105m in\u001b[1m\u001b[30m\u001b[102m agreement\u001b[1m\u001b[30m\u001b[105m,\"\u001b[1m\u001b[30m\u001b[102m he\u001b[1m\u001b[30m\u001b[105m continued\u001b[1m\u001b[30m\u001b[102m.\u001b[1m\u001b[30m\u001b[105m \u001b[1m\u001b[30m\u001b[102m \"\u001b[1m\u001b[30m\u001b[105mNo\u001b[1m\u001b[30m\u001b[102m?\"\u001b[1m\u001b[30m\u001b[105m said\u001b[1m\u001b[30m\u001b[102m Mrs\u001b[1m\u001b[30m\u001b[105m.\u001b[1m\u001b[30m\u001b[102m S\u001b[1m\u001b[30m\u001b[105mapp\u001b[1m\u001b[30m\u001b[102mleton\u001b[1m\u001b[30m\u001b[105m,\u001b[1m\u001b[30m\u001b[102m in\u001b[1m\u001b[30m\u001b[105m a\u001b[1m\u001b[30m\u001b[102m voice\u001b[1m\u001b[30m\u001b[105m which\u001b[1m\u001b[30m\u001b[102m only\u001b[1m\u001b[30m\u001b[105m replaced\u001b[1m\u001b[30m\u001b[102m a\u001b[1m\u001b[30m\u001b[105m y\u001b[1m\u001b[30m\u001b[102mawn\u001b[1m\u001b[30m\u001b[105m at\u001b[1m\u001b[30m\u001b[102m the\u001b[1m\u001b[30m\u001b[105m last\u001b[1m\u001b[30m\u001b[102m moment\u001b[1m\u001b[30m\u001b[105m.\u001b[1m\u001b[30m\u001b[102m Then\u001b[1m\u001b[30m\u001b[105m she\u001b[1m\u001b[30m\u001b[102m suddenly\u001b[1m\u001b[30m\u001b[105m bright\u001b[1m\u001b[30m\u001b[102mened\u001b[1m\u001b[30m\u001b[105m into\u001b[1m\u001b[30m\u001b[102m alert\u001b[1m\u001b[30m\u001b[105m attention\u001b[1m\u001b[30m\u001b[102m--\u001b[1m\u001b[30m\u001b[105mbut\u001b[1m\u001b[30m\u001b[102m not\u001b[1m\u001b[30m\u001b[105m to\u001b[1m\u001b[30m\u001b[102m what\u001b[1m\u001b[30m\u001b[105m Fram\u001b[1m\u001b[30m\u001b[102mton\u001b[1m\u001b[30m\u001b[105m was\u001b[1m\u001b[30m\u001b[102m saying\u001b[1m\u001b[30m\u001b[105m.\u001b[1m\u001b[30m\u001b[102m \u001b[1m\u001b[30m\u001b[105m \"\u001b[1m\u001b[30m\u001b[102mHere\u001b[1m\u001b[30m\u001b[105m they\u001b[1m\u001b[30m\u001b[102m are\u001b[1m\u001b[30m\u001b[105m at\u001b[1m\u001b[30m\u001b[102m last\u001b[1m\u001b[30m\u001b[105m!\"\u001b[1m\u001b[30m\u001b[102m she\u001b[1m\u001b[30m\u001b[105m cried\u001b[1m\u001b[30m\u001b[102m.\u001b[1m\u001b[30m\u001b[105m \"\u001b[1m\u001b[30m\u001b[102mJust\u001b[1m\u001b[30m\u001b[105m in\u001b[1m\u001b[30m\u001b[102m time\u001b[1m\u001b[30m\u001b[105m for\u001b[1m\u001b[30m\u001b[102m tea\u001b[1m\u001b[30m\u001b[105m,\u001b[1m\u001b[30m\u001b[102m and\u001b[1m\u001b[30m\u001b[105m don\u001b[1m\u001b[30m\u001b[102m't\u001b[1m\u001b[30m\u001b[105m they\u001b[1m\u001b[30m\u001b[102mlook\u001b[1m\u001b[30m\u001b[105m as\u001b[1m\u001b[30m\u001b[102m if\u001b[1m\u001b[30m\u001b[105m they\u001b[1m\u001b[30m\u001b[102m were\u001b[1m\u001b[30m\u001b[105m muddy\u001b[1m\u001b[30m\u001b[102m up\u001b[1m\u001b[30m\u001b[105m to\u001b[1m\u001b[30m\u001b[102m the\u001b[1m\u001b[30m\u001b[105m eyes\u001b[1m\u001b[30m\u001b[102m!\"\u001b[1m\u001b[30m\u001b[105m \u001b[1m\u001b[30m\u001b[102m Fram\u001b[1m\u001b[30m\u001b[105mton\u001b[1m\u001b[30m\u001b[102m sh\u001b[1m\u001b[30m\u001b[105mivered\u001b[1m\u001b[30m\u001b[102m slightly\u001b[1m\u001b[30m\u001b[105m and\u001b[1m\u001b[30m\u001b[102m turned\u001b[1m\u001b[30m\u001b[105m towards\u001b[1m\u001b[30m\u001b[102m the\u001b[1m\u001b[30m\u001b[105m niece\u001b[1m\u001b[30m\u001b[102m with\u001b[1m\u001b[30m\u001b[105m a\u001b[1m\u001b[30m\u001b[102m look\u001b[1m\u001b[30m\u001b[105m intended\u001b[1m\u001b[30m\u001b[102m to\u001b[1m\u001b[30m\u001b[105m convey\u001b[1m\u001b[30m\u001b[102m sympathetic\u001b[1m\u001b[30m\u001b[105m comprehension\u001b[1m\u001b[30m\u001b[102m.\u001b[1m\u001b[30m\u001b[105m The\u001b[1m\u001b[30m\u001b[102m child\u001b[1m\u001b[30m\u001b[105m was\u001b[1m\u001b[30m\u001b[102m staring\u001b[1m\u001b[30m\u001b[105m out\u001b[1m\u001b[30m\u001b[102m through\u001b[1m\u001b[30m\u001b[105m the\u001b[1m\u001b[30m\u001b[102m open\u001b[1m\u001b[30m\u001b[105m window\u001b[1m\u001b[30m\u001b[102m with\u001b[1m\u001b[30m\u001b[105m a\u001b[1m\u001b[30m\u001b[102m d\u001b[1m\u001b[30m\u001b[105mazed\u001b[1m\u001b[30m\u001b[102m horror\u001b[1m\u001b[30m\u001b[105m in\u001b[1m\u001b[30m\u001b[102m her\u001b[1m\u001b[30m\u001b[105m eyes\u001b[1m\u001b[30m\u001b[102m.\u001b[1m\u001b[30m\u001b[105m In\u001b[1m\u001b[30m\u001b[102m a\u001b[1m\u001b[30m\u001b[105m chill\u001b[1m\u001b[30m\u001b[102m shock\u001b[1m\u001b[30m\u001b[105m of\u001b[1m\u001b[30m\u001b[102m name\u001b[1m\u001b[30m\u001b[105mless\u001b[1m\u001b[30m\u001b[102m fear\u001b[1m\u001b[30m\u001b[105m Fram\u001b[1m\u001b[30m\u001b[102mton\u001b[1m\u001b[30m\u001b[105m swung\u001b[1m\u001b[30m\u001b[102m round\u001b[1m\u001b[30m\u001b[105m in\u001b[1m\u001b[30m\u001b[102m his\u001b[1m\u001b[30m\u001b[105m seat\u001b[1m\u001b[30m\u001b[102m and\u001b[1m\u001b[30m\u001b[105m looked\u001b[1m\u001b[30m\u001b[102m in\u001b[1m\u001b[30m\u001b[105m the\u001b[1m\u001b[30m\u001b[102m same\u001b[1m\u001b[30m\u001b[105m direction\u001b[1m\u001b[30m\u001b[102m.\u001b[1m\u001b[30m\u001b[105m \u001b[1m\u001b[30m\u001b[102m In\u001b[1m\u001b[30m\u001b[105m the\u001b[1m\u001b[30m\u001b[102m deep\u001b[1m\u001b[30m\u001b[105mening\u001b[1m\u001b[30m\u001b[102m twilight\u001b[1m\u001b[30m\u001b[105m three\u001b[1m\u001b[30m\u001b[102m figures\u001b[1m\u001b[30m\u001b[105m were\u001b[1m\u001b[30m\u001b[102m walking\u001b[1m\u001b[30m\u001b[105m across\u001b[1m\u001b[30m\u001b[102m the\u001b[1m\u001b[30m\u001b[105m lawn\u001b[1m\u001b[30m\u001b[102m towards\u001b[1m\u001b[30m\u001b[105m the\u001b[1m\u001b[30m\u001b[102m window\u001b[1m\u001b[30m\u001b[105m,\u001b[1m\u001b[30m\u001b[102m they\u001b[1m\u001b[30m\u001b[105m all\u001b[1m\u001b[30m\u001b[102m carried\u001b[1m\u001b[30m\u001b[105m guns\u001b[1m\u001b[30m\u001b[102m under\u001b[1m\u001b[30m\u001b[105m their\u001b[1m\u001b[30m\u001b[102m arms\u001b[1m\u001b[30m\u001b[105m,\u001b[1m\u001b[30m\u001b[102m and\u001b[1m\u001b[30m\u001b[105m one\u001b[1m\u001b[30m\u001b[102m of\u001b[1m\u001b[30m\u001b[105m them\u001b[1m\u001b[30m\u001b[102m was\u001b[1m\u001b[30m\u001b[105m additionally\u001b[1m\u001b[30m\u001b[102m burden\u001b[1m\u001b[30m\u001b[105med\u001b[1m\u001b[30m\u001b[102m with\u001b[1m\u001b[30m\u001b[105m a\u001b[1m\u001b[30m\u001b[102m white\u001b[1m\u001b[30m\u001b[105m coat\u001b[1m\u001b[30m\u001b[102m hung\u001b[1m\u001b[30m\u001b[105m over\u001b[1m\u001b[30m\u001b[102m his\u001b[1m\u001b[30m\u001b[105m shoulders\u001b[1m\u001b[30m\u001b[102m.\u001b[1m\u001b[30m\u001b[105m A\u001b[1m\u001b[30m\u001b[102m tired\u001b[1m\u001b[30m\u001b[105m brown\u001b[1m\u001b[30m\u001b[102m span\u001b[1m\u001b[30m\u001b[105miel\u001b[1m\u001b[30m\u001b[102m kept\u001b[1m\u001b[30m\u001b[105m close\u001b[1m\u001b[30m\u001b[102m at\u001b[1m\u001b[30m\u001b[105m their\u001b[1m\u001b[30m\u001b[102m heels\u001b[1m\u001b[30m\u001b[105m.\u001b[1m\u001b[30m\u001b[102m Noise\u001b[1m\u001b[30m\u001b[105mlessly\u001b[1m\u001b[30m\u001b[102m they\u001b[1m\u001b[30m\u001b[105m ne\u001b[1m\u001b[30m\u001b[102mared\u001b[1m\u001b[30m\u001b[105m the\u001b[1m\u001b[30m\u001b[102m house\u001b[1m\u001b[30m\u001b[105m,\u001b[1m\u001b[30m\u001b[102m and\u001b[1m\u001b[30m\u001b[105m then\u001b[1m\u001b[30m\u001b[102m a\u001b[1m\u001b[30m\u001b[105m ho\u001b[1m\u001b[30m\u001b[102marse\u001b[1m\u001b[30m\u001b[105m young\u001b[1m\u001b[30m\u001b[102m voice\u001b[1m\u001b[30m\u001b[105m ch\u001b[1m\u001b[30m\u001b[102manted\u001b[1m\u001b[30m\u001b[105m out\u001b[1m\u001b[30m\u001b[102m of\u001b[1m\u001b[30m\u001b[105m the\u001b[1m\u001b[30m\u001b[102m dusk\u001b[1m\u001b[30m\u001b[105m:\u001b[1m\u001b[30m\u001b[102m \"\u001b[1m\u001b[30m\u001b[105mI\u001b[1m\u001b[30m\u001b[102m said\u001b[1m\u001b[30m\u001b[105m,\u001b[1m\u001b[30m\u001b[102m Bert\u001b[1m\u001b[30m\u001b[105mie\u001b[1m\u001b[30m\u001b[102m,\u001b[1m\u001b[30m\u001b[105m why\u001b[1m\u001b[30m\u001b[102m do\u001b[1m\u001b[30m\u001b[105m you\u001b[1m\u001b[30m\u001b[102m bound\u001b[1m\u001b[30m\u001b[105m?\"\u001b[1m\u001b[30m\u001b[102m \u001b[1m\u001b[30m\u001b[105m Fram\u001b[1m\u001b[30m\u001b[102mton\u001b[1m\u001b[30m\u001b[105m grabbed\u001b[1m\u001b[30m\u001b[102m wildly\u001b[1m\u001b[30m\u001b[105m at\u001b[1m\u001b[30m\u001b[102m his\u001b[1m\u001b[30m\u001b[105m stick\u001b[1m\u001b[30m\u001b[102m and\u001b[1m\u001b[30m\u001b[105m hat\u001b[1m\u001b[30m\u001b[102m;\u001b[1m\u001b[30m\u001b[105m the\u001b[1m\u001b[30m\u001b[102m hall\u001b[1m\u001b[30m\u001b[105m door\u001b[1m\u001b[30m\u001b[102m,\u001b[1m\u001b[30m\u001b[105m the\u001b[1m\u001b[30m\u001b[102m gravel\u001b[1m\u001b[30m\u001b[105m drive\u001b[1m\u001b[30m\u001b[102m,\u001b[1m\u001b[30m\u001b[105m and\u001b[1m\u001b[30m\u001b[102m the\u001b[1m\u001b[30m\u001b[105m front\u001b[1m\u001b[30m\u001b[102m gate\u001b[1m\u001b[30m\u001b[105m were\u001b[1m\u001b[30m\u001b[102m dim\u001b[1m\u001b[30m\u001b[105mly\u001b[1m\u001b[30m\u001b[102m noted\u001b[1m\u001b[30m\u001b[105m stages\u001b[1m\u001b[30m\u001b[102m in\u001b[1m\u001b[30m\u001b[105m his\u001b[1m\u001b[30m\u001b[102m head\u001b[1m\u001b[30m\u001b[105mlong\u001b[1m\u001b[30m\u001b[102m retreat\u001b[1m\u001b[30m\u001b[105m.\u001b[1m\u001b[30m\u001b[102m A\u001b[1m\u001b[30m\u001b[105m cyclist\u001b[1m\u001b[30m\u001b[102m coming\u001b[1m\u001b[30m\u001b[105m along\u001b[1m\u001b[30m\u001b[102m the\u001b[1m\u001b[30m\u001b[105m road\u001b[1m\u001b[30m\u001b[102m had\u001b[1m\u001b[30m\u001b[105m to\u001b[1m\u001b[30m\u001b[102m run\u001b[1m\u001b[30m\u001b[105m into\u001b[1m\u001b[30m\u001b[102m the\u001b[1m\u001b[30m\u001b[105m hedge\u001b[1m\u001b[30m\u001b[102m to\u001b[1m\u001b[30m\u001b[105m avoid\u001b[1m\u001b[30m\u001b[102m imminent\u001b[1m\u001b[30m\u001b[105m collision\u001b[1m\u001b[30m\u001b[102m.\u001b[1m\u001b[30m\u001b[105m \u001b[1m\u001b[30m\u001b[102m \"\u001b[1m\u001b[30m\u001b[105mHere\u001b[1m\u001b[30m\u001b[102m we\u001b[1m\u001b[30m\u001b[105m are\u001b[1m\u001b[30m\u001b[102m,\u001b[1m\u001b[30m\u001b[105m my\u001b[1m\u001b[30m\u001b[102m dear\u001b[1m\u001b[30m\u001b[105m,\"\u001b[1m\u001b[30m\u001b[102m said\u001b[1m\u001b[30m\u001b[105m the\u001b[1m\u001b[30m\u001b[102m bearer\u001b[1m\u001b[30m\u001b[105m of\u001b[1m\u001b[30m\u001b[102m the\u001b[1m\u001b[30m\u001b[105m white\u001b[1m\u001b[30m\u001b[102m m\u001b[1m\u001b[30m\u001b[105mack\u001b[1m\u001b[30m\u001b[102mintosh\u001b[1m\u001b[30m\u001b[105m,\u001b[1m\u001b[30m\u001b[102m coming\u001b[1m\u001b[30m\u001b[105m in\u001b[1m\u001b[30m\u001b[102m through\u001b[1m\u001b[30m\u001b[105m the\u001b[1m\u001b[30m\u001b[102m window\u001b[1m\u001b[30m\u001b[105m,\u001b[1m\u001b[30m\u001b[102m \"\u001b[1m\u001b[30m\u001b[105mfair\u001b[1m\u001b[30m\u001b[102mly\u001b[1m\u001b[30m\u001b[105m muddy\u001b[1m\u001b[30m\u001b[102m,\u001b[1m\u001b[30m\u001b[105m but\u001b[1m\u001b[30m\u001b[102m most\u001b[1m\u001b[30m\u001b[105m of\u001b[1m\u001b[30m\u001b[102m it\u001b[1m\u001b[30m\u001b[105m's\u001b[1m\u001b[30m\u001b[102m dry\u001b[1m\u001b[30m\u001b[105m.\u001b[1m\u001b[30m\u001b[102m Who\u001b[1m\u001b[30m\u001b[105m was\u001b[1m\u001b[30m\u001b[102m that\u001b[1m\u001b[30m\u001b[105m who\u001b[1m\u001b[30m\u001b[102m bolt\u001b[1m\u001b[30m\u001b[105med\u001b[1m\u001b[30m\u001b[102m out\u001b[1m\u001b[30m\u001b[105m as\u001b[1m\u001b[30m\u001b[102m we\u001b[1m\u001b[30m\u001b[105m came\u001b[1m\u001b[30m\u001b[102m up\u001b[1m\u001b[30m\u001b[105m?\"\u001b[1m\u001b[30m\u001b[102m \u001b[1m\u001b[30m\u001b[105m \"\u001b[1m\u001b[30m\u001b[102mA\u001b[1m\u001b[30m\u001b[105m most\u001b[1m\u001b[30m\u001b[102m extraordinary\u001b[1m\u001b[30m\u001b[105m man\u001b[1m\u001b[30m\u001b[102m,\u001b[1m\u001b[30m\u001b[105m a\u001b[1m\u001b[30m\u001b[102m Mr\u001b[1m\u001b[30m\u001b[105m.\u001b[1m\u001b[30m\u001b[102m Nut\u001b[1m\u001b[30m\u001b[105mtel\u001b[1m\u001b[30m\u001b[102m,\"\u001b[1m\u001b[30m\u001b[105m said\u001b[1m\u001b[30m\u001b[102m Mrs\u001b[1m\u001b[30m\u001b[105m.\u001b[1m\u001b[30m\u001b[102m S\u001b[1m\u001b[30m\u001b[105mapp\u001b[1m\u001b[30m\u001b[102mleton\u001b[1m\u001b[30m\u001b[105m;\u001b[1m\u001b[30m\u001b[102m \"\u001b[1m\u001b[30m\u001b[105mcould\u001b[1m\u001b[30m\u001b[102m only\u001b[1m\u001b[30m\u001b[105m talk\u001b[1m\u001b[30m\u001b[102m about\u001b[1m\u001b[30m\u001b[105m his\u001b[1m\u001b[30m\u001b[102m illnesses\u001b[1m\u001b[30m\u001b[105m,\u001b[1m\u001b[30m\u001b[102m and\u001b[1m\u001b[30m\u001b[105m dashed\u001b[1m\u001b[30m\u001b[102m off\u001b[1m\u001b[30m\u001b[105m without\u001b[1m\u001b[30m\u001b[102m a\u001b[1m\u001b[30m\u001b[105m word\u001b[1m\u001b[30m\u001b[102m of\u001b[1m\u001b[30m\u001b[105m good\u001b[1m\u001b[30m\u001b[102mby\u001b[1m\u001b[30m\u001b[105m or\u001b[1m\u001b[30m\u001b[102m apology\u001b[1m\u001b[30m\u001b[105m when\u001b[1m\u001b[30m\u001b[102m you\u001b[1m\u001b[30m\u001b[105m arrived\u001b[1m\u001b[30m\u001b[102m.\u001b[1m\u001b[30m\u001b[105m One\u001b[1m\u001b[30m\u001b[102m would\u001b[1m\u001b[30m\u001b[105m think\u001b[1m\u001b[30m\u001b[102m he\u001b[1m\u001b[30m\u001b[105m had\u001b[1m\u001b[30m\u001b[102m seen\u001b[1m\u001b[30m\u001b[105m a\u001b[1m\u001b[30m\u001b[102m ghost\u001b[1m\u001b[30m\u001b[105m.\"\u001b[1m\u001b[30m\u001b[102m \u001b[1m\u001b[30m\u001b[105m \"\u001b[1m\u001b[30m\u001b[102mI\u001b[1m\u001b[30m\u001b[105m expect\u001b[1m\u001b[30m\u001b[102m it\u001b[1m\u001b[30m\u001b[105m was\u001b[1m\u001b[30m\u001b[102m the\u001b[1m\u001b[30m\u001b[105m span\u001b[1m\u001b[30m\u001b[102miel\u001b[1m\u001b[30m\u001b[105m,\"\u001b[1m\u001b[30m\u001b[102m said\u001b[1m\u001b[30m\u001b[105m the\u001b[1m\u001b[30m\u001b[102m niece\u001b[1m\u001b[30m\u001b[105m calmly\u001b[1m\u001b[30m\u001b[102m;\u001b[1m\u001b[30m\u001b[105m \"\u001b[1m\u001b[30m\u001b[102mhe\u001b[1m\u001b[30m\u001b[105m told\u001b[1m\u001b[30m\u001b[102m me\u001b[1m\u001b[30m\u001b[105m he\u001b[1m\u001b[30m\u001b[102m had\u001b[1m\u001b[30m\u001b[105m a\u001b[1m\u001b[30m\u001b[102m horror\u001b[1m\u001b[30m\u001b[105m of\u001b[1m\u001b[30m\u001b[102m dogs\u001b[1m\u001b[30m\u001b[105m.\u001b[1m\u001b[30m\u001b[102m He\u001b[1m\u001b[30m\u001b[105m was\u001b[1m\u001b[30m\u001b[102m once\u001b[1m\u001b[30m\u001b[105m hunted\u001b[1m\u001b[30m\u001b[102m into\u001b[1m\u001b[30m\u001b[105m a\u001b[1m\u001b[30m\u001b[102m cemetery\u001b[1m\u001b[30m\u001b[105m somewhere\u001b[1m\u001b[30m\u001b[102m on\u001b[1m\u001b[30m\u001b[105m the\u001b[1m\u001b[30m\u001b[102m banks\u001b[1m\u001b[30m\u001b[105m of\u001b[1m\u001b[30m\u001b[102m the\u001b[1m\u001b[30m\u001b[105m G\u001b[1m\u001b[30m\u001b[102manges\u001b[1m\u001b[30m\u001b[105m by\u001b[1m\u001b[30m\u001b[102m a\u001b[1m\u001b[30m\u001b[105m pack\u001b[1m\u001b[30m\u001b[102m of\u001b[1m\u001b[30m\u001b[105m par\u001b[1m\u001b[30m\u001b[102miah\u001b[1m\u001b[30m\u001b[105m dogs\u001b[1m\u001b[30m\u001b[102m,\u001b[1m\u001b[30m\u001b[105m and\u001b[1m\u001b[30m\u001b[102m had\u001b[1m\u001b[30m\u001b[105m to\u001b[1m\u001b[30m\u001b[102m spend\u001b[1m\u001b[30m\u001b[105m the\u001b[1m\u001b[30m\u001b[102m night\u001b[1m\u001b[30m\u001b[105m in\u001b[1m\u001b[30m\u001b[102m a\u001b[1m\u001b[30m\u001b[105m newly\u001b[1m\u001b[30m\u001b[102m dug\u001b[1m\u001b[30m\u001b[105m grave\u001b[1m\u001b[30m\u001b[102m with\u001b[1m\u001b[30m\u001b[105m the\u001b[1m\u001b[30m\u001b[102m creatures\u001b[1m\u001b[30m\u001b[105m sn\u001b[1m\u001b[30m\u001b[102mar\u001b[1m\u001b[30m\u001b[105mling\u001b[1m\u001b[30m\u001b[102m and\u001b[1m\u001b[30m\u001b[105m gr\u001b[1m\u001b[30m\u001b[102minning\u001b[1m\u001b[30m\u001b[105m and\u001b[1m\u001b[30m\u001b[102m fo\u001b[1m\u001b[30m\u001b[105maming\u001b[1m\u001b[30m\u001b[102m just\u001b[1m\u001b[30m\u001b[105m above\u001b[1m\u001b[30m\u001b[102m him\u001b[1m\u001b[30m\u001b[105m.\u001b[1m\u001b[30m\u001b[102m Enough\u001b[1m\u001b[30m\u001b[105m to\u001b[1m\u001b[30m\u001b[102m make\u001b[1m\u001b[30m\u001b[105m anyone\u001b[1m\u001b[30m\u001b[102m lose\u001b[1m\u001b[30m\u001b[105m their\u001b[1m\u001b[30m\u001b[102m nerve\u001b[1m\u001b[30m\u001b[105m.\"\u001b[1m\u001b[30m\u001b[102m \u001b[1m\u001b[30m\u001b[105m Romance\u001b[1m\u001b[30m\u001b[102m at\u001b[1m\u001b[30m\u001b[105m short\u001b[1m\u001b[30m\u001b[102m notice\u001b[1m\u001b[30m\u001b[105m was\u001b[1m\u001b[30m\u001b[102m her\u001b[1m\u001b[30m\u001b[105m special\u001b[1m\u001b[30m\u001b[102mity\u001b[1m\u001b[30m\u001b[105m.\u001b[1m\u001b[30m\u001b[102m   \u001b[1m\u001b[30m\u001b[105m The\u001b[1m\u001b[30m\u001b[102m End\u001b[1m\u001b[30m\u001b[105m.\u001b[0m\n"
     ]
    }
   ],
   "source": [
    "reveal(tow)"
   ]
  },
  {
   "cell_type": "code",
   "execution_count": 105,
   "metadata": {},
   "outputs": [
    {
     "name": "stdout",
     "output_type": "stream",
     "text": [
      "\u001b[1m\u001b[30m\u001b[102m\"My\u001b[1m\u001b[30m\u001b[105m aunt\u001b[1m\u001b[30m\u001b[102m will\u001b[1m\u001b[30m\u001b[105m be\u001b[1m\u001b[30m\u001b[102m down\u001b[1m\u001b[30m\u001b[105m presently\u001b[1m\u001b[30m\u001b[102m,\u001b[1m\u001b[30m\u001b[105m Mr\u001b[1m\u001b[30m\u001b[102m.\u001b[1m\u001b[30m\u001b[105m Nut\u001b[1m\u001b[30m\u001b[102mtel\u001b[1m\u001b[30m\u001b[105m,\"\u001b[1m\u001b[30m\u001b[102m said\u001b[1m\u001b[30m\u001b[105m a\u001b[1m\u001b[30m\u001b[102m very\u001b[1m\u001b[30m\u001b[105m\n",
      "\u001b[1m\u001b[30m\u001b[102mself\u001b[1m\u001b[30m\u001b[105m-\u001b[1m\u001b[30m\u001b[102mposs\u001b[1m\u001b[30m\u001b[105messed\u001b[1m\u001b[30m\u001b[102m young\u001b[1m\u001b[30m\u001b[105m lady\u001b[1m\u001b[30m\u001b[102m of\u001b[1m\u001b[30m\u001b[105m fifteen\u001b[1m\u001b[30m\u001b[102m;\u001b[1m\u001b[30m\u001b[105m \"\u001b[1m\u001b[30m\u001b[102min\u001b[1m\u001b[30m\u001b[105m the\u001b[1m\u001b[30m\u001b[102m meantime\u001b[1m\u001b[30m\u001b[105m you\u001b[1m\u001b[30m\u001b[102m must\u001b[1m\u001b[30m\u001b[105m try\u001b[1m\u001b[30m\u001b[102m\n",
      "\u001b[1m\u001b[30m\u001b[105mand\u001b[1m\u001b[30m\u001b[102m put\u001b[1m\u001b[30m\u001b[105m up\u001b[1m\u001b[30m\u001b[102m with\u001b[1m\u001b[30m\u001b[105m me\u001b[1m\u001b[30m\u001b[102m.\"\n",
      "\n",
      "\u001b[1m\u001b[30m\u001b[105mF\u001b[1m\u001b[30m\u001b[102mram\u001b[1m\u001b[30m\u001b[105mton\u001b[1m\u001b[30m\u001b[102m Nut\u001b[1m\u001b[30m\u001b[105mtel\u001b[1m\u001b[30m\u001b[102m ende\u001b[1m\u001b[30m\u001b[105mavored\u001b[1m\u001b[30m\u001b[102m to\u001b[1m\u001b[30m\u001b[105m say\u001b[1m\u001b[30m\u001b[102m the\u001b[1m\u001b[30m\u001b[105m correct\u001b[1m\u001b[30m\u001b[102m something\u001b[1m\u001b[30m\u001b[105m which\u001b[1m\u001b[30m\u001b[102m should\u001b[1m\u001b[30m\u001b[105m\n",
      "\u001b[1m\u001b[30m\u001b[102md\u001b[1m\u001b[30m\u001b[105muly\u001b[1m\u001b[30m\u001b[102m H\u001b[1m\u001b[30m\u001b[105matter\u001b[1m\u001b[30m\u001b[102m the\u001b[1m\u001b[30m\u001b[105m niece\u001b[1m\u001b[30m\u001b[102m of\u001b[1m\u001b[30m\u001b[105m the\u001b[1m\u001b[30m\u001b[102m moment\u001b[1m\u001b[30m\u001b[105m without\u001b[1m\u001b[30m\u001b[102m und\u001b[1m\u001b[30m\u001b[105muly\u001b[1m\u001b[30m\u001b[102m discount\u001b[1m\u001b[30m\u001b[105ming\u001b[1m\u001b[30m\u001b[102m the\u001b[1m\u001b[30m\u001b[105m\n",
      "\u001b[1m\u001b[30m\u001b[102ma\u001b[1m\u001b[30m\u001b[105munt\u001b[1m\u001b[30m\u001b[102m that\u001b[1m\u001b[30m\u001b[105m was\u001b[1m\u001b[30m\u001b[102m to\u001b[1m\u001b[30m\u001b[105m come\u001b[1m\u001b[30m\u001b[102m.\u001b[1m\u001b[30m\u001b[105m Priv\u001b[1m\u001b[30m\u001b[102mately\u001b[1m\u001b[30m\u001b[105m he\u001b[1m\u001b[30m\u001b[102m doubted\u001b[1m\u001b[30m\u001b[105m more\u001b[1m\u001b[30m\u001b[102m than\u001b[1m\u001b[30m\u001b[105m ever\u001b[1m\u001b[30m\u001b[102m whether\u001b[1m\u001b[30m\u001b[105m\n",
      "\u001b[1m\u001b[30m\u001b[102mthese\u001b[1m\u001b[30m\u001b[105m formal\u001b[1m\u001b[30m\u001b[102m visits\u001b[1m\u001b[30m\u001b[105m on\u001b[1m\u001b[30m\u001b[102m a\u001b[1m\u001b[30m\u001b[105m succession\u001b[1m\u001b[30m\u001b[102m of\u001b[1m\u001b[30m\u001b[105m total\u001b[1m\u001b[30m\u001b[102m strangers\u001b[1m\u001b[30m\u001b[105m would\u001b[1m\u001b[30m\u001b[102m do\u001b[1m\u001b[30m\u001b[105m very\u001b[1m\u001b[30m\u001b[102m\n",
      "\u001b[1m\u001b[30m\u001b[105mmuch\u001b[1m\u001b[30m\u001b[102m towards\u001b[1m\u001b[30m\u001b[105m helping\u001b[1m\u001b[30m\u001b[102m the\u001b[1m\u001b[30m\u001b[105m nerve\u001b[1m\u001b[30m\u001b[102m cure\u001b[1m\u001b[30m\u001b[105m which\u001b[1m\u001b[30m\u001b[102m he\u001b[1m\u001b[30m\u001b[105m was\u001b[1m\u001b[30m\u001b[102m supposed\u001b[1m\u001b[30m\u001b[105m to\u001b[1m\u001b[30m\u001b[102m be\u001b[1m\u001b[30m\u001b[105m\n",
      "\u001b[1m\u001b[30m\u001b[102munder\u001b[1m\u001b[30m\u001b[105mgoing\u001b[1m\u001b[30m\u001b[102m.\n",
      "\n",
      "\u001b[1m\u001b[30m\u001b[105m\"I\u001b[1m\u001b[30m\u001b[102m know\u001b[1m\u001b[30m\u001b[105m how\u001b[1m\u001b[30m\u001b[102m it\u001b[1m\u001b[30m\u001b[105m will\u001b[1m\u001b[30m\u001b[102m be\u001b[1m\u001b[30m\u001b[105m,\"\u001b[1m\u001b[30m\u001b[102m his\u001b[1m\u001b[30m\u001b[105m sister\u001b[1m\u001b[30m\u001b[102m had\u001b[1m\u001b[30m\u001b[105m said\u001b[1m\u001b[30m\u001b[102m when\u001b[1m\u001b[30m\u001b[105m he\u001b[1m\u001b[30m\u001b[102m was\u001b[1m\u001b[30m\u001b[105m preparing\u001b[1m\u001b[30m\u001b[102m to\u001b[1m\u001b[30m\u001b[105m\n",
      "\u001b[1m\u001b[30m\u001b[102mm\u001b[1m\u001b[30m\u001b[105migrate\u001b[1m\u001b[30m\u001b[102m to\u001b[1m\u001b[30m\u001b[105m this\u001b[1m\u001b[30m\u001b[102m rural\u001b[1m\u001b[30m\u001b[105m retreat\u001b[1m\u001b[30m\u001b[102m;\u001b[1m\u001b[30m\u001b[105m \"\u001b[1m\u001b[30m\u001b[102myou\u001b[1m\u001b[30m\u001b[105m will\u001b[1m\u001b[30m\u001b[102m bury\u001b[1m\u001b[30m\u001b[105m yourself\u001b[1m\u001b[30m\u001b[102m down\u001b[1m\u001b[30m\u001b[105m there\u001b[1m\u001b[30m\u001b[102m and\u001b[1m\u001b[30m\u001b[105m\n",
      "\u001b[1m\u001b[30m\u001b[102mnot\u001b[1m\u001b[30m\u001b[105m speak\u001b[1m\u001b[30m\u001b[102m to\u001b[1m\u001b[30m\u001b[105m a\u001b[1m\u001b[30m\u001b[102m living\u001b[1m\u001b[30m\u001b[105m soul\u001b[1m\u001b[30m\u001b[102m,\u001b[1m\u001b[30m\u001b[105m and\u001b[1m\u001b[30m\u001b[102m your\u001b[1m\u001b[30m\u001b[105m nerves\u001b[1m\u001b[30m\u001b[102m will\u001b[1m\u001b[30m\u001b[105m be\u001b[1m\u001b[30m\u001b[102m worse\u001b[1m\u001b[30m\u001b[105m than\u001b[1m\u001b[30m\u001b[102m ever\u001b[1m\u001b[30m\u001b[105m\n",
      "\u001b[1m\u001b[30m\u001b[102mfrom\u001b[1m\u001b[30m\u001b[105m m\u001b[1m\u001b[30m\u001b[102moping\u001b[1m\u001b[30m\u001b[105m.\n",
      "\n",
      "\u001b[1m\u001b[30m\u001b[102mI\u001b[1m\u001b[30m\u001b[105m shall\u001b[1m\u001b[30m\u001b[102m just\u001b[1m\u001b[30m\u001b[105m give\u001b[1m\u001b[30m\u001b[102m you\u001b[1m\u001b[30m\u001b[105m letters\u001b[1m\u001b[30m\u001b[102m of\u001b[1m\u001b[30m\u001b[105m introduction\u001b[1m\u001b[30m\u001b[102m to\u001b[1m\u001b[30m\u001b[105m all\u001b[1m\u001b[30m\u001b[102m the\u001b[1m\u001b[30m\u001b[105m people\u001b[1m\u001b[30m\u001b[102m I\u001b[1m\u001b[30m\u001b[105m know\u001b[1m\u001b[30m\u001b[102m\n",
      "\u001b[1m\u001b[30m\u001b[105mthere\u001b[1m\u001b[30m\u001b[102m.\u001b[1m\u001b[30m\u001b[105m Some\u001b[1m\u001b[30m\u001b[102m of\u001b[1m\u001b[30m\u001b[105m them\u001b[1m\u001b[30m\u001b[102m,\u001b[1m\u001b[30m\u001b[105m as\u001b[1m\u001b[30m\u001b[102m far\u001b[1m\u001b[30m\u001b[105m as\u001b[1m\u001b[30m\u001b[102m I\u001b[1m\u001b[30m\u001b[105m can\u001b[1m\u001b[30m\u001b[102m remember\u001b[1m\u001b[30m\u001b[105m,\u001b[1m\u001b[30m\u001b[102m were\u001b[1m\u001b[30m\u001b[105m quite\u001b[1m\u001b[30m\u001b[102m nice\u001b[1m\u001b[30m\u001b[105m.\"\n",
      "\n",
      "\u001b[1m\u001b[30m\u001b[102mF\u001b[1m\u001b[30m\u001b[105mram\u001b[1m\u001b[30m\u001b[102mton\u001b[1m\u001b[30m\u001b[105m wondered\u001b[1m\u001b[30m\u001b[102m whether\u001b[1m\u001b[30m\u001b[105m Mrs\u001b[1m\u001b[30m\u001b[102m.\u001b[1m\u001b[30m\u001b[105m S\u001b[1m\u001b[30m\u001b[102mapp\u001b[1m\u001b[30m\u001b[105mleton\u001b[1m\u001b[30m\u001b[102m,\u001b[1m\u001b[30m\u001b[105m the\u001b[1m\u001b[30m\u001b[102m lady\u001b[1m\u001b[30m\u001b[105m to\u001b[1m\u001b[30m\u001b[102m whom\u001b[1m\u001b[30m\u001b[105m he\u001b[1m\u001b[30m\u001b[102m was\u001b[1m\u001b[30m\u001b[105m\n",
      "\u001b[1m\u001b[30m\u001b[102mpresent\u001b[1m\u001b[30m\u001b[105ming\u001b[1m\u001b[30m\u001b[102m one\u001b[1m\u001b[30m\u001b[105m of\u001b[1m\u001b[30m\u001b[102m the\u001b[1m\u001b[30m\u001b[105m letters\u001b[1m\u001b[30m\u001b[102m of\u001b[1m\u001b[30m\u001b[105m introduction\u001b[1m\u001b[30m\u001b[102m came\u001b[1m\u001b[30m\u001b[105m into\u001b[1m\u001b[30m\u001b[102m the\u001b[1m\u001b[30m\u001b[105m nice\u001b[1m\u001b[30m\u001b[102m\n",
      "\u001b[1m\u001b[30m\u001b[105mdivision\u001b[1m\u001b[30m\u001b[102m.\n",
      "\n",
      "\u001b[1m\u001b[30m\u001b[105m\"Do\u001b[1m\u001b[30m\u001b[102m you\u001b[1m\u001b[30m\u001b[105m know\u001b[1m\u001b[30m\u001b[102m many\u001b[1m\u001b[30m\u001b[105m of\u001b[1m\u001b[30m\u001b[102m the\u001b[1m\u001b[30m\u001b[105m people\u001b[1m\u001b[30m\u001b[102m round\u001b[1m\u001b[30m\u001b[105m here\u001b[1m\u001b[30m\u001b[102m?\"\u001b[1m\u001b[30m\u001b[105m asked\u001b[1m\u001b[30m\u001b[102m the\u001b[1m\u001b[30m\u001b[105m niece\u001b[1m\u001b[30m\u001b[102m,\u001b[1m\u001b[30m\u001b[105m when\u001b[1m\u001b[30m\u001b[102m she\u001b[1m\u001b[30m\u001b[105m\n",
      "\u001b[1m\u001b[30m\u001b[102mjud\u001b[1m\u001b[30m\u001b[105mged\u001b[1m\u001b[30m\u001b[102m that\u001b[1m\u001b[30m\u001b[105m they\u001b[1m\u001b[30m\u001b[102m had\u001b[1m\u001b[30m\u001b[105m had\u001b[1m\u001b[30m\u001b[102m sufficient\u001b[1m\u001b[30m\u001b[105m silent\u001b[1m\u001b[30m\u001b[102m communion\u001b[1m\u001b[30m\u001b[105m.\n",
      "\n",
      "\u001b[1m\u001b[30m\u001b[102m\"\u001b[1m\u001b[30m\u001b[105mHard\u001b[1m\u001b[30m\u001b[102mly\u001b[1m\u001b[30m\u001b[105m a\u001b[1m\u001b[30m\u001b[102m soul\u001b[1m\u001b[30m\u001b[105m,\"\u001b[1m\u001b[30m\u001b[102m said\u001b[1m\u001b[30m\u001b[105m Fram\u001b[1m\u001b[30m\u001b[102mton\u001b[1m\u001b[30m\u001b[105m.\u001b[1m\u001b[30m\u001b[102m \"\u001b[1m\u001b[30m\u001b[105mMy\u001b[1m\u001b[30m\u001b[102m sister\u001b[1m\u001b[30m\u001b[105m was\u001b[1m\u001b[30m\u001b[102m staying\u001b[1m\u001b[30m\u001b[105m here\u001b[1m\u001b[30m\u001b[102m,\u001b[1m\u001b[30m\u001b[105m at\u001b[1m\u001b[30m\u001b[102m the\u001b[1m\u001b[30m\u001b[105m\n",
      "\u001b[1m\u001b[30m\u001b[102mrect\u001b[1m\u001b[30m\u001b[105mory\u001b[1m\u001b[30m\u001b[102m,\u001b[1m\u001b[30m\u001b[105m you\u001b[1m\u001b[30m\u001b[102m know\u001b[1m\u001b[30m\u001b[105m,\u001b[1m\u001b[30m\u001b[102m some\u001b[1m\u001b[30m\u001b[105m four\u001b[1m\u001b[30m\u001b[102m years\u001b[1m\u001b[30m\u001b[105m ago\u001b[1m\u001b[30m\u001b[102m,\u001b[1m\u001b[30m\u001b[105m and\u001b[1m\u001b[30m\u001b[102m she\u001b[1m\u001b[30m\u001b[105m gave\u001b[1m\u001b[30m\u001b[102m me\u001b[1m\u001b[30m\u001b[105m letters\u001b[1m\u001b[30m\u001b[102m of\u001b[1m\u001b[30m\u001b[105m\n",
      "\u001b[1m\u001b[30m\u001b[102mint\u001b[1m\u001b[30m\u001b[105mroduction\u001b[1m\u001b[30m\u001b[102m to\u001b[1m\u001b[30m\u001b[105m some\u001b[1m\u001b[30m\u001b[102m of\u001b[1m\u001b[30m\u001b[105m the\u001b[1m\u001b[30m\u001b[102m people\u001b[1m\u001b[30m\u001b[105m here\u001b[1m\u001b[30m\u001b[102m.\"\n",
      "\n",
      "\u001b[1m\u001b[30m\u001b[105mHe\u001b[1m\u001b[30m\u001b[102m made\u001b[1m\u001b[30m\u001b[105m the\u001b[1m\u001b[30m\u001b[102m last\u001b[1m\u001b[30m\u001b[105m statement\u001b[1m\u001b[30m\u001b[102m in\u001b[1m\u001b[30m\u001b[105m a\u001b[1m\u001b[30m\u001b[102m tone\u001b[1m\u001b[30m\u001b[105m of\u001b[1m\u001b[30m\u001b[102m distinct\u001b[1m\u001b[30m\u001b[105m regret\u001b[1m\u001b[30m\u001b[102m.\n",
      "\n",
      "\u001b[1m\u001b[30m\u001b[105m\"\u001b[1m\u001b[30m\u001b[102mThen\u001b[1m\u001b[30m\u001b[105m you\u001b[1m\u001b[30m\u001b[102m know\u001b[1m\u001b[30m\u001b[105m practically\u001b[1m\u001b[30m\u001b[102m nothing\u001b[1m\u001b[30m\u001b[105m about\u001b[1m\u001b[30m\u001b[102m my\u001b[1m\u001b[30m\u001b[105m aunt\u001b[1m\u001b[30m\u001b[102m?\"\u001b[1m\u001b[30m\u001b[105m pursued\u001b[1m\u001b[30m\u001b[102m the\u001b[1m\u001b[30m\u001b[105m\n",
      "\u001b[1m\u001b[30m\u001b[102mself\u001b[1m\u001b[30m\u001b[105m-\u001b[1m\u001b[30m\u001b[102mposs\u001b[1m\u001b[30m\u001b[105messed\u001b[1m\u001b[30m\u001b[102m young\u001b[1m\u001b[30m\u001b[105m lady\u001b[1m\u001b[30m\u001b[102m.\n",
      "\n",
      "\u001b[1m\u001b[30m\u001b[105m\"\u001b[1m\u001b[30m\u001b[102mOnly\u001b[1m\u001b[30m\u001b[105m her\u001b[1m\u001b[30m\u001b[102m name\u001b[1m\u001b[30m\u001b[105m and\u001b[1m\u001b[30m\u001b[102m address\u001b[1m\u001b[30m\u001b[105m,\"\u001b[1m\u001b[30m\u001b[102m admitted\u001b[1m\u001b[30m\u001b[105m the\u001b[1m\u001b[30m\u001b[102m caller\u001b[1m\u001b[30m\u001b[105m.\u001b[1m\u001b[30m\u001b[102m He\u001b[1m\u001b[30m\u001b[105m was\u001b[1m\u001b[30m\u001b[102m wondering\u001b[1m\u001b[30m\u001b[105m\n",
      "\u001b[1m\u001b[30m\u001b[102mwhether\u001b[1m\u001b[30m\u001b[105m Mrs\u001b[1m\u001b[30m\u001b[102m.\u001b[1m\u001b[30m\u001b[105m \u001b[1m\u001b[30m\u001b[102m S\u001b[1m\u001b[30m\u001b[105mapp\u001b[1m\u001b[30m\u001b[102mleton\u001b[1m\u001b[30m\u001b[105m was\u001b[1m\u001b[30m\u001b[102m in\u001b[1m\u001b[30m\u001b[105m the\u001b[1m\u001b[30m\u001b[102m married\u001b[1m\u001b[30m\u001b[105m or\u001b[1m\u001b[30m\u001b[102m wid\u001b[1m\u001b[30m\u001b[105mowed\u001b[1m\u001b[30m\u001b[102m state\u001b[1m\u001b[30m\u001b[105m.\u001b[1m\u001b[30m\u001b[102m An\u001b[1m\u001b[30m\u001b[105m\n",
      "\u001b[1m\u001b[30m\u001b[102mundef\u001b[1m\u001b[30m\u001b[105min\u001b[1m\u001b[30m\u001b[102mable\u001b[1m\u001b[30m\u001b[105m something\u001b[1m\u001b[30m\u001b[102m about\u001b[1m\u001b[30m\u001b[105m the\u001b[1m\u001b[30m\u001b[102m room\u001b[1m\u001b[30m\u001b[105m seemed\u001b[1m\u001b[30m\u001b[102m to\u001b[1m\u001b[30m\u001b[105m suggest\u001b[1m\u001b[30m\u001b[102m masculine\u001b[1m\u001b[30m\u001b[105m\n",
      "\u001b[1m\u001b[30m\u001b[102mhab\u001b[1m\u001b[30m\u001b[105mitation\u001b[1m\u001b[30m\u001b[102m.\n",
      "\n",
      "\u001b[1m\u001b[30m\u001b[105m\"\u001b[1m\u001b[30m\u001b[102mHer\u001b[1m\u001b[30m\u001b[105m great\u001b[1m\u001b[30m\u001b[102m tragedy\u001b[1m\u001b[30m\u001b[105m happened\u001b[1m\u001b[30m\u001b[102m just\u001b[1m\u001b[30m\u001b[105m three\u001b[1m\u001b[30m\u001b[102m years\u001b[1m\u001b[30m\u001b[105m ago\u001b[1m\u001b[30m\u001b[102m,\"\u001b[1m\u001b[30m\u001b[105m said\u001b[1m\u001b[30m\u001b[102m the\u001b[1m\u001b[30m\u001b[105m child\u001b[1m\u001b[30m\u001b[102m;\n",
      "\u001b[1m\u001b[30m\u001b[105m\"\u001b[1m\u001b[30m\u001b[102mthat\u001b[1m\u001b[30m\u001b[105m would\u001b[1m\u001b[30m\u001b[102m be\u001b[1m\u001b[30m\u001b[105m since\u001b[1m\u001b[30m\u001b[102m your\u001b[1m\u001b[30m\u001b[105m sister\u001b[1m\u001b[30m\u001b[102m's\u001b[1m\u001b[30m\u001b[105m time\u001b[1m\u001b[30m\u001b[102m.\"\n",
      "\n",
      "\u001b[1m\u001b[30m\u001b[105m\"\u001b[1m\u001b[30m\u001b[102mHer\u001b[1m\u001b[30m\u001b[105m tragedy\u001b[1m\u001b[30m\u001b[102m?\"\u001b[1m\u001b[30m\u001b[105m asked\u001b[1m\u001b[30m\u001b[102m Fram\u001b[1m\u001b[30m\u001b[105mton\u001b[1m\u001b[30m\u001b[102m;\u001b[1m\u001b[30m\u001b[105m somehow\u001b[1m\u001b[30m\u001b[102m in\u001b[1m\u001b[30m\u001b[105m this\u001b[1m\u001b[30m\u001b[102m rest\u001b[1m\u001b[30m\u001b[105mful\u001b[1m\u001b[30m\u001b[102m country\u001b[1m\u001b[30m\u001b[105m spot\u001b[1m\u001b[30m\u001b[102m\n",
      "\u001b[1m\u001b[30m\u001b[105mtr\u001b[1m\u001b[30m\u001b[102maged\u001b[1m\u001b[30m\u001b[105mies\u001b[1m\u001b[30m\u001b[102m seemed\u001b[1m\u001b[30m\u001b[105m out\u001b[1m\u001b[30m\u001b[102m of\u001b[1m\u001b[30m\u001b[105m place\u001b[1m\u001b[30m\u001b[102m.\n",
      "\n",
      "\u001b[1m\u001b[30m\u001b[105m\"You\u001b[1m\u001b[30m\u001b[102m may\u001b[1m\u001b[30m\u001b[105m wonder\u001b[1m\u001b[30m\u001b[102m why\u001b[1m\u001b[30m\u001b[105m we\u001b[1m\u001b[30m\u001b[102m keep\u001b[1m\u001b[30m\u001b[105m that\u001b[1m\u001b[30m\u001b[102m window\u001b[1m\u001b[30m\u001b[105m wide\u001b[1m\u001b[30m\u001b[102m open\u001b[1m\u001b[30m\u001b[105m on\u001b[1m\u001b[30m\u001b[102m an\u001b[1m\u001b[30m\u001b[105m October\u001b[1m\u001b[30m\u001b[102m\n",
      "\u001b[1m\u001b[30m\u001b[105mafter\u001b[1m\u001b[30m\u001b[102mnoon\u001b[1m\u001b[30m\u001b[105m,\"\u001b[1m\u001b[30m\u001b[102m said\u001b[1m\u001b[30m\u001b[105m the\u001b[1m\u001b[30m\u001b[102m niece\u001b[1m\u001b[30m\u001b[105m,\u001b[1m\u001b[30m\u001b[102m indicating\u001b[1m\u001b[30m\u001b[105m a\u001b[1m\u001b[30m\u001b[102m large\u001b[1m\u001b[30m\u001b[105m French\u001b[1m\u001b[30m\u001b[102m window\u001b[1m\u001b[30m\u001b[105m that\u001b[1m\u001b[30m\u001b[102m\n",
      "\u001b[1m\u001b[30m\u001b[105mopened\u001b[1m\u001b[30m\u001b[102m on\u001b[1m\u001b[30m\u001b[105m to\u001b[1m\u001b[30m\u001b[102m a\u001b[1m\u001b[30m\u001b[105m lawn\u001b[1m\u001b[30m\u001b[102m.\n",
      "\n",
      "\u001b[1m\u001b[30m\u001b[105m\"It\u001b[1m\u001b[30m\u001b[102m is\u001b[1m\u001b[30m\u001b[105m quite\u001b[1m\u001b[30m\u001b[102m warm\u001b[1m\u001b[30m\u001b[105m for\u001b[1m\u001b[30m\u001b[102m the\u001b[1m\u001b[30m\u001b[105m time\u001b[1m\u001b[30m\u001b[102m of\u001b[1m\u001b[30m\u001b[105m the\u001b[1m\u001b[30m\u001b[102m year\u001b[1m\u001b[30m\u001b[105m,\"\u001b[1m\u001b[30m\u001b[102m said\u001b[1m\u001b[30m\u001b[105m Fram\u001b[1m\u001b[30m\u001b[102mton\u001b[1m\u001b[30m\u001b[105m;\u001b[1m\u001b[30m\u001b[102m \"\u001b[1m\u001b[30m\u001b[105mbut\u001b[1m\u001b[30m\u001b[102m has\u001b[1m\u001b[30m\u001b[105m\n",
      "\u001b[1m\u001b[30m\u001b[102mthat\u001b[1m\u001b[30m\u001b[105m window\u001b[1m\u001b[30m\u001b[102m got\u001b[1m\u001b[30m\u001b[105m anything\u001b[1m\u001b[30m\u001b[102m to\u001b[1m\u001b[30m\u001b[105m do\u001b[1m\u001b[30m\u001b[102m with\u001b[1m\u001b[30m\u001b[105m the\u001b[1m\u001b[30m\u001b[102m tragedy\u001b[1m\u001b[30m\u001b[105m?\"\n",
      "\n",
      "\u001b[1m\u001b[30m\u001b[102m\"\u001b[1m\u001b[30m\u001b[105mOut\u001b[1m\u001b[30m\u001b[102m through\u001b[1m\u001b[30m\u001b[105m that\u001b[1m\u001b[30m\u001b[102m window\u001b[1m\u001b[30m\u001b[105m,\u001b[1m\u001b[30m\u001b[102m three\u001b[1m\u001b[30m\u001b[105m years\u001b[1m\u001b[30m\u001b[102m ago\u001b[1m\u001b[30m\u001b[105m to\u001b[1m\u001b[30m\u001b[102m a\u001b[1m\u001b[30m\u001b[105m day\u001b[1m\u001b[30m\u001b[102m,\u001b[1m\u001b[30m\u001b[105m her\u001b[1m\u001b[30m\u001b[102m husband\u001b[1m\u001b[30m\u001b[105m and\u001b[1m\u001b[30m\u001b[102m\n",
      "\u001b[1m\u001b[30m\u001b[105mher\u001b[1m\u001b[30m\u001b[102m two\u001b[1m\u001b[30m\u001b[105m young\u001b[1m\u001b[30m\u001b[102m brothers\u001b[1m\u001b[30m\u001b[105m went\u001b[1m\u001b[30m\u001b[102m off\u001b[1m\u001b[30m\u001b[105m for\u001b[1m\u001b[30m\u001b[102m their\u001b[1m\u001b[30m\u001b[105m day\u001b[1m\u001b[30m\u001b[102m's\u001b[1m\u001b[30m\u001b[105m shooting\u001b[1m\u001b[30m\u001b[102m.\u001b[1m\u001b[30m\u001b[105m They\u001b[1m\u001b[30m\u001b[102m never\u001b[1m\u001b[30m\u001b[105m\n",
      "\u001b[1m\u001b[30m\u001b[102mcame\u001b[1m\u001b[30m\u001b[105m back\u001b[1m\u001b[30m\u001b[102m.\u001b[1m\u001b[30m\u001b[105m Inc\u001b[1m\u001b[30m\u001b[102mross\u001b[1m\u001b[30m\u001b[105ming\u001b[1m\u001b[30m\u001b[102m the\u001b[1m\u001b[30m\u001b[105m mo\u001b[1m\u001b[30m\u001b[102mor\u001b[1m\u001b[30m\u001b[105m to\u001b[1m\u001b[30m\u001b[102m their\u001b[1m\u001b[30m\u001b[105m favorite\u001b[1m\u001b[30m\u001b[102m sn\u001b[1m\u001b[30m\u001b[105mipe\u001b[1m\u001b[30m\u001b[102m-sh\u001b[1m\u001b[30m\u001b[105mooting\u001b[1m\u001b[30m\u001b[102m ground\u001b[1m\u001b[30m\u001b[105m\n",
      "\u001b[1m\u001b[30m\u001b[102mthey\u001b[1m\u001b[30m\u001b[105m were\u001b[1m\u001b[30m\u001b[102m all\u001b[1m\u001b[30m\u001b[105m three\u001b[1m\u001b[30m\u001b[102m engulf\u001b[1m\u001b[30m\u001b[105med\u001b[1m\u001b[30m\u001b[102m in\u001b[1m\u001b[30m\u001b[105m a\u001b[1m\u001b[30m\u001b[102m tre\u001b[1m\u001b[30m\u001b[105macher\u001b[1m\u001b[30m\u001b[102mous\u001b[1m\u001b[30m\u001b[105m piece\u001b[1m\u001b[30m\u001b[102m of\u001b[1m\u001b[30m\u001b[105m bog\u001b[1m\u001b[30m\u001b[102m.\u001b[1m\u001b[30m\u001b[105m It\u001b[1m\u001b[30m\u001b[102m had\u001b[1m\u001b[30m\u001b[105m\n",
      "\u001b[1m\u001b[30m\u001b[102mbeen\u001b[1m\u001b[30m\u001b[105m that\u001b[1m\u001b[30m\u001b[102m dreadful\u001b[1m\u001b[30m\u001b[105m wet\u001b[1m\u001b[30m\u001b[102m summer\u001b[1m\u001b[30m\u001b[105m,\u001b[1m\u001b[30m\u001b[102m you\u001b[1m\u001b[30m\u001b[105m know\u001b[1m\u001b[30m\u001b[102m,\u001b[1m\u001b[30m\u001b[105m and\u001b[1m\u001b[30m\u001b[102m places\u001b[1m\u001b[30m\u001b[105m that\u001b[1m\u001b[30m\u001b[102m were\u001b[1m\u001b[30m\u001b[105m safe\u001b[1m\u001b[30m\u001b[102m in\u001b[1m\u001b[30m\u001b[105m\n",
      "\u001b[1m\u001b[30m\u001b[102mother\u001b[1m\u001b[30m\u001b[105m years\u001b[1m\u001b[30m\u001b[102m gave\u001b[1m\u001b[30m\u001b[105m way\u001b[1m\u001b[30m\u001b[102m suddenly\u001b[1m\u001b[30m\u001b[105m without\u001b[1m\u001b[30m\u001b[102m warning\u001b[1m\u001b[30m\u001b[105m.\u001b[1m\u001b[30m\u001b[102m Their\u001b[1m\u001b[30m\u001b[105m bodies\u001b[1m\u001b[30m\u001b[102m were\u001b[1m\u001b[30m\u001b[105m never\u001b[1m\u001b[30m\u001b[102m\n",
      "\u001b[1m\u001b[30m\u001b[105mre\u001b[1m\u001b[30m\u001b[102mcovered\u001b[1m\u001b[30m\u001b[105m.\u001b[1m\u001b[30m\u001b[102m That\u001b[1m\u001b[30m\u001b[105m was\u001b[1m\u001b[30m\u001b[102m the\u001b[1m\u001b[30m\u001b[105m dreadful\u001b[1m\u001b[30m\u001b[102m part\u001b[1m\u001b[30m\u001b[105m of\u001b[1m\u001b[30m\u001b[102m it\u001b[1m\u001b[30m\u001b[105m.\"\n",
      "\n",
      "\u001b[1m\u001b[30m\u001b[102mHere\u001b[1m\u001b[30m\u001b[105m the\u001b[1m\u001b[30m\u001b[102m child\u001b[1m\u001b[30m\u001b[105m's\u001b[1m\u001b[30m\u001b[102m voice\u001b[1m\u001b[30m\u001b[105m lost\u001b[1m\u001b[30m\u001b[102m its\u001b[1m\u001b[30m\u001b[105m self\u001b[1m\u001b[30m\u001b[102m-\u001b[1m\u001b[30m\u001b[105mposs\u001b[1m\u001b[30m\u001b[102messed\u001b[1m\u001b[30m\u001b[105m note\u001b[1m\u001b[30m\u001b[102m and\u001b[1m\u001b[30m\u001b[105m\n",
      "\u001b[1m\u001b[30m\u001b[102mbec\u001b[1m\u001b[30m\u001b[105mame\u001b[1m\u001b[30m\u001b[102mf\u001b[1m\u001b[30m\u001b[105malter\u001b[1m\u001b[30m\u001b[102mingly\u001b[1m\u001b[30m\u001b[105m human\u001b[1m\u001b[30m\u001b[102m.\u001b[1m\u001b[30m\u001b[105m \"\u001b[1m\u001b[30m\u001b[102mPoor\u001b[1m\u001b[30m\u001b[105m aunt\u001b[1m\u001b[30m\u001b[102m always\u001b[1m\u001b[30m\u001b[105m thinks\u001b[1m\u001b[30m\u001b[102m that\u001b[1m\u001b[30m\u001b[105m they\u001b[1m\u001b[30m\u001b[102m will\u001b[1m\u001b[30m\u001b[105m come\u001b[1m\u001b[30m\u001b[102m\n",
      "\u001b[1m\u001b[30m\u001b[105mback\u001b[1m\u001b[30m\u001b[102m someday\u001b[1m\u001b[30m\u001b[105m,\u001b[1m\u001b[30m\u001b[102m they\u001b[1m\u001b[30m\u001b[105m and\u001b[1m\u001b[30m\u001b[102m the\u001b[1m\u001b[30m\u001b[105m little\u001b[1m\u001b[30m\u001b[102m brown\u001b[1m\u001b[30m\u001b[105m span\u001b[1m\u001b[30m\u001b[102miel\u001b[1m\u001b[30m\u001b[105m that\u001b[1m\u001b[30m\u001b[102m was\u001b[1m\u001b[30m\u001b[105m lost\u001b[1m\u001b[30m\u001b[102m with\u001b[1m\u001b[30m\u001b[105m\n",
      "\u001b[1m\u001b[30m\u001b[102mthem\u001b[1m\u001b[30m\u001b[105m,\u001b[1m\u001b[30m\u001b[102m and\u001b[1m\u001b[30m\u001b[105m walk\u001b[1m\u001b[30m\u001b[102m in\u001b[1m\u001b[30m\u001b[105m at\u001b[1m\u001b[30m\u001b[102m that\u001b[1m\u001b[30m\u001b[105m window\u001b[1m\u001b[30m\u001b[102m just\u001b[1m\u001b[30m\u001b[105m as\u001b[1m\u001b[30m\u001b[102m they\u001b[1m\u001b[30m\u001b[105m used\u001b[1m\u001b[30m\u001b[102m to\u001b[1m\u001b[30m\u001b[105m do\u001b[1m\u001b[30m\u001b[102m.\u001b[1m\u001b[30m\u001b[105m That\u001b[1m\u001b[30m\u001b[102m is\u001b[1m\u001b[30m\u001b[105m why\u001b[1m\u001b[30m\u001b[102m\n",
      "\u001b[1m\u001b[30m\u001b[105mthe\u001b[1m\u001b[30m\u001b[102m window\u001b[1m\u001b[30m\u001b[105m is\u001b[1m\u001b[30m\u001b[102m kept\u001b[1m\u001b[30m\u001b[105m open\u001b[1m\u001b[30m\u001b[102m every\u001b[1m\u001b[30m\u001b[105m evening\u001b[1m\u001b[30m\u001b[102m till\u001b[1m\u001b[30m\u001b[105m it\u001b[1m\u001b[30m\u001b[102m is\u001b[1m\u001b[30m\u001b[105m quite\u001b[1m\u001b[30m\u001b[102m dusk\u001b[1m\u001b[30m\u001b[105m.\n",
      "\n",
      "\u001b[1m\u001b[30m\u001b[102m\"P\u001b[1m\u001b[30m\u001b[105moor\u001b[1m\u001b[30m\u001b[102m dear\u001b[1m\u001b[30m\u001b[105m aunt\u001b[1m\u001b[30m\u001b[102m,\u001b[1m\u001b[30m\u001b[105m she\u001b[1m\u001b[30m\u001b[102m has\u001b[1m\u001b[30m\u001b[105m often\u001b[1m\u001b[30m\u001b[102m told\u001b[1m\u001b[30m\u001b[105m me\u001b[1m\u001b[30m\u001b[102m how\u001b[1m\u001b[30m\u001b[105m they\u001b[1m\u001b[30m\u001b[102m went\u001b[1m\u001b[30m\u001b[105m out\u001b[1m\u001b[30m\u001b[102m,\u001b[1m\u001b[30m\u001b[105m her\u001b[1m\u001b[30m\u001b[102m husband\u001b[1m\u001b[30m\u001b[105m\n",
      "\u001b[1m\u001b[30m\u001b[102mwith\u001b[1m\u001b[30m\u001b[105m his\u001b[1m\u001b[30m\u001b[102m white\u001b[1m\u001b[30m\u001b[105m waterproof\u001b[1m\u001b[30m\u001b[102m coat\u001b[1m\u001b[30m\u001b[105m over\u001b[1m\u001b[30m\u001b[102m his\u001b[1m\u001b[30m\u001b[105m arm\u001b[1m\u001b[30m\u001b[102m,\u001b[1m\u001b[30m\u001b[105m and\u001b[1m\u001b[30m\u001b[102m Ronnie\u001b[1m\u001b[30m\u001b[105m,\u001b[1m\u001b[30m\u001b[102m her\u001b[1m\u001b[30m\u001b[105m youngest\u001b[1m\u001b[30m\u001b[102m\n",
      "\u001b[1m\u001b[30m\u001b[105mbro\u001b[1m\u001b[30m\u001b[102mther\u001b[1m\u001b[30m\u001b[105m,\u001b[1m\u001b[30m\u001b[102m singing\u001b[1m\u001b[30m\u001b[105m '\u001b[1m\u001b[30m\u001b[102mB\u001b[1m\u001b[30m\u001b[105mert\u001b[1m\u001b[30m\u001b[102mie\u001b[1m\u001b[30m\u001b[105m,\u001b[1m\u001b[30m\u001b[102m why\u001b[1m\u001b[30m\u001b[105m do\u001b[1m\u001b[30m\u001b[102m you\u001b[1m\u001b[30m\u001b[105m bound\u001b[1m\u001b[30m\u001b[102m?'\u001b[1m\u001b[30m\u001b[105m as\u001b[1m\u001b[30m\u001b[102m he\u001b[1m\u001b[30m\u001b[105m always\u001b[1m\u001b[30m\u001b[102m did\u001b[1m\u001b[30m\u001b[105m to\u001b[1m\u001b[30m\u001b[102m tease\u001b[1m\u001b[30m\u001b[105m\n",
      "\u001b[1m\u001b[30m\u001b[102mher\u001b[1m\u001b[30m\u001b[105m,\u001b[1m\u001b[30m\u001b[102m because\u001b[1m\u001b[30m\u001b[105m she\u001b[1m\u001b[30m\u001b[102m said\u001b[1m\u001b[30m\u001b[105m it\u001b[1m\u001b[30m\u001b[102m got\u001b[1m\u001b[30m\u001b[105m on\u001b[1m\u001b[30m\u001b[102m her\u001b[1m\u001b[30m\u001b[105m nerves\u001b[1m\u001b[30m\u001b[102m.\u001b[1m\u001b[30m\u001b[105m Do\u001b[1m\u001b[30m\u001b[102m you\u001b[1m\u001b[30m\u001b[105m know\u001b[1m\u001b[30m\u001b[102m,\u001b[1m\u001b[30m\u001b[105m sometimes\u001b[1m\u001b[30m\u001b[102m on\u001b[1m\u001b[30m\u001b[105m\n",
      "\u001b[1m\u001b[30m\u001b[102mstill\u001b[1m\u001b[30m\u001b[105m,\u001b[1m\u001b[30m\u001b[102m quiet\u001b[1m\u001b[30m\u001b[105m evenings\u001b[1m\u001b[30m\u001b[102m like\u001b[1m\u001b[30m\u001b[105m this\u001b[1m\u001b[30m\u001b[102m,\u001b[1m\u001b[30m\u001b[105m I\u001b[1m\u001b[30m\u001b[102m almost\u001b[1m\u001b[30m\u001b[105m get\u001b[1m\u001b[30m\u001b[102m a\u001b[1m\u001b[30m\u001b[105m creepy\u001b[1m\u001b[30m\u001b[102m feeling\u001b[1m\u001b[30m\u001b[105m that\u001b[1m\u001b[30m\u001b[102m\n",
      "\u001b[1m\u001b[30m\u001b[105mthey\u001b[1m\u001b[30m\u001b[102m will\u001b[1m\u001b[30m\u001b[105m all\u001b[1m\u001b[30m\u001b[102m walk\u001b[1m\u001b[30m\u001b[105m in\u001b[1m\u001b[30m\u001b[102m through\u001b[1m\u001b[30m\u001b[105m that\u001b[1m\u001b[30m\u001b[102m window\u001b[1m\u001b[30m\u001b[105m--\u001b[1m\u001b[30m\u001b[102m\"\n",
      "\n",
      "\u001b[1m\u001b[30m\u001b[105mShe\u001b[1m\u001b[30m\u001b[102m broke\u001b[1m\u001b[30m\u001b[105m off\u001b[1m\u001b[30m\u001b[102m with\u001b[1m\u001b[30m\u001b[105m a\u001b[1m\u001b[30m\u001b[102m little\u001b[1m\u001b[30m\u001b[105m sh\u001b[1m\u001b[30m\u001b[102mudder\u001b[1m\u001b[30m\u001b[105m.\u001b[1m\u001b[30m\u001b[102m It\u001b[1m\u001b[30m\u001b[105m was\u001b[1m\u001b[30m\u001b[102m a\u001b[1m\u001b[30m\u001b[105m relief\u001b[1m\u001b[30m\u001b[102m to\u001b[1m\u001b[30m\u001b[105m Fram\u001b[1m\u001b[30m\u001b[102mton\u001b[1m\u001b[30m\u001b[105m when\u001b[1m\u001b[30m\u001b[102m\n",
      "\u001b[1m\u001b[30m\u001b[105mthe\u001b[1m\u001b[30m\u001b[102m aunt\u001b[1m\u001b[30m\u001b[105m bust\u001b[1m\u001b[30m\u001b[102mled\u001b[1m\u001b[30m\u001b[105m into\u001b[1m\u001b[30m\u001b[102m the\u001b[1m\u001b[30m\u001b[105m room\u001b[1m\u001b[30m\u001b[102m with\u001b[1m\u001b[30m\u001b[105m a\u001b[1m\u001b[30m\u001b[102m whirl\u001b[1m\u001b[30m\u001b[105m of\u001b[1m\u001b[30m\u001b[102m apologies\u001b[1m\u001b[30m\u001b[105m for\u001b[1m\u001b[30m\u001b[102m being\u001b[1m\u001b[30m\u001b[105m\n",
      "\u001b[1m\u001b[30m\u001b[102mlate\u001b[1m\u001b[30m\u001b[105m in\u001b[1m\u001b[30m\u001b[102m making\u001b[1m\u001b[30m\u001b[105m her\u001b[1m\u001b[30m\u001b[102m appearance\u001b[1m\u001b[30m\u001b[105m.\n",
      "\n",
      "\u001b[1m\u001b[30m\u001b[102m\"I\u001b[1m\u001b[30m\u001b[105m hope\u001b[1m\u001b[30m\u001b[102m Vera\u001b[1m\u001b[30m\u001b[105m has\u001b[1m\u001b[30m\u001b[102m been\u001b[1m\u001b[30m\u001b[105m amusing\u001b[1m\u001b[30m\u001b[102m you\u001b[1m\u001b[30m\u001b[105m?\"\u001b[1m\u001b[30m\u001b[102m she\u001b[1m\u001b[30m\u001b[105m said\u001b[1m\u001b[30m\u001b[102m.\n",
      "\n",
      "\u001b[1m\u001b[30m\u001b[105m\"She\u001b[1m\u001b[30m\u001b[102m has\u001b[1m\u001b[30m\u001b[105m been\u001b[1m\u001b[30m\u001b[102m very\u001b[1m\u001b[30m\u001b[105m interesting\u001b[1m\u001b[30m\u001b[102m,\"\u001b[1m\u001b[30m\u001b[105m said\u001b[1m\u001b[30m\u001b[102m Fram\u001b[1m\u001b[30m\u001b[105mton\u001b[1m\u001b[30m\u001b[102m.\n",
      "\n",
      "\u001b[1m\u001b[30m\u001b[105m\"I\u001b[1m\u001b[30m\u001b[102m hope\u001b[1m\u001b[30m\u001b[105m you\u001b[1m\u001b[30m\u001b[102m don\u001b[1m\u001b[30m\u001b[105m't\u001b[1m\u001b[30m\u001b[102m mind\u001b[1m\u001b[30m\u001b[105m the\u001b[1m\u001b[30m\u001b[102m open\u001b[1m\u001b[30m\u001b[105m window\u001b[1m\u001b[30m\u001b[102m,\"\u001b[1m\u001b[30m\u001b[105m said\u001b[1m\u001b[30m\u001b[102m Mrs\u001b[1m\u001b[30m\u001b[105m.\u001b[1m\u001b[30m\u001b[102m S\u001b[1m\u001b[30m\u001b[105mapp\u001b[1m\u001b[30m\u001b[102mleton\u001b[1m\u001b[30m\u001b[105m brisk\u001b[1m\u001b[30m\u001b[102mly\u001b[1m\u001b[30m\u001b[105m;\n",
      "\u001b[1m\u001b[30m\u001b[102m\"\u001b[1m\u001b[30m\u001b[105mmy\u001b[1m\u001b[30m\u001b[102m husband\u001b[1m\u001b[30m\u001b[105m and\u001b[1m\u001b[30m\u001b[102m brothers\u001b[1m\u001b[30m\u001b[105m will\u001b[1m\u001b[30m\u001b[102m be\u001b[1m\u001b[30m\u001b[105m home\u001b[1m\u001b[30m\u001b[102m directly\u001b[1m\u001b[30m\u001b[105m from\u001b[1m\u001b[30m\u001b[102m shooting\u001b[1m\u001b[30m\u001b[105m,\u001b[1m\u001b[30m\u001b[102m and\u001b[1m\u001b[30m\u001b[105m they\u001b[1m\u001b[30m\u001b[102m\n",
      "\u001b[1m\u001b[30m\u001b[105malways\u001b[1m\u001b[30m\u001b[102m come\u001b[1m\u001b[30m\u001b[105m in\u001b[1m\u001b[30m\u001b[102m this\u001b[1m\u001b[30m\u001b[105m way\u001b[1m\u001b[30m\u001b[102m.\u001b[1m\u001b[30m\u001b[105m They\u001b[1m\u001b[30m\u001b[102m've\u001b[1m\u001b[30m\u001b[105m been\u001b[1m\u001b[30m\u001b[102m out\u001b[1m\u001b[30m\u001b[105m for\u001b[1m\u001b[30m\u001b[102m sn\u001b[1m\u001b[30m\u001b[105mipe\u001b[1m\u001b[30m\u001b[102m in\u001b[1m\u001b[30m\u001b[105m the\u001b[1m\u001b[30m\u001b[102m marsh\u001b[1m\u001b[30m\u001b[105mes\u001b[1m\u001b[30m\u001b[102m\n",
      "\u001b[1m\u001b[30m\u001b[105mtoday\u001b[1m\u001b[30m\u001b[102m,\u001b[1m\u001b[30m\u001b[105m so\u001b[1m\u001b[30m\u001b[102m they\u001b[1m\u001b[30m\u001b[105m'll\u001b[1m\u001b[30m\u001b[102m make\u001b[1m\u001b[30m\u001b[105m a\u001b[1m\u001b[30m\u001b[102m fine\u001b[1m\u001b[30m\u001b[105m mess\u001b[1m\u001b[30m\u001b[102m over\u001b[1m\u001b[30m\u001b[105m my\u001b[1m\u001b[30m\u001b[102m poor\u001b[1m\u001b[30m\u001b[105m carpets\u001b[1m\u001b[30m\u001b[102m.\u001b[1m\u001b[30m\u001b[105m \u001b[1m\u001b[30m\u001b[102m So\u001b[1m\u001b[30m\u001b[105m like\u001b[1m\u001b[30m\u001b[102m you\u001b[1m\u001b[30m\u001b[105m\n",
      "\u001b[1m\u001b[30m\u001b[102mmen\u001b[1m\u001b[30m\u001b[105mfolk\u001b[1m\u001b[30m\u001b[102m,\u001b[1m\u001b[30m\u001b[105m isn\u001b[1m\u001b[30m\u001b[102m't\u001b[1m\u001b[30m\u001b[105m it\u001b[1m\u001b[30m\u001b[102m?\"\n",
      "\n",
      "\u001b[1m\u001b[30m\u001b[105mShe\u001b[1m\u001b[30m\u001b[102m ratt\u001b[1m\u001b[30m\u001b[105mled\u001b[1m\u001b[30m\u001b[102m on\u001b[1m\u001b[30m\u001b[105m cheer\u001b[1m\u001b[30m\u001b[102mfully\u001b[1m\u001b[30m\u001b[105m about\u001b[1m\u001b[30m\u001b[102m the\u001b[1m\u001b[30m\u001b[105m shooting\u001b[1m\u001b[30m\u001b[102m and\u001b[1m\u001b[30m\u001b[105m the\u001b[1m\u001b[30m\u001b[102m scarcity\u001b[1m\u001b[30m\u001b[105m of\u001b[1m\u001b[30m\u001b[102m\n",
      "\u001b[1m\u001b[30m\u001b[105mbirds\u001b[1m\u001b[30m\u001b[102m,\u001b[1m\u001b[30m\u001b[105m and\u001b[1m\u001b[30m\u001b[102m the\u001b[1m\u001b[30m\u001b[105m prospects\u001b[1m\u001b[30m\u001b[102m for\u001b[1m\u001b[30m\u001b[105m duck\u001b[1m\u001b[30m\u001b[102m in\u001b[1m\u001b[30m\u001b[105m the\u001b[1m\u001b[30m\u001b[102m winter\u001b[1m\u001b[30m\u001b[105m.\n",
      "\n",
      "\u001b[1m\u001b[30m\u001b[102mTo\u001b[1m\u001b[30m\u001b[105m Fram\u001b[1m\u001b[30m\u001b[102mton\u001b[1m\u001b[30m\u001b[105m it\u001b[1m\u001b[30m\u001b[102m was\u001b[1m\u001b[30m\u001b[105m all\u001b[1m\u001b[30m\u001b[102m purely\u001b[1m\u001b[30m\u001b[105m horrible\u001b[1m\u001b[30m\u001b[102m.\n",
      "\n",
      "\u001b[1m\u001b[30m\u001b[105mHe\u001b[1m\u001b[30m\u001b[102m made\u001b[1m\u001b[30m\u001b[105m a\u001b[1m\u001b[30m\u001b[102m desperate\u001b[1m\u001b[30m\u001b[105m but\u001b[1m\u001b[30m\u001b[102m only\u001b[1m\u001b[30m\u001b[105m partially\u001b[1m\u001b[30m\u001b[102m successful\u001b[1m\u001b[30m\u001b[105m effort\u001b[1m\u001b[30m\u001b[102m to\u001b[1m\u001b[30m\u001b[105m turn\u001b[1m\u001b[30m\u001b[102m the\u001b[1m\u001b[30m\u001b[105m\n",
      "\u001b[1m\u001b[30m\u001b[102mtalk\u001b[1m\u001b[30m\u001b[105m on\u001b[1m\u001b[30m\u001b[102m to\u001b[1m\u001b[30m\u001b[105m a\u001b[1m\u001b[30m\u001b[102m less\u001b[1m\u001b[30m\u001b[105m gh\u001b[1m\u001b[30m\u001b[102mast\u001b[1m\u001b[30m\u001b[105mly\u001b[1m\u001b[30m\u001b[102m topic\u001b[1m\u001b[30m\u001b[105m,\u001b[1m\u001b[30m\u001b[102m he\u001b[1m\u001b[30m\u001b[105m was\u001b[1m\u001b[30m\u001b[102m conscious\u001b[1m\u001b[30m\u001b[105m that\u001b[1m\u001b[30m\u001b[102m his\u001b[1m\u001b[30m\u001b[105m host\u001b[1m\u001b[30m\u001b[102mess\u001b[1m\u001b[30m\u001b[105m was\u001b[1m\u001b[30m\u001b[102m\n",
      "\u001b[1m\u001b[30m\u001b[105mg\u001b[1m\u001b[30m\u001b[102miving\u001b[1m\u001b[30m\u001b[105m him\u001b[1m\u001b[30m\u001b[102m only\u001b[1m\u001b[30m\u001b[105m a\u001b[1m\u001b[30m\u001b[102m fragment\u001b[1m\u001b[30m\u001b[105m of\u001b[1m\u001b[30m\u001b[102m her\u001b[1m\u001b[30m\u001b[105m attention\u001b[1m\u001b[30m\u001b[102m,\u001b[1m\u001b[30m\u001b[105m and\u001b[1m\u001b[30m\u001b[102m her\u001b[1m\u001b[30m\u001b[105m eyes\u001b[1m\u001b[30m\u001b[102m were\u001b[1m\u001b[30m\u001b[105m\n",
      "\u001b[1m\u001b[30m\u001b[102mconst\u001b[1m\u001b[30m\u001b[105mantly\u001b[1m\u001b[30m\u001b[102m str\u001b[1m\u001b[30m\u001b[105maying\u001b[1m\u001b[30m\u001b[102m past\u001b[1m\u001b[30m\u001b[105m him\u001b[1m\u001b[30m\u001b[102m to\u001b[1m\u001b[30m\u001b[105m the\u001b[1m\u001b[30m\u001b[102m open\u001b[1m\u001b[30m\u001b[105m window\u001b[1m\u001b[30m\u001b[102m and\u001b[1m\u001b[30m\u001b[105m the\u001b[1m\u001b[30m\u001b[102m lawn\u001b[1m\u001b[30m\u001b[105m\n",
      "\u001b[1m\u001b[30m\u001b[102mb\u001b[1m\u001b[30m\u001b[105meyond\u001b[1m\u001b[30m\u001b[102m.\u001b[1m\u001b[30m\u001b[105m It\u001b[1m\u001b[30m\u001b[102m was\u001b[1m\u001b[30m\u001b[105m certainly\u001b[1m\u001b[30m\u001b[102m an\u001b[1m\u001b[30m\u001b[105m unfortunate\u001b[1m\u001b[30m\u001b[102m coincidence\u001b[1m\u001b[30m\u001b[105m that\u001b[1m\u001b[30m\u001b[102m he\u001b[1m\u001b[30m\u001b[105m should\u001b[1m\u001b[30m\u001b[102m\n",
      "\u001b[1m\u001b[30m\u001b[105mhave\u001b[1m\u001b[30m\u001b[102m paid\u001b[1m\u001b[30m\u001b[105m his\u001b[1m\u001b[30m\u001b[102m visit\u001b[1m\u001b[30m\u001b[105m on\u001b[1m\u001b[30m\u001b[102m this\u001b[1m\u001b[30m\u001b[105m tragic\u001b[1m\u001b[30m\u001b[102m anniversary\u001b[1m\u001b[30m\u001b[105m.\n",
      "\n",
      "\u001b[1m\u001b[30m\u001b[102m\"The\u001b[1m\u001b[30m\u001b[105m doctors\u001b[1m\u001b[30m\u001b[102m agree\u001b[1m\u001b[30m\u001b[105m in\u001b[1m\u001b[30m\u001b[102m ordering\u001b[1m\u001b[30m\u001b[105m me\u001b[1m\u001b[30m\u001b[102m complete\u001b[1m\u001b[30m\u001b[105m rest\u001b[1m\u001b[30m\u001b[102m,\u001b[1m\u001b[30m\u001b[105m an\u001b[1m\u001b[30m\u001b[102m absence\u001b[1m\u001b[30m\u001b[105m of\u001b[1m\u001b[30m\u001b[102m mental\u001b[1m\u001b[30m\u001b[105m\n",
      "\u001b[1m\u001b[30m\u001b[102mexc\u001b[1m\u001b[30m\u001b[105mit\u001b[1m\u001b[30m\u001b[102mement\u001b[1m\u001b[30m\u001b[105m,\u001b[1m\u001b[30m\u001b[102m and\u001b[1m\u001b[30m\u001b[105m avoidance\u001b[1m\u001b[30m\u001b[102m of\u001b[1m\u001b[30m\u001b[105m anything\u001b[1m\u001b[30m\u001b[102m in\u001b[1m\u001b[30m\u001b[105m the\u001b[1m\u001b[30m\u001b[102m nature\u001b[1m\u001b[30m\u001b[105m of\u001b[1m\u001b[30m\u001b[102m violent\u001b[1m\u001b[30m\u001b[105m\n",
      "\u001b[1m\u001b[30m\u001b[102mphysical\u001b[1m\u001b[30m\u001b[105m exercise\u001b[1m\u001b[30m\u001b[102m,\"\u001b[1m\u001b[30m\u001b[105m announced\u001b[1m\u001b[30m\u001b[102m Fram\u001b[1m\u001b[30m\u001b[105mton\u001b[1m\u001b[30m\u001b[102m,\u001b[1m\u001b[30m\u001b[105m who\u001b[1m\u001b[30m\u001b[102m lab\u001b[1m\u001b[30m\u001b[105mored\u001b[1m\u001b[30m\u001b[102m under\u001b[1m\u001b[30m\u001b[105m the\u001b[1m\u001b[30m\u001b[102m toler\u001b[1m\u001b[30m\u001b[105mably\u001b[1m\u001b[30m\u001b[102m\n",
      "\u001b[1m\u001b[30m\u001b[105mw\u001b[1m\u001b[30m\u001b[102mides\u001b[1m\u001b[30m\u001b[105mpread\u001b[1m\u001b[30m\u001b[102m del\u001b[1m\u001b[30m\u001b[105musion\u001b[1m\u001b[30m\u001b[102m that\u001b[1m\u001b[30m\u001b[105m total\u001b[1m\u001b[30m\u001b[102m strangers\u001b[1m\u001b[30m\u001b[105m and\u001b[1m\u001b[30m\u001b[102m chance\u001b[1m\u001b[30m\u001b[105m acquaint\u001b[1m\u001b[30m\u001b[102mances\u001b[1m\u001b[30m\u001b[105m are\u001b[1m\u001b[30m\u001b[102m\n",
      "\u001b[1m\u001b[30m\u001b[105mhung\u001b[1m\u001b[30m\u001b[102mry\u001b[1m\u001b[30m\u001b[105m for\u001b[1m\u001b[30m\u001b[102m the\u001b[1m\u001b[30m\u001b[105m least\u001b[1m\u001b[30m\u001b[102m detail\u001b[1m\u001b[30m\u001b[105m of\u001b[1m\u001b[30m\u001b[102m one\u001b[1m\u001b[30m\u001b[105m's\u001b[1m\u001b[30m\u001b[102m ailments\u001b[1m\u001b[30m\u001b[105m and\u001b[1m\u001b[30m\u001b[102m inf\u001b[1m\u001b[30m\u001b[105mirm\u001b[1m\u001b[30m\u001b[102mities\u001b[1m\u001b[30m\u001b[105m,\u001b[1m\u001b[30m\u001b[102m their\u001b[1m\u001b[30m\u001b[105m\n",
      "\u001b[1m\u001b[30m\u001b[102mcause\u001b[1m\u001b[30m\u001b[105m and\u001b[1m\u001b[30m\u001b[102m cure\u001b[1m\u001b[30m\u001b[105m.\u001b[1m\u001b[30m\u001b[102m \"\u001b[1m\u001b[30m\u001b[105mOn\u001b[1m\u001b[30m\u001b[102m the\u001b[1m\u001b[30m\u001b[105m matter\u001b[1m\u001b[30m\u001b[102m of\u001b[1m\u001b[30m\u001b[105m diet\u001b[1m\u001b[30m\u001b[102m they\u001b[1m\u001b[30m\u001b[105m are\u001b[1m\u001b[30m\u001b[102m not\u001b[1m\u001b[30m\u001b[105m so\u001b[1m\u001b[30m\u001b[102m much\u001b[1m\u001b[30m\u001b[105m in\u001b[1m\u001b[30m\u001b[102m\n",
      "\u001b[1m\u001b[30m\u001b[105mag\u001b[1m\u001b[30m\u001b[102mreement\u001b[1m\u001b[30m\u001b[105m,\"\u001b[1m\u001b[30m\u001b[102m he\u001b[1m\u001b[30m\u001b[105m continued\u001b[1m\u001b[30m\u001b[102m.\n",
      "\n",
      "\u001b[1m\u001b[30m\u001b[105m\"No\u001b[1m\u001b[30m\u001b[102m?\"\u001b[1m\u001b[30m\u001b[105m said\u001b[1m\u001b[30m\u001b[102m Mrs\u001b[1m\u001b[30m\u001b[105m.\u001b[1m\u001b[30m\u001b[102m S\u001b[1m\u001b[30m\u001b[105mapp\u001b[1m\u001b[30m\u001b[102mleton\u001b[1m\u001b[30m\u001b[105m,\u001b[1m\u001b[30m\u001b[102m in\u001b[1m\u001b[30m\u001b[105m a\u001b[1m\u001b[30m\u001b[102m voice\u001b[1m\u001b[30m\u001b[105m which\u001b[1m\u001b[30m\u001b[102m only\u001b[1m\u001b[30m\u001b[105m replaced\u001b[1m\u001b[30m\u001b[102m a\u001b[1m\u001b[30m\u001b[105m y\u001b[1m\u001b[30m\u001b[102mawn\u001b[1m\u001b[30m\u001b[105m at\u001b[1m\u001b[30m\u001b[102m\n",
      "\u001b[1m\u001b[30m\u001b[105mthe\u001b[1m\u001b[30m\u001b[102m last\u001b[1m\u001b[30m\u001b[105m moment\u001b[1m\u001b[30m\u001b[102m.\u001b[1m\u001b[30m\u001b[105m Then\u001b[1m\u001b[30m\u001b[102m she\u001b[1m\u001b[30m\u001b[105m suddenly\u001b[1m\u001b[30m\u001b[102m bright\u001b[1m\u001b[30m\u001b[105mened\u001b[1m\u001b[30m\u001b[102m into\u001b[1m\u001b[30m\u001b[105m alert\u001b[1m\u001b[30m\u001b[102m\n",
      "\u001b[1m\u001b[30m\u001b[105mattention\u001b[1m\u001b[30m\u001b[102m--\u001b[1m\u001b[30m\u001b[105mbut\u001b[1m\u001b[30m\u001b[102m not\u001b[1m\u001b[30m\u001b[105m to\u001b[1m\u001b[30m\u001b[102m what\u001b[1m\u001b[30m\u001b[105m Fram\u001b[1m\u001b[30m\u001b[102mton\u001b[1m\u001b[30m\u001b[105m was\u001b[1m\u001b[30m\u001b[102m saying\u001b[1m\u001b[30m\u001b[105m.\n",
      "\n",
      "\u001b[1m\u001b[30m\u001b[102m\"\u001b[1m\u001b[30m\u001b[105mHere\u001b[1m\u001b[30m\u001b[102m they\u001b[1m\u001b[30m\u001b[105m are\u001b[1m\u001b[30m\u001b[102m at\u001b[1m\u001b[30m\u001b[105m last\u001b[1m\u001b[30m\u001b[102m!\"\u001b[1m\u001b[30m\u001b[105m she\u001b[1m\u001b[30m\u001b[102m cried\u001b[1m\u001b[30m\u001b[105m.\u001b[1m\u001b[30m\u001b[102m \"\u001b[1m\u001b[30m\u001b[105mJust\u001b[1m\u001b[30m\u001b[102m in\u001b[1m\u001b[30m\u001b[105m time\u001b[1m\u001b[30m\u001b[102m for\u001b[1m\u001b[30m\u001b[105m tea\u001b[1m\u001b[30m\u001b[102m,\u001b[1m\u001b[30m\u001b[105m and\u001b[1m\u001b[30m\u001b[102m don\u001b[1m\u001b[30m\u001b[105m't\u001b[1m\u001b[30m\u001b[102m\n",
      "\u001b[1m\u001b[30m\u001b[105mthey\u001b[1m\u001b[30m\u001b[102mlook\u001b[1m\u001b[30m\u001b[105m as\u001b[1m\u001b[30m\u001b[102m if\u001b[1m\u001b[30m\u001b[105m they\u001b[1m\u001b[30m\u001b[102m were\u001b[1m\u001b[30m\u001b[105m muddy\u001b[1m\u001b[30m\u001b[102m up\u001b[1m\u001b[30m\u001b[105m to\u001b[1m\u001b[30m\u001b[102m the\u001b[1m\u001b[30m\u001b[105m eyes\u001b[1m\u001b[30m\u001b[102m!\"\n",
      "\n",
      "\u001b[1m\u001b[30m\u001b[105mF\u001b[1m\u001b[30m\u001b[102mram\u001b[1m\u001b[30m\u001b[105mton\u001b[1m\u001b[30m\u001b[102m sh\u001b[1m\u001b[30m\u001b[105mivered\u001b[1m\u001b[30m\u001b[102m slightly\u001b[1m\u001b[30m\u001b[105m and\u001b[1m\u001b[30m\u001b[102m turned\u001b[1m\u001b[30m\u001b[105m towards\u001b[1m\u001b[30m\u001b[102m the\u001b[1m\u001b[30m\u001b[105m niece\u001b[1m\u001b[30m\u001b[102m with\u001b[1m\u001b[30m\u001b[105m a\u001b[1m\u001b[30m\u001b[102m look\u001b[1m\u001b[30m\u001b[105m\n",
      "\u001b[1m\u001b[30m\u001b[102mint\u001b[1m\u001b[30m\u001b[105mended\u001b[1m\u001b[30m\u001b[102m to\u001b[1m\u001b[30m\u001b[105m convey\u001b[1m\u001b[30m\u001b[102m sympathetic\u001b[1m\u001b[30m\u001b[105m comprehension\u001b[1m\u001b[30m\u001b[102m.\u001b[1m\u001b[30m\u001b[105m The\u001b[1m\u001b[30m\u001b[102m child\u001b[1m\u001b[30m\u001b[105m was\u001b[1m\u001b[30m\u001b[102m staring\u001b[1m\u001b[30m\u001b[105m\n",
      "\u001b[1m\u001b[30m\u001b[102mout\u001b[1m\u001b[30m\u001b[105m through\u001b[1m\u001b[30m\u001b[102m the\u001b[1m\u001b[30m\u001b[105m open\u001b[1m\u001b[30m\u001b[102m window\u001b[1m\u001b[30m\u001b[105m with\u001b[1m\u001b[30m\u001b[102m a\u001b[1m\u001b[30m\u001b[105m d\u001b[1m\u001b[30m\u001b[102mazed\u001b[1m\u001b[30m\u001b[105m horror\u001b[1m\u001b[30m\u001b[102m in\u001b[1m\u001b[30m\u001b[105m her\u001b[1m\u001b[30m\u001b[102m eyes\u001b[1m\u001b[30m\u001b[105m.\u001b[1m\u001b[30m\u001b[102m In\u001b[1m\u001b[30m\u001b[105m a\u001b[1m\u001b[30m\u001b[102m\n",
      "\u001b[1m\u001b[30m\u001b[105mch\u001b[1m\u001b[30m\u001b[102mill\u001b[1m\u001b[30m\u001b[105m shock\u001b[1m\u001b[30m\u001b[102m of\u001b[1m\u001b[30m\u001b[105m name\u001b[1m\u001b[30m\u001b[102mless\u001b[1m\u001b[30m\u001b[105m fear\u001b[1m\u001b[30m\u001b[102m Fram\u001b[1m\u001b[30m\u001b[105mton\u001b[1m\u001b[30m\u001b[102m swung\u001b[1m\u001b[30m\u001b[105m round\u001b[1m\u001b[30m\u001b[102m in\u001b[1m\u001b[30m\u001b[105m his\u001b[1m\u001b[30m\u001b[102m seat\u001b[1m\u001b[30m\u001b[105m and\u001b[1m\u001b[30m\u001b[102m\n",
      "\u001b[1m\u001b[30m\u001b[105mlook\u001b[1m\u001b[30m\u001b[102med\u001b[1m\u001b[30m\u001b[105m in\u001b[1m\u001b[30m\u001b[102m the\u001b[1m\u001b[30m\u001b[105m same\u001b[1m\u001b[30m\u001b[102m direction\u001b[1m\u001b[30m\u001b[105m.\n",
      "\n",
      "\u001b[1m\u001b[30m\u001b[102mIn\u001b[1m\u001b[30m\u001b[105m the\u001b[1m\u001b[30m\u001b[102m deep\u001b[1m\u001b[30m\u001b[105mening\u001b[1m\u001b[30m\u001b[102m twilight\u001b[1m\u001b[30m\u001b[105m three\u001b[1m\u001b[30m\u001b[102m figures\u001b[1m\u001b[30m\u001b[105m were\u001b[1m\u001b[30m\u001b[102m walking\u001b[1m\u001b[30m\u001b[105m across\u001b[1m\u001b[30m\u001b[102m the\u001b[1m\u001b[30m\u001b[105m lawn\u001b[1m\u001b[30m\u001b[102m\n",
      "\u001b[1m\u001b[30m\u001b[105mt\u001b[1m\u001b[30m\u001b[102mowards\u001b[1m\u001b[30m\u001b[105m the\u001b[1m\u001b[30m\u001b[102m window\u001b[1m\u001b[30m\u001b[105m,\u001b[1m\u001b[30m\u001b[102m they\u001b[1m\u001b[30m\u001b[105m all\u001b[1m\u001b[30m\u001b[102m carried\u001b[1m\u001b[30m\u001b[105m guns\u001b[1m\u001b[30m\u001b[102m under\u001b[1m\u001b[30m\u001b[105m their\u001b[1m\u001b[30m\u001b[102m arms\u001b[1m\u001b[30m\u001b[105m,\u001b[1m\u001b[30m\u001b[102m and\u001b[1m\u001b[30m\u001b[105m one\u001b[1m\u001b[30m\u001b[102m of\u001b[1m\u001b[30m\u001b[105m\n",
      "\u001b[1m\u001b[30m\u001b[102mthem\u001b[1m\u001b[30m\u001b[105m was\u001b[1m\u001b[30m\u001b[102m additionally\u001b[1m\u001b[30m\u001b[105m burden\u001b[1m\u001b[30m\u001b[102med\u001b[1m\u001b[30m\u001b[105m with\u001b[1m\u001b[30m\u001b[102m a\u001b[1m\u001b[30m\u001b[105m white\u001b[1m\u001b[30m\u001b[102m coat\u001b[1m\u001b[30m\u001b[105m hung\u001b[1m\u001b[30m\u001b[102m over\u001b[1m\u001b[30m\u001b[105m his\u001b[1m\u001b[30m\u001b[102m\n",
      "\u001b[1m\u001b[30m\u001b[105mshould\u001b[1m\u001b[30m\u001b[102mers\u001b[1m\u001b[30m\u001b[105m.\u001b[1m\u001b[30m\u001b[102m A\u001b[1m\u001b[30m\u001b[105m tired\u001b[1m\u001b[30m\u001b[102m brown\u001b[1m\u001b[30m\u001b[105m span\u001b[1m\u001b[30m\u001b[102miel\u001b[1m\u001b[30m\u001b[105m kept\u001b[1m\u001b[30m\u001b[102m close\u001b[1m\u001b[30m\u001b[105m at\u001b[1m\u001b[30m\u001b[102m their\u001b[1m\u001b[30m\u001b[105m heels\u001b[1m\u001b[30m\u001b[102m.\n",
      "\u001b[1m\u001b[30m\u001b[105mNoise\u001b[1m\u001b[30m\u001b[102mlessly\u001b[1m\u001b[30m\u001b[105m they\u001b[1m\u001b[30m\u001b[102m ne\u001b[1m\u001b[30m\u001b[105mared\u001b[1m\u001b[30m\u001b[102m the\u001b[1m\u001b[30m\u001b[105m house\u001b[1m\u001b[30m\u001b[102m,\u001b[1m\u001b[30m\u001b[105m and\u001b[1m\u001b[30m\u001b[102m then\u001b[1m\u001b[30m\u001b[105m a\u001b[1m\u001b[30m\u001b[102m ho\u001b[1m\u001b[30m\u001b[105marse\u001b[1m\u001b[30m\u001b[102m young\u001b[1m\u001b[30m\u001b[105m voice\u001b[1m\u001b[30m\u001b[102m\n",
      "\u001b[1m\u001b[30m\u001b[105mch\u001b[1m\u001b[30m\u001b[102manted\u001b[1m\u001b[30m\u001b[105m out\u001b[1m\u001b[30m\u001b[102m of\u001b[1m\u001b[30m\u001b[105m the\u001b[1m\u001b[30m\u001b[102m dusk\u001b[1m\u001b[30m\u001b[105m:\u001b[1m\u001b[30m\u001b[102m \"\u001b[1m\u001b[30m\u001b[105mI\u001b[1m\u001b[30m\u001b[102m said\u001b[1m\u001b[30m\u001b[105m,\u001b[1m\u001b[30m\u001b[102m Bert\u001b[1m\u001b[30m\u001b[105mie\u001b[1m\u001b[30m\u001b[102m,\u001b[1m\u001b[30m\u001b[105m why\u001b[1m\u001b[30m\u001b[102m do\u001b[1m\u001b[30m\u001b[105m you\u001b[1m\u001b[30m\u001b[102m bound\u001b[1m\u001b[30m\u001b[105m?\"\n",
      "\n",
      "\u001b[1m\u001b[30m\u001b[102mF\u001b[1m\u001b[30m\u001b[105mram\u001b[1m\u001b[30m\u001b[102mton\u001b[1m\u001b[30m\u001b[105m grabbed\u001b[1m\u001b[30m\u001b[102m wildly\u001b[1m\u001b[30m\u001b[105m at\u001b[1m\u001b[30m\u001b[102m his\u001b[1m\u001b[30m\u001b[105m stick\u001b[1m\u001b[30m\u001b[102m and\u001b[1m\u001b[30m\u001b[105m hat\u001b[1m\u001b[30m\u001b[102m;\u001b[1m\u001b[30m\u001b[105m the\u001b[1m\u001b[30m\u001b[102m hall\u001b[1m\u001b[30m\u001b[105m door\u001b[1m\u001b[30m\u001b[102m,\u001b[1m\u001b[30m\u001b[105m the\u001b[1m\u001b[30m\u001b[102m gravel\u001b[1m\u001b[30m\u001b[105m\n",
      "\u001b[1m\u001b[30m\u001b[102mdrive\u001b[1m\u001b[30m\u001b[105m,\u001b[1m\u001b[30m\u001b[102m and\u001b[1m\u001b[30m\u001b[105m the\u001b[1m\u001b[30m\u001b[102m front\u001b[1m\u001b[30m\u001b[105m gate\u001b[1m\u001b[30m\u001b[102m were\u001b[1m\u001b[30m\u001b[105m dim\u001b[1m\u001b[30m\u001b[102mly\u001b[1m\u001b[30m\u001b[105m noted\u001b[1m\u001b[30m\u001b[102m stages\u001b[1m\u001b[30m\u001b[105m in\u001b[1m\u001b[30m\u001b[102m his\u001b[1m\u001b[30m\u001b[105m head\u001b[1m\u001b[30m\u001b[102mlong\u001b[1m\u001b[30m\u001b[105m\n",
      "\u001b[1m\u001b[30m\u001b[102mret\u001b[1m\u001b[30m\u001b[105mreat\u001b[1m\u001b[30m\u001b[102m.\u001b[1m\u001b[30m\u001b[105m A\u001b[1m\u001b[30m\u001b[102m cyclist\u001b[1m\u001b[30m\u001b[105m coming\u001b[1m\u001b[30m\u001b[102m along\u001b[1m\u001b[30m\u001b[105m the\u001b[1m\u001b[30m\u001b[102m road\u001b[1m\u001b[30m\u001b[105m had\u001b[1m\u001b[30m\u001b[102m to\u001b[1m\u001b[30m\u001b[105m run\u001b[1m\u001b[30m\u001b[102m into\u001b[1m\u001b[30m\u001b[105m the\u001b[1m\u001b[30m\u001b[102m hedge\u001b[1m\u001b[30m\u001b[105m to\u001b[1m\u001b[30m\u001b[102m\n",
      "\u001b[1m\u001b[30m\u001b[105mavoid\u001b[1m\u001b[30m\u001b[102m imminent\u001b[1m\u001b[30m\u001b[105m collision\u001b[1m\u001b[30m\u001b[102m.\n",
      "\n",
      "\u001b[1m\u001b[30m\u001b[105m\"\u001b[1m\u001b[30m\u001b[102mHere\u001b[1m\u001b[30m\u001b[105m we\u001b[1m\u001b[30m\u001b[102m are\u001b[1m\u001b[30m\u001b[105m,\u001b[1m\u001b[30m\u001b[102m my\u001b[1m\u001b[30m\u001b[105m dear\u001b[1m\u001b[30m\u001b[102m,\"\u001b[1m\u001b[30m\u001b[105m said\u001b[1m\u001b[30m\u001b[102m the\u001b[1m\u001b[30m\u001b[105m bearer\u001b[1m\u001b[30m\u001b[102m of\u001b[1m\u001b[30m\u001b[105m the\u001b[1m\u001b[30m\u001b[102m white\u001b[1m\u001b[30m\u001b[105m m\u001b[1m\u001b[30m\u001b[102mack\u001b[1m\u001b[30m\u001b[105mintosh\u001b[1m\u001b[30m\u001b[102m,\n",
      "\u001b[1m\u001b[30m\u001b[105mcoming\u001b[1m\u001b[30m\u001b[102m in\u001b[1m\u001b[30m\u001b[105m through\u001b[1m\u001b[30m\u001b[102m the\u001b[1m\u001b[30m\u001b[105m window\u001b[1m\u001b[30m\u001b[102m,\u001b[1m\u001b[30m\u001b[105m \"\u001b[1m\u001b[30m\u001b[102mfair\u001b[1m\u001b[30m\u001b[105mly\u001b[1m\u001b[30m\u001b[102m muddy\u001b[1m\u001b[30m\u001b[105m,\u001b[1m\u001b[30m\u001b[102m but\u001b[1m\u001b[30m\u001b[105m most\u001b[1m\u001b[30m\u001b[102m of\u001b[1m\u001b[30m\u001b[105m it\u001b[1m\u001b[30m\u001b[102m's\u001b[1m\u001b[30m\u001b[105m dry\u001b[1m\u001b[30m\u001b[102m.\u001b[1m\u001b[30m\u001b[105m Who\u001b[1m\u001b[30m\u001b[102m\n",
      "\u001b[1m\u001b[30m\u001b[105mwas\u001b[1m\u001b[30m\u001b[102m that\u001b[1m\u001b[30m\u001b[105m who\u001b[1m\u001b[30m\u001b[102m bolt\u001b[1m\u001b[30m\u001b[105med\u001b[1m\u001b[30m\u001b[102m out\u001b[1m\u001b[30m\u001b[105m as\u001b[1m\u001b[30m\u001b[102m we\u001b[1m\u001b[30m\u001b[105m came\u001b[1m\u001b[30m\u001b[102m up\u001b[1m\u001b[30m\u001b[105m?\"\n",
      "\n",
      "\u001b[1m\u001b[30m\u001b[102m\"A\u001b[1m\u001b[30m\u001b[105m most\u001b[1m\u001b[30m\u001b[102m extraordinary\u001b[1m\u001b[30m\u001b[105m man\u001b[1m\u001b[30m\u001b[102m,\u001b[1m\u001b[30m\u001b[105m a\u001b[1m\u001b[30m\u001b[102m Mr\u001b[1m\u001b[30m\u001b[105m.\u001b[1m\u001b[30m\u001b[102m Nut\u001b[1m\u001b[30m\u001b[105mtel\u001b[1m\u001b[30m\u001b[102m,\"\u001b[1m\u001b[30m\u001b[105m said\u001b[1m\u001b[30m\u001b[102m Mrs\u001b[1m\u001b[30m\u001b[105m.\u001b[1m\u001b[30m\u001b[102m S\u001b[1m\u001b[30m\u001b[105mapp\u001b[1m\u001b[30m\u001b[102mleton\u001b[1m\u001b[30m\u001b[105m;\u001b[1m\u001b[30m\u001b[102m \"\u001b[1m\u001b[30m\u001b[105mcould\u001b[1m\u001b[30m\u001b[102m\n",
      "\u001b[1m\u001b[30m\u001b[105monly\u001b[1m\u001b[30m\u001b[102m talk\u001b[1m\u001b[30m\u001b[105m about\u001b[1m\u001b[30m\u001b[102m his\u001b[1m\u001b[30m\u001b[105m illnesses\u001b[1m\u001b[30m\u001b[102m,\u001b[1m\u001b[30m\u001b[105m and\u001b[1m\u001b[30m\u001b[102m dashed\u001b[1m\u001b[30m\u001b[105m off\u001b[1m\u001b[30m\u001b[102m without\u001b[1m\u001b[30m\u001b[105m a\u001b[1m\u001b[30m\u001b[102m word\u001b[1m\u001b[30m\u001b[105m of\u001b[1m\u001b[30m\u001b[102m good\u001b[1m\u001b[30m\u001b[105mby\u001b[1m\u001b[30m\u001b[102m\n",
      "\u001b[1m\u001b[30m\u001b[105mor\u001b[1m\u001b[30m\u001b[102m apology\u001b[1m\u001b[30m\u001b[105m when\u001b[1m\u001b[30m\u001b[102m you\u001b[1m\u001b[30m\u001b[105m arrived\u001b[1m\u001b[30m\u001b[102m.\u001b[1m\u001b[30m\u001b[105m One\u001b[1m\u001b[30m\u001b[102m would\u001b[1m\u001b[30m\u001b[105m think\u001b[1m\u001b[30m\u001b[102m he\u001b[1m\u001b[30m\u001b[105m had\u001b[1m\u001b[30m\u001b[102m seen\u001b[1m\u001b[30m\u001b[105m a\u001b[1m\u001b[30m\u001b[102m ghost\u001b[1m\u001b[30m\u001b[105m.\"\n",
      "\n",
      "\u001b[1m\u001b[30m\u001b[102m\"I\u001b[1m\u001b[30m\u001b[105m expect\u001b[1m\u001b[30m\u001b[102m it\u001b[1m\u001b[30m\u001b[105m was\u001b[1m\u001b[30m\u001b[102m the\u001b[1m\u001b[30m\u001b[105m span\u001b[1m\u001b[30m\u001b[102miel\u001b[1m\u001b[30m\u001b[105m,\"\u001b[1m\u001b[30m\u001b[102m said\u001b[1m\u001b[30m\u001b[105m the\u001b[1m\u001b[30m\u001b[102m niece\u001b[1m\u001b[30m\u001b[105m calmly\u001b[1m\u001b[30m\u001b[102m;\u001b[1m\u001b[30m\u001b[105m \"\u001b[1m\u001b[30m\u001b[102mhe\u001b[1m\u001b[30m\u001b[105m told\u001b[1m\u001b[30m\u001b[102m me\u001b[1m\u001b[30m\u001b[105m he\u001b[1m\u001b[30m\u001b[102m\n",
      "\u001b[1m\u001b[30m\u001b[105mhad\u001b[1m\u001b[30m\u001b[102m a\u001b[1m\u001b[30m\u001b[105m horror\u001b[1m\u001b[30m\u001b[102m of\u001b[1m\u001b[30m\u001b[105m dogs\u001b[1m\u001b[30m\u001b[102m.\u001b[1m\u001b[30m\u001b[105m He\u001b[1m\u001b[30m\u001b[102m was\u001b[1m\u001b[30m\u001b[105m once\u001b[1m\u001b[30m\u001b[102m hunted\u001b[1m\u001b[30m\u001b[105m into\u001b[1m\u001b[30m\u001b[102m a\u001b[1m\u001b[30m\u001b[105m cemetery\u001b[1m\u001b[30m\u001b[102m somewhere\u001b[1m\u001b[30m\u001b[105m on\u001b[1m\u001b[30m\u001b[102m\n",
      "\u001b[1m\u001b[30m\u001b[105mthe\u001b[1m\u001b[30m\u001b[102m banks\u001b[1m\u001b[30m\u001b[105m of\u001b[1m\u001b[30m\u001b[102m the\u001b[1m\u001b[30m\u001b[105m G\u001b[1m\u001b[30m\u001b[102manges\u001b[1m\u001b[30m\u001b[105m by\u001b[1m\u001b[30m\u001b[102m a\u001b[1m\u001b[30m\u001b[105m pack\u001b[1m\u001b[30m\u001b[102m of\u001b[1m\u001b[30m\u001b[105m par\u001b[1m\u001b[30m\u001b[102miah\u001b[1m\u001b[30m\u001b[105m dogs\u001b[1m\u001b[30m\u001b[102m,\u001b[1m\u001b[30m\u001b[105m and\u001b[1m\u001b[30m\u001b[102m had\u001b[1m\u001b[30m\u001b[105m to\u001b[1m\u001b[30m\u001b[102m spend\u001b[1m\u001b[30m\u001b[105m the\u001b[1m\u001b[30m\u001b[102m\n",
      "\u001b[1m\u001b[30m\u001b[105mnight\u001b[1m\u001b[30m\u001b[102m in\u001b[1m\u001b[30m\u001b[105m a\u001b[1m\u001b[30m\u001b[102m newly\u001b[1m\u001b[30m\u001b[105m dug\u001b[1m\u001b[30m\u001b[102m grave\u001b[1m\u001b[30m\u001b[105m with\u001b[1m\u001b[30m\u001b[102m the\u001b[1m\u001b[30m\u001b[105m creatures\u001b[1m\u001b[30m\u001b[102m sn\u001b[1m\u001b[30m\u001b[105mar\u001b[1m\u001b[30m\u001b[102mling\u001b[1m\u001b[30m\u001b[105m and\u001b[1m\u001b[30m\u001b[102m gr\u001b[1m\u001b[30m\u001b[105minning\u001b[1m\u001b[30m\u001b[102m\n",
      "\u001b[1m\u001b[30m\u001b[105mand\u001b[1m\u001b[30m\u001b[102m fo\u001b[1m\u001b[30m\u001b[105maming\u001b[1m\u001b[30m\u001b[102m just\u001b[1m\u001b[30m\u001b[105m above\u001b[1m\u001b[30m\u001b[102m him\u001b[1m\u001b[30m\u001b[105m.\u001b[1m\u001b[30m\u001b[102m Enough\u001b[1m\u001b[30m\u001b[105m to\u001b[1m\u001b[30m\u001b[102m make\u001b[1m\u001b[30m\u001b[105m anyone\u001b[1m\u001b[30m\u001b[102m lose\u001b[1m\u001b[30m\u001b[105m their\u001b[1m\u001b[30m\u001b[102m nerve\u001b[1m\u001b[30m\u001b[105m.\"\n",
      "\n",
      "\u001b[1m\u001b[30m\u001b[102mRom\u001b[1m\u001b[30m\u001b[105mance\u001b[1m\u001b[30m\u001b[102m at\u001b[1m\u001b[30m\u001b[105m short\u001b[1m\u001b[30m\u001b[102m notice\u001b[1m\u001b[30m\u001b[105m was\u001b[1m\u001b[30m\u001b[102m her\u001b[1m\u001b[30m\u001b[105m special\u001b[1m\u001b[30m\u001b[102mity\u001b[1m\u001b[30m\u001b[105m.\n",
      "\n",
      "\n",
      "\n",
      "\u001b[1m\u001b[30m\u001b[102mThe\u001b[1m\u001b[30m\u001b[105m End\u001b[1m\u001b[30m\u001b[102m.\n",
      "\u001b[0m\n"
     ]
    }
   ],
   "source": [
    "with open('the_open_window.txt', encoding='utf-8') as file:\n",
    "    reveal(file.read())"
   ]
  },
  {
   "cell_type": "code",
   "execution_count": null,
   "metadata": {},
   "outputs": [],
   "source": []
  }
 ],
 "metadata": {
  "kernelspec": {
   "display_name": "algal",
   "language": "python",
   "name": "python3"
  },
  "language_info": {
   "codemirror_mode": {
    "name": "ipython",
    "version": 3
   },
   "file_extension": ".py",
   "mimetype": "text/x-python",
   "name": "python",
   "nbconvert_exporter": "python",
   "pygments_lexer": "ipython3",
   "version": "3.11.0"
  },
  "orig_nbformat": 4,
  "vscode": {
   "interpreter": {
    "hash": "47f22c742691cc19298478bc374786c171b4fd35c166f45dc5b5c33aa184105a"
   }
  }
 },
 "nbformat": 4,
 "nbformat_minor": 2
}
