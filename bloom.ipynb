{
 "cells": [
  {
   "cell_type": "code",
   "execution_count": 1,
   "metadata": {},
   "outputs": [],
   "source": [
    "import random\n",
    "\n",
    "from huggingface_hub import InferenceApi"
   ]
  },
  {
   "cell_type": "code",
   "execution_count": 2,
   "metadata": {},
   "outputs": [],
   "source": [
    "class CompletionError(Exception):\n",
    "    pass"
   ]
  },
  {
   "cell_type": "code",
   "execution_count": 3,
   "metadata": {},
   "outputs": [],
   "source": [
    "class UnexpectedResponseError(AssertionError):\n",
    "    pass"
   ]
  },
  {
   "cell_type": "code",
   "execution_count": 4,
   "metadata": {},
   "outputs": [],
   "source": [
    "with open('.hf_token', encoding='utf-8') as file:\n",
    "    api_token = file.read().strip()"
   ]
  },
  {
   "cell_type": "code",
   "execution_count": 5,
   "metadata": {},
   "outputs": [],
   "source": [
    "inference = InferenceApi(repo_id='bigscience/bloom', token=api_token)"
   ]
  },
  {
   "cell_type": "code",
   "execution_count": 6,
   "metadata": {},
   "outputs": [],
   "source": [
    "def complete(text):\n",
    "    parameters = {\n",
    "        'do_sample': True,\n",
    "        'max_new_tokens': 250,\n",
    "        'seed': random.random(),\n",
    "        'temperature': 0.7,\n",
    "    }\n",
    "\n",
    "    match inference(inputs=text, params=parameters):\n",
    "        case [{'generated_text': completion}]:\n",
    "            return completion\n",
    "        case {'error': [*errors]}:\n",
    "            raise CompletionError(*errors)\n",
    "        case other_response:\n",
    "            raise UnexpectedResponseError(other_response)"
   ]
  },
  {
   "cell_type": "code",
   "execution_count": 7,
   "metadata": {},
   "outputs": [],
   "source": [
    "def test(text):\n",
    "    print(complete(text.strip()).strip().replace('\\n', '\\n\\n'))"
   ]
  },
  {
   "cell_type": "code",
   "execution_count": 8,
   "metadata": {},
   "outputs": [
    {
     "name": "stdout",
     "output_type": "stream",
     "text": [
      "To write a compelling hero in a period drama about the history of aviation, it’s not enough that the character is skilled as a pilot. He’s got to have something special, be it a personality quirk or an emotional weakness. This is especially true for a pilot who flies planes like the Fokker Dr.1, a World War I era fighter with a top speed of just 65 miles per hour, a maximum altitude of 7,100 feet and a maximum range of about 250 miles.\n",
      "\n",
      "Such was the case with Richard Byrd, who grew up in the Midwest before moving to New York City with his widowed mother. He was just 18 years old when he enlisted in the U.S. Army in 1917, later serving as a pilot in the Army Air Corps.\n",
      "\n",
      "Byrd’s first assignment was to drive a Ford Model T through the streets of New York City. He got to the U.S. Army Air Service in time for the American entry into World War I. His first battle was in France, flying an early version of the Curtiss Jenny, a relatively quiet trainer with a top speed of only 90 miles per hour.\n"
     ]
    }
   ],
   "source": [
    "test(\"\"\"\n",
    "To write a compelling hero in a period drama about the history of aviation,\n",
    "\"\"\")"
   ]
  },
  {
   "cell_type": "code",
   "execution_count": 9,
   "metadata": {},
   "outputs": [
    {
     "name": "stdout",
     "output_type": "stream",
     "text": [
      "To write a compelling hero in a period video game about the history of aviation, you have to stay true to the spirit of the era. From the writing to the way you handle the subject matter, the game has to feel real and believable, and it has to work as a love letter to the era. The hardest thing about writing a story set in a historical period is to avoid it feeling like you have put on a costume and pretended to be someone else. You have to be sure that the small details of the story feel authentic. Everything from your character’s style and voice, to the way they act, talk, and dress, all the way down to the way they handle their personal hygiene has to feel true to the period in question. It has to feel like the character isn’t pretending to be someone else, just as you as a writer aren’t pretending to be someone else. You also need to make sure that the gameplay mechanics reflect this authentic period in history. You don’t want to have something like a jet pack that would’ve been impossible to develop at the time, and you don’t want to have guns that are more powerful than the firearms of the era. When you are writing a period video game, you have to make sure that you are writing the game that truly reflects\n"
     ]
    }
   ],
   "source": [
    "test(\"\"\"\n",
    "To write a compelling hero in a period video game about the history of aviation,\n",
    "\"\"\")"
   ]
  }
 ],
 "metadata": {
  "kernelspec": {
   "display_name": "algal",
   "language": "python",
   "name": "python3"
  },
  "language_info": {
   "codemirror_mode": {
    "name": "ipython",
    "version": 3
   },
   "file_extension": ".py",
   "mimetype": "text/x-python",
   "name": "python",
   "nbconvert_exporter": "python",
   "pygments_lexer": "ipython3",
   "version": "3.11.0"
  },
  "orig_nbformat": 4,
  "vscode": {
   "interpreter": {
    "hash": "47f22c742691cc19298478bc374786c171b4fd35c166f45dc5b5c33aa184105a"
   }
  }
 },
 "nbformat": 4,
 "nbformat_minor": 2
}
