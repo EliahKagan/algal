{
 "cells": [
  {
   "attachments": {},
   "cell_type": "markdown",
   "metadata": {},
   "source": [
    "# BLOOM - Inference API - via `huggingface_hub` library\n",
    "\n",
    "SPDX-License-Identifier: 0BSD"
   ]
  },
  {
   "cell_type": "code",
   "execution_count": 1,
   "metadata": {},
   "outputs": [],
   "source": [
    "import random\n",
    "\n",
    "from huggingface_hub import InferenceApi"
   ]
  },
  {
   "cell_type": "code",
   "execution_count": 2,
   "metadata": {},
   "outputs": [],
   "source": [
    "class CompletionError(Exception):\n",
    "    pass"
   ]
  },
  {
   "cell_type": "code",
   "execution_count": 3,
   "metadata": {},
   "outputs": [],
   "source": [
    "class UnexpectedResponseError(AssertionError):\n",
    "    pass"
   ]
  },
  {
   "cell_type": "code",
   "execution_count": 4,
   "metadata": {},
   "outputs": [],
   "source": [
    "with open('.hf_token', encoding='utf-8') as file:\n",
    "    api_token = file.read().strip()"
   ]
  },
  {
   "cell_type": "code",
   "execution_count": 5,
   "metadata": {},
   "outputs": [],
   "source": [
    "inference = InferenceApi(repo_id='bigscience/bloom', token=api_token)"
   ]
  },
  {
   "cell_type": "code",
   "execution_count": 6,
   "metadata": {},
   "outputs": [],
   "source": [
    "def complete(text):\n",
    "    parameters = {\n",
    "        'do_sample': True,\n",
    "        'max_new_tokens': 250,\n",
    "        'seed': random.randrange(2**64),\n",
    "        'temperature': 0.9,\n",
    "        'top_k': 600,\n",
    "        'top_p': 0.9,\n",
    "    }\n",
    "\n",
    "    match inference(inputs=text, params=parameters):\n",
    "        case [{'generated_text': completion}]:\n",
    "            return completion\n",
    "        case {'error': [*errors]}:\n",
    "            raise CompletionError(*errors)\n",
    "        case other_response:\n",
    "            raise UnexpectedResponseError(other_response)"
   ]
  },
  {
   "cell_type": "code",
   "execution_count": 7,
   "metadata": {},
   "outputs": [],
   "source": [
    "def test(text):\n",
    "    print(complete(text.strip()).strip().replace('\\n', '\\n\\n'))"
   ]
  },
  {
   "cell_type": "code",
   "execution_count": 8,
   "metadata": {},
   "outputs": [
    {
     "name": "stdout",
     "output_type": "stream",
     "text": [
      "To write a compelling hero in a period drama about the history of aviation, you need a lot of patience and passion for the subject matter. And that’s what David Nevin has.\n",
      "\n",
      "His passion for aviation history shines through his dedication to his research of The First American Aviator, which he then weaves into a compelling tale about one of the most important men in the early history of aviation. David is a true storyteller, taking the reader through the ups and downs of the life of Harry Hawker and his beautiful aircraft.\n"
     ]
    }
   ],
   "source": [
    "test(\"\"\"\n",
    "To write a compelling hero in a period drama about the history of aviation,\n",
    "\"\"\")"
   ]
  },
  {
   "cell_type": "code",
   "execution_count": 9,
   "metadata": {},
   "outputs": [
    {
     "name": "stdout",
     "output_type": "stream",
     "text": [
      "To write a compelling hero in a period video game about the history of aviation, you can’t really have a generic, mass-produced hero. He needs to have his own style and feel, his own strengths and weaknesses. He’s the perfect pilot, but he’s not perfect.\n",
      "\n",
      "The game has a lot of content that comes from research that we did, talking to our designers about the period. We were very intentional about making sure that we were giving accurate depictions of the aeroplanes, because we know that the general public and our fans love to research the history of aviation and understand where the planes came from. So the planes that you see are the planes that you would have seen at the time. And for the planes that are not real, we spent time talking to historians and looking at period documents to make sure that we have the right look and feel for those planes.\n",
      "\n",
      "For example, in the pre-alpha build, the Voisin was very different from the final build. The pre-alpha build was more like a train, and we spent a lot of time talking to historians about the Voisin and asking them, “Is this what a Voisin was like?” and “Was it like this in the early 1900s?” And they said, “Well, it was more\n"
     ]
    }
   ],
   "source": [
    "test(\"\"\"\n",
    "To write a compelling hero in a period video game about the history of aviation,\n",
    "\"\"\")"
   ]
  },
  {
   "cell_type": "code",
   "execution_count": null,
   "metadata": {},
   "outputs": [],
   "source": []
  }
 ],
 "metadata": {
  "kernelspec": {
   "display_name": "algal",
   "language": "python",
   "name": "python3"
  },
  "language_info": {
   "codemirror_mode": {
    "name": "ipython",
    "version": 3
   },
   "file_extension": ".py",
   "mimetype": "text/x-python",
   "name": "python",
   "nbconvert_exporter": "python",
   "pygments_lexer": "ipython3",
   "version": "3.11.3"
  },
  "orig_nbformat": 4,
  "vscode": {
   "interpreter": {
    "hash": "47f22c742691cc19298478bc374786c171b4fd35c166f45dc5b5c33aa184105a"
   }
  }
 },
 "nbformat": 4,
 "nbformat_minor": 2
}
