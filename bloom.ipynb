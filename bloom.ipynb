{
 "cells": [
  {
   "cell_type": "code",
   "execution_count": 38,
   "metadata": {},
   "outputs": [],
   "source": [
    "import random\n",
    "\n",
    "import requests"
   ]
  },
  {
   "cell_type": "code",
   "execution_count": 2,
   "metadata": {},
   "outputs": [],
   "source": [
    "API_URL = 'https://api-inference.huggingface.co/models/bigscience/bloom'\n",
    "\n",
    "with open('.hf_token', encoding='utf-8') as file:\n",
    "    headers = {'Authorization': f'Bearer {file.read().strip()}'}"
   ]
  },
  {
   "cell_type": "code",
   "execution_count": 58,
   "metadata": {},
   "outputs": [],
   "source": [
    "def complete(text):\n",
    "    parameters = {\n",
    "        'max_new_tokens': 250,\n",
    "        'seed': random.random(),\n",
    "        'temperature': 0.7,\n",
    "        'top_p': 1,\n",
    "    }\n",
    "\n",
    "    response = requests.post(\n",
    "        API_URL,\n",
    "        headers=headers,\n",
    "        json={'inputs': text, 'parameters': parameters},\n",
    "    )\n",
    "\n",
    "    return response.json()[0]['generated_text']\n",
    "    "
   ]
  },
  {
   "cell_type": "code",
   "execution_count": 59,
   "metadata": {},
   "outputs": [],
   "source": [
    "def test(text):\n",
    "    print(complete(text.strip()).strip().replace('\\n', '\\n\\n'))"
   ]
  },
  {
   "cell_type": "code",
   "execution_count": 61,
   "metadata": {},
   "outputs": [
    {
     "name": "stdout",
     "output_type": "stream",
     "text": [
      "To write a compelling hero in a period drama about the history of aviation, the director and the producers turned to the renowned actor. He was the perfect choice, with his dynamic presence and a natural sense of dignity. “In the beginning, I had never imagined myself as the main character in a historical film,” he says. “But I was fascinated by the script.”\n",
      "\n",
      "The film’s plot is based on the true story of Jewish pilot Aaron Bank. He was the first pilot to fly from Palestine to London in 1929. At the end of the 1930s, Bank was a commander of the air force in the Palmach. In 1941, he was shot down over the Mediterranean Sea. He was 25 years old.\n",
      "\n",
      "“It was a wonderful opportunity to play a character who was a real hero,” he says. “I’ve never played an actual historical person before.”\n",
      "\n",
      "For Bank, the fascination came from the historical aspect of the film, not the character. “We wanted to tell the story of this young man who, in spite of everything, kept flying and was determined to reach his goal. It was very interesting to see how he grew up in the period.”\n",
      "\n",
      "The film’s director, Yoav Shamir, was keen to cast Bank in the role of Bank. “\n"
     ]
    }
   ],
   "source": [
    "test(\"\"\"\n",
    "To write a compelling hero in a period drama about the history of aviation,\n",
    "\"\"\")"
   ]
  },
  {
   "cell_type": "code",
   "execution_count": 62,
   "metadata": {},
   "outputs": [
    {
     "name": "stdout",
     "output_type": "stream",
     "text": [
      "To write a compelling hero in a period video game about the history of aviation, you need to know more than just the airplanes. The most successful games in the genre have an excellent understanding of the historical period as well. This applies to subjects like culture, politics, and society as well as aviation. Take the WW2 games, for instance. They have excellent depictions of the military, the visuals are top-notch, and the graphics engine is impressive. But these games also have an excellent understanding of the period’s culture and society. They accurately depict the horrors of war, the horrors of the camps, and the struggles of daily life in the occupied countries. These games are not just about flying airplanes. They are also about the experiences of the people of that period. And just like with Heroes in the Sky, these experiences are at the core of the gameplay.\n",
      "\n",
      "Some of the most interesting games in the genre are the stealth games. They tend to be more complex, more intricate, more engaging, and more difficult. They also tend to be more realistic, and the gameplay is more engaging because of that. There’s a reason these games are so popular with gamers. They offer a more authentic experience. They allow you to explore the world around you and become a part\n"
     ]
    }
   ],
   "source": [
    "test(\"\"\"\n",
    "To write a compelling hero in a period video game about the history of aviation,\n",
    "\"\"\")"
   ]
  },
  {
   "cell_type": "code",
   "execution_count": null,
   "metadata": {},
   "outputs": [],
   "source": []
  }
 ],
 "metadata": {
  "kernelspec": {
   "display_name": "algal",
   "language": "python",
   "name": "python3"
  },
  "language_info": {
   "codemirror_mode": {
    "name": "ipython",
    "version": 3
   },
   "file_extension": ".py",
   "mimetype": "text/x-python",
   "name": "python",
   "nbconvert_exporter": "python",
   "pygments_lexer": "ipython3",
   "version": "3.11.0"
  },
  "orig_nbformat": 4,
  "vscode": {
   "interpreter": {
    "hash": "47f22c742691cc19298478bc374786c171b4fd35c166f45dc5b5c33aa184105a"
   }
  }
 },
 "nbformat": 4,
 "nbformat_minor": 2
}
