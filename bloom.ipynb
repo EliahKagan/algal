{
 "cells": [
  {
   "cell_type": "code",
   "execution_count": 54,
   "metadata": {},
   "outputs": [],
   "source": [
    "import json\n",
    "import random\n",
    "\n",
    "import requests"
   ]
  },
  {
   "cell_type": "code",
   "execution_count": 2,
   "metadata": {},
   "outputs": [],
   "source": [
    "class CompletionError(Exception):\n",
    "    pass"
   ]
  },
  {
   "cell_type": "code",
   "execution_count": 3,
   "metadata": {},
   "outputs": [],
   "source": [
    "class UnexpectedResponseError(AssertionError):\n",
    "    pass"
   ]
  },
  {
   "cell_type": "code",
   "execution_count": 4,
   "metadata": {},
   "outputs": [],
   "source": [
    "API_URL = 'https://api-inference.huggingface.co/models/bigscience/bloom'\n",
    "\n",
    "with open('.hf_token', encoding='utf-8') as file:\n",
    "    headers = {'Authorization': f'Bearer {file.read().strip()}'}"
   ]
  },
  {
   "cell_type": "code",
   "execution_count": 57,
   "metadata": {},
   "outputs": [],
   "source": [
    "def complete(text):\n",
    "    parameters = {\n",
    "        'do_sample': True,\n",
    "        'max_new_tokens': 250,\n",
    "        'seed': random.random(),\n",
    "        'temperature': 0.7,\n",
    "    }\n",
    "\n",
    "    response = requests.post(\n",
    "        API_URL,\n",
    "        headers=headers,\n",
    "        json={'inputs': text, 'parameters': parameters},\n",
    "    )\n",
    "\n",
    "    try:\n",
    "        as_json = response.json()\n",
    "    except json.JSONDecodeError as error:\n",
    "        raise UnexpectedResponseError(response.text) from error\n",
    "\n",
    "    match response.json():\n",
    "        case [{'generated_text': completion}]:\n",
    "            return completion\n",
    "        case {'error': [*errors]}:\n",
    "            raise CompletionError(*errors)\n",
    "        case other_response:\n",
    "            raise UnexpectedResponseError(other_response)"
   ]
  },
  {
   "cell_type": "code",
   "execution_count": 9,
   "metadata": {},
   "outputs": [],
   "source": [
    "def test(text):\n",
    "    print(complete(text.strip()).strip().replace('\\n', '\\n\\n'))"
   ]
  },
  {
   "cell_type": "code",
   "execution_count": 66,
   "metadata": {},
   "outputs": [
    {
     "name": "stdout",
     "output_type": "stream",
     "text": [
      "To write a compelling hero in a period drama about the history of aviation, set in the 1930s-1940s, the author must have a multi-faceted and complex protagonist in his character. Such an individual must have a sense of honor, be loyal to his friends, and come through in the toughest of times. He must possess a sense of adventure, courage, and a strong will to survive. Above all, he must have a sense of humility. This is the individual who will not only survive, but will accomplish the extraordinary.\n",
      "\n",
      "This character is that of David Morrell. This is the author’s third book in his Travis McGee series. This is a series of novels that feature a private investigator named Travis McGee, who is a man of mystery. He is a man of intrigue. He is, above all, a man who shines with his own light. The author was inspired to write the series after reading a story in a magazine about an attorney who had been involved in a plane crash. The lawyer was on his way to testify in a plane crash case. After reading that story, the author was inspired to write a mystery novel. The author spent a number of years constructing the series, which is now considered one of the most popular in the genre. The author’s\n"
     ]
    }
   ],
   "source": [
    "test(\"\"\"\n",
    "To write a compelling hero in a period drama about the history of aviation,\n",
    "\"\"\")"
   ]
  },
  {
   "cell_type": "code",
   "execution_count": 68,
   "metadata": {},
   "outputs": [
    {
     "name": "stdout",
     "output_type": "stream",
     "text": [
      "To write a compelling hero in a period video game about the history of aviation, it helps to study the original sources. In the case of the Wright Brothers, those sources provided a strong foundation for designers at Avalanche Studios. The brothers, Wilbur and Orville, were born in 1867 and 1871 respectively, and grew up on a farm near Dayton, Ohio. In their youth, the boys were interested in many subjects, but as they got older, their interests converged in a single area: flying. It was an easy subject to study, since Dayton was a center for early 20th-century aircraft production. The brothers, who had been educated in the public school system, were familiar with the scientific theories of propulsion and flight. Through their work at the Huffman Prairie Flying Field (now Huffman Prairie Airfield), they proved that their theories could be put into practice. In fact, the brothers’ first flight was achieved in a small airplane they built from a kit they purchased from the Frenchman Octave Chanute.\n",
      "\n",
      "The Wright Brothers’ first powered flight was achieved on December 17, 1903, using a three-wheeled Wright Flyer. This aircraft was equipped with a wooden motor with two cylinders, each four feet in diameter and 17 inches in length. The engine was capable of producing 12 hor\n"
     ]
    }
   ],
   "source": [
    "test(\"\"\"\n",
    "To write a compelling hero in a period video game about the history of aviation,\n",
    "\"\"\")"
   ]
  },
  {
   "cell_type": "code",
   "execution_count": null,
   "metadata": {},
   "outputs": [],
   "source": []
  }
 ],
 "metadata": {
  "kernelspec": {
   "display_name": "algal",
   "language": "python",
   "name": "python3"
  },
  "language_info": {
   "codemirror_mode": {
    "name": "ipython",
    "version": 3
   },
   "file_extension": ".py",
   "mimetype": "text/x-python",
   "name": "python",
   "nbconvert_exporter": "python",
   "pygments_lexer": "ipython3",
   "version": "3.11.0"
  },
  "orig_nbformat": 4,
  "vscode": {
   "interpreter": {
    "hash": "47f22c742691cc19298478bc374786c171b4fd35c166f45dc5b5c33aa184105a"
   }
  }
 },
 "nbformat": 4,
 "nbformat_minor": 2
}
