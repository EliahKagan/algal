{
 "cells": [
  {
   "attachments": {},
   "cell_type": "markdown",
   "metadata": {},
   "source": [
    "# BLOOM - Inference API - via `huggingface_hub` library\n",
    "\n",
    "SPDX-License-Identifier: 0BSD"
   ]
  },
  {
   "cell_type": "code",
   "execution_count": 1,
   "metadata": {},
   "outputs": [],
   "source": [
    "import random\n",
    "\n",
    "from huggingface_hub import InferenceApi"
   ]
  },
  {
   "cell_type": "code",
   "execution_count": 2,
   "metadata": {},
   "outputs": [],
   "source": [
    "class CompletionError(Exception):\n",
    "    pass"
   ]
  },
  {
   "cell_type": "code",
   "execution_count": 3,
   "metadata": {},
   "outputs": [],
   "source": [
    "class UnexpectedResponseError(AssertionError):\n",
    "    pass"
   ]
  },
  {
   "cell_type": "code",
   "execution_count": 4,
   "metadata": {},
   "outputs": [],
   "source": [
    "with open('.hf_token', encoding='utf-8') as file:\n",
    "    api_token = file.read().strip()"
   ]
  },
  {
   "cell_type": "code",
   "execution_count": 5,
   "metadata": {},
   "outputs": [],
   "source": [
    "inference = InferenceApi(repo_id='bigscience/bloom', token=api_token)"
   ]
  },
  {
   "cell_type": "code",
   "execution_count": 6,
   "metadata": {},
   "outputs": [],
   "source": [
    "def complete(text):\n",
    "    parameters = {\n",
    "        'do_sample': True,\n",
    "        'max_new_tokens': 250,\n",
    "        'seed': random.randrange(2**64),\n",
    "        'temperature': 0.9,\n",
    "        'top_k': 600,\n",
    "        'top_p': 0.9,\n",
    "    }\n",
    "\n",
    "    match inference(inputs=text, params=parameters):\n",
    "        case [{'generated_text': completion}]:\n",
    "            return completion\n",
    "        case {'error': [*errors]}:\n",
    "            raise CompletionError(*errors)\n",
    "        case other_response:\n",
    "            raise UnexpectedResponseError(other_response)"
   ]
  },
  {
   "cell_type": "code",
   "execution_count": 7,
   "metadata": {},
   "outputs": [],
   "source": [
    "def test(text):\n",
    "    print(complete(text.strip()).strip().replace('\\n', '\\n\\n'))"
   ]
  },
  {
   "cell_type": "code",
   "execution_count": 8,
   "metadata": {},
   "outputs": [
    {
     "name": "stdout",
     "output_type": "stream",
     "text": [
      "To write a compelling hero in a period drama about the history of aviation, I looked to the exploits of Nungesser and Coli, the first to attempt the transatlantic crossing in a heavier-than-air machine. Although the aircraft never reached America, the story of this flight is a fantastic one, told in Alastair Morrison’s brilliant book The Mystery of the Lost Flight.\n",
      "\n",
      "Morrison’s work, which is a re-telling of Nungesser’s last years, is rich in detail. He paints a picture of a man who is at once charming and arrogant, naive and knowledgeable, humble and grandiose. It is a true picture of the spirit of adventure, and one that is at the heart of my novel.\n",
      "\n",
      "Along with the book, I used a number of other sources, particularly Nungesser’s diaries and photographs. I also watched the award-winning documentary Nungesser & Coli – The Myth of the First Transatlantic Flight, which made me realize that although there is no record of their aircraft reaching the United States, that didn’t stop them from being hailed as heroes by the people of their time.\n",
      "\n",
      "I will certainly be looking for other period dramas about the history of aviation to recommend. I’ll also be keeping an eye out for more\n"
     ]
    }
   ],
   "source": [
    "test(\"\"\"\n",
    "To write a compelling hero in a period drama about the history of aviation,\n",
    "\"\"\")"
   ]
  },
  {
   "cell_type": "code",
   "execution_count": 9,
   "metadata": {},
   "outputs": [
    {
     "name": "stdout",
     "output_type": "stream",
     "text": [
      "To write a compelling hero in a period video game about the history of aviation, I knew I needed to create a real pilot. A pilot with real grit. Someone that players would care about and want to help through all of the challenges of the game. The pilot had to be a true hero, someone that players could identify with and feel proud of when they were done with the game. I wanted the pilot to be a hero worthy of having the game named after them.\n",
      "\n",
      "It was then that I realized the only real pilot that fit all of these criteria was Howard Hughes. Hughes was an American aviator and filmmaker, who was also an eccentric millionaire. Hughes was a perfectionist and had a very high standard for all of his work. He was obsessed with getting things just right and he had a burning desire to be the very best at everything he did.\n",
      "\n",
      "Because of his obsession with aviation, Hughes helped to transform the industry during the early 20th century. He was an innovator and a maverick. He was a true hero and he had the vision to make airplanes faster, safer, and more comfortable than any others at the time. Hughes also had the desire to use airplanes to show his own vision of the world, and his cinematic eye made him one of the most important producers of\n"
     ]
    }
   ],
   "source": [
    "test(\"\"\"\n",
    "To write a compelling hero in a period video game about the history of aviation,\n",
    "\"\"\")"
   ]
  }
 ],
 "metadata": {
  "kernelspec": {
   "display_name": "algal",
   "language": "python",
   "name": "python3"
  },
  "language_info": {
   "codemirror_mode": {
    "name": "ipython",
    "version": 3
   },
   "file_extension": ".py",
   "mimetype": "text/x-python",
   "name": "python",
   "nbconvert_exporter": "python",
   "pygments_lexer": "ipython3",
   "version": "3.11.0"
  },
  "orig_nbformat": 4,
  "vscode": {
   "interpreter": {
    "hash": "47f22c742691cc19298478bc374786c171b4fd35c166f45dc5b5c33aa184105a"
   }
  }
 },
 "nbformat": 4,
 "nbformat_minor": 2
}
