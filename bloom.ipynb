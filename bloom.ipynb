{
 "cells": [
  {
   "attachments": {},
   "cell_type": "markdown",
   "metadata": {},
   "source": [
    "# BLOOM - Inference API - via `huggingface_hub` library\n",
    "\n",
    "SPDX-License-Identifier: 0BSD"
   ]
  },
  {
   "cell_type": "code",
   "execution_count": 1,
   "metadata": {},
   "outputs": [],
   "source": [
    "import random\n",
    "\n",
    "from huggingface_hub import InferenceApi"
   ]
  },
  {
   "cell_type": "code",
   "execution_count": 2,
   "metadata": {},
   "outputs": [],
   "source": [
    "class CompletionError(Exception):\n",
    "    pass"
   ]
  },
  {
   "cell_type": "code",
   "execution_count": 3,
   "metadata": {},
   "outputs": [],
   "source": [
    "class UnexpectedResponseError(AssertionError):\n",
    "    pass"
   ]
  },
  {
   "cell_type": "code",
   "execution_count": 4,
   "metadata": {},
   "outputs": [],
   "source": [
    "with open('.hf_token', encoding='utf-8') as file:\n",
    "    api_token = file.read().strip()"
   ]
  },
  {
   "cell_type": "code",
   "execution_count": 5,
   "metadata": {},
   "outputs": [],
   "source": [
    "inference = InferenceApi(repo_id='bigscience/bloom', token=api_token)"
   ]
  },
  {
   "cell_type": "code",
   "execution_count": 6,
   "metadata": {},
   "outputs": [],
   "source": [
    "def complete(text):\n",
    "    parameters = {\n",
    "        'do_sample': True,\n",
    "        'max_new_tokens': 250,\n",
    "        'seed': random.randrange(2**64),\n",
    "        'temperature': 0.9,\n",
    "        'top_k': 600,\n",
    "        'top_p': 0.9,\n",
    "    }\n",
    "\n",
    "    match inference(inputs=text, params=parameters):\n",
    "        case [{'generated_text': completion}]:\n",
    "            return completion\n",
    "        case {'error': [*errors]}:\n",
    "            raise CompletionError(*errors)\n",
    "        case other_response:\n",
    "            raise UnexpectedResponseError(other_response)"
   ]
  },
  {
   "cell_type": "code",
   "execution_count": 7,
   "metadata": {},
   "outputs": [],
   "source": [
    "def test(text):\n",
    "    print(complete(text.strip()).strip().replace('\\n', '\\n\\n'))"
   ]
  },
  {
   "cell_type": "code",
   "execution_count": 8,
   "metadata": {},
   "outputs": [
    {
     "name": "stdout",
     "output_type": "stream",
     "text": [
      "To write a compelling hero in a period drama about the history of aviation, the search for the lost explorer Percy Fawcett, and the Amazon Jungle, is a daunting task. But director David Grann and screenwriter Eric Roth and Max Borenstein (Godzilla) pull it off in The Lost City of Z.\n",
      "\n",
      "The film revolves around the early years of Lieutenant Colonel Fawcett’s career, before he became the explorer and author of The Lost City of Z, a book that explores his passion to discover an ancient civilization that was lost in the Amazon.\n",
      "\n",
      "In the film, Charlie Hunnam (Sons of Anarchy, Rey Arturo) plays the adventurous soldier who has a strong passion for the jungle and its mysteries. Hunnam is well suited to the role, and he plays the role with a certain swagger. Hunnam gets to have fun with the part and is able to capture the soul of the soldier, a man who would do anything to find the lost city. The way he looks at the jungle is as if he were looking at a sexy woman.\n",
      "\n",
      "David and Eric have brought together an excellent cast. Besides Hunnam, they have British actors Robert Pattinson, who plays Percy Fawcett’s older brother Jack; Sienna Miller, who plays his wife,\n"
     ]
    }
   ],
   "source": [
    "test(\"\"\"\n",
    "To write a compelling hero in a period drama about the history of aviation,\n",
    "\"\"\")"
   ]
  },
  {
   "cell_type": "code",
   "execution_count": 9,
   "metadata": {},
   "outputs": [
    {
     "name": "stdout",
     "output_type": "stream",
     "text": [
      "To write a compelling hero in a period video game about the history of aviation, we need to understand what traits make for a compelling character in historical fiction. The first is the “epic hero”, whose journey is not just physical, but psychological. They come into the story a strong character, and leave it a stronger one, having evolved during their journey. In the last decade of games, we’ve seen the “realistic hero” emerge, whereby the hero of the story is not a hero in the traditional sense. They’re not always good, and they don’t have to save the day. They’re flawed, but because they’re human they’re relatable.\n",
      "\n",
      "I would go as far to say that realistic heroes are more effective in a video game, because the audience can relate to them more than an epic hero. This is because, as we’ve already stated, the protagonist of a video game is usually a “realistic” human being, so the player can relate to them. This can be seen in the recent game series The Last of Us and Uncharted. The character Joel and Nathan Drake are both flawed, but they’re also both fascinating and relatable to the player.\n",
      "\n",
      "The first part of developing a compelling hero is to understand the role the hero is going to play\n"
     ]
    }
   ],
   "source": [
    "test(\"\"\"\n",
    "To write a compelling hero in a period video game about the history of aviation,\n",
    "\"\"\")"
   ]
  },
  {
   "cell_type": "code",
   "execution_count": null,
   "metadata": {},
   "outputs": [],
   "source": []
  }
 ],
 "metadata": {
  "kernelspec": {
   "display_name": "algal",
   "language": "python",
   "name": "python3"
  },
  "language_info": {
   "codemirror_mode": {
    "name": "ipython",
    "version": 3
   },
   "file_extension": ".py",
   "mimetype": "text/x-python",
   "name": "python",
   "nbconvert_exporter": "python",
   "pygments_lexer": "ipython3",
   "version": "3.11.5"
  },
  "orig_nbformat": 4,
  "vscode": {
   "interpreter": {
    "hash": "47f22c742691cc19298478bc374786c171b4fd35c166f45dc5b5c33aa184105a"
   }
  }
 },
 "nbformat": 4,
 "nbformat_minor": 2
}
