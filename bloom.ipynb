{
 "cells": [
  {
   "attachments": {},
   "cell_type": "markdown",
   "metadata": {},
   "source": [
    "# BLOOM - Inference API - via `huggingface_hub` library\n",
    "\n",
    "SPDX-License-Identifier: 0BSD"
   ]
  },
  {
   "cell_type": "code",
   "execution_count": 1,
   "metadata": {},
   "outputs": [],
   "source": [
    "import random\n",
    "\n",
    "from huggingface_hub import InferenceApi"
   ]
  },
  {
   "cell_type": "code",
   "execution_count": 2,
   "metadata": {},
   "outputs": [],
   "source": [
    "class CompletionError(Exception):\n",
    "    pass"
   ]
  },
  {
   "cell_type": "code",
   "execution_count": 3,
   "metadata": {},
   "outputs": [],
   "source": [
    "class UnexpectedResponseError(AssertionError):\n",
    "    pass"
   ]
  },
  {
   "cell_type": "code",
   "execution_count": 4,
   "metadata": {},
   "outputs": [],
   "source": [
    "with open('.hf_token', encoding='utf-8') as file:\n",
    "    api_token = file.read().strip()"
   ]
  },
  {
   "cell_type": "code",
   "execution_count": 5,
   "metadata": {},
   "outputs": [],
   "source": [
    "inference = InferenceApi(repo_id='bigscience/bloom', token=api_token)"
   ]
  },
  {
   "cell_type": "code",
   "execution_count": 6,
   "metadata": {},
   "outputs": [],
   "source": [
    "def complete(text):\n",
    "    parameters = {\n",
    "        'do_sample': True,\n",
    "        'max_new_tokens': 250,\n",
    "        'seed': random.randrange(2**64),\n",
    "        'temperature': 0.9,\n",
    "        'top_k': 600,\n",
    "        'top_p': 0.9,\n",
    "    }\n",
    "\n",
    "    match inference(inputs=text, params=parameters):\n",
    "        case [{'generated_text': completion}]:\n",
    "            return completion\n",
    "        case {'error': [*errors]}:\n",
    "            raise CompletionError(*errors)\n",
    "        case other_response:\n",
    "            raise UnexpectedResponseError(other_response)"
   ]
  },
  {
   "cell_type": "code",
   "execution_count": 7,
   "metadata": {},
   "outputs": [],
   "source": [
    "def test(text):\n",
    "    print(complete(text.strip()).strip().replace('\\n', '\\n\\n'))"
   ]
  },
  {
   "cell_type": "code",
   "execution_count": 8,
   "metadata": {},
   "outputs": [
    {
     "name": "stdout",
     "output_type": "stream",
     "text": [
      "To write a compelling hero in a period drama about the history of aviation, we needed a real-life figure who would inspire our hero’s desire to explore the skies. With its history of aviators, the Wright Brothers were an obvious choice.\n",
      "\n",
      "Since most Americans know little about Orville Wright, and even less about his wife, Louise (“Lola”) Wright, we decided to focus on Lola, who was an American woman in an era where women were second-class citizens. Although Orville is also a fascinating character, we felt it was important to highlight the Wrights as a couple, so we could explore the idea of a female pioneer in a man’s world. Lola’s story has been largely forgotten, but she was a person of great courage and fortitude.\n",
      "\n",
      "In terms of the historical record, we found many primary sources to draw upon, including the 1903 Kitty Hawk flight itself. As for the characters in the film, we were inspired by both the Wrights themselves and the biographies of them. We also drew from a lot of secondary sources, including Wright family histories and letters written by them to their wives.\n",
      "\n",
      "The Wright Brothers’ groundbreaking 1903 flight is a particularly inspiring story. How did you make sure that the real facts were correct?\n",
      "\n",
      "We went to great lengths to make\n"
     ]
    }
   ],
   "source": [
    "test(\"\"\"\n",
    "To write a compelling hero in a period drama about the history of aviation,\n",
    "\"\"\")"
   ]
  },
  {
   "cell_type": "code",
   "execution_count": 9,
   "metadata": {},
   "outputs": [
    {
     "name": "stdout",
     "output_type": "stream",
     "text": [
      "To write a compelling hero in a period video game about the history of aviation, one has to think of the historical context. If you don’t know what the Wright Brothers did, what the role of an airmail pilot was, or the importance of women in the history of aviation, you’re not going to be able to write an interesting character.\n",
      "\n",
      "So I looked at everything I could to get a feel for the era. I read biographies of famous aviators. I read aviation magazines. I watched documentaries and videos. I listened to audio books. I talked to people who had been airmail pilots, aviation historians, and pilots of all kinds.\n",
      "\n",
      "My goal was to learn as much as possible about the social, technological, and economic landscape of the early twentieth century, so that I could write a believable heroine and her supporting cast, and a world that felt real.\n",
      "\n",
      "It wasn’t easy, and it didn’t happen overnight. But the more I learned, the more I could write. And that allowed me to take the characters even further than I thought I would be able to.\n",
      "\n",
      "When I was writing Skyward, I had a vision of what I wanted the world to be like. But the more I learned, the more I could write about, the more I could populate the world with interesting characters, some\n"
     ]
    }
   ],
   "source": [
    "test(\"\"\"\n",
    "To write a compelling hero in a period video game about the history of aviation,\n",
    "\"\"\")"
   ]
  }
 ],
 "metadata": {
  "kernelspec": {
   "display_name": "algal",
   "language": "python",
   "name": "python3"
  },
  "language_info": {
   "codemirror_mode": {
    "name": "ipython",
    "version": 3
   },
   "file_extension": ".py",
   "mimetype": "text/x-python",
   "name": "python",
   "nbconvert_exporter": "python",
   "pygments_lexer": "ipython3",
   "version": "3.11.2"
  },
  "orig_nbformat": 4,
  "vscode": {
   "interpreter": {
    "hash": "47f22c742691cc19298478bc374786c171b4fd35c166f45dc5b5c33aa184105a"
   }
  }
 },
 "nbformat": 4,
 "nbformat_minor": 2
}
