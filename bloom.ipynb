{
 "cells": [
  {
   "attachments": {},
   "cell_type": "markdown",
   "metadata": {},
   "source": [
    "# BLOOM - Inference API - via `huggingface_hub` library\n",
    "\n",
    "SPDX-License-Identifier: 0BSD"
   ]
  },
  {
   "cell_type": "code",
   "execution_count": 1,
   "metadata": {},
   "outputs": [],
   "source": [
    "import random\n",
    "\n",
    "from huggingface_hub import InferenceApi"
   ]
  },
  {
   "cell_type": "code",
   "execution_count": 2,
   "metadata": {},
   "outputs": [],
   "source": [
    "class CompletionError(Exception):\n",
    "    pass"
   ]
  },
  {
   "cell_type": "code",
   "execution_count": 3,
   "metadata": {},
   "outputs": [],
   "source": [
    "class UnexpectedResponseError(AssertionError):\n",
    "    pass"
   ]
  },
  {
   "cell_type": "code",
   "execution_count": 4,
   "metadata": {},
   "outputs": [],
   "source": [
    "with open('.hf_token', encoding='utf-8') as file:\n",
    "    api_token = file.read().strip()"
   ]
  },
  {
   "cell_type": "code",
   "execution_count": 5,
   "metadata": {},
   "outputs": [],
   "source": [
    "inference = InferenceApi(repo_id='bigscience/bloom', token=api_token)"
   ]
  },
  {
   "cell_type": "code",
   "execution_count": 6,
   "metadata": {},
   "outputs": [],
   "source": [
    "def complete(text):\n",
    "    parameters = {\n",
    "        'do_sample': True,\n",
    "        'max_new_tokens': 250,\n",
    "        'seed': random.randrange(2**64),\n",
    "        'temperature': 0.9,\n",
    "        'top_k': 600,\n",
    "        'top_p': 0.9,\n",
    "    }\n",
    "\n",
    "    match inference(inputs=text, params=parameters):\n",
    "        case [{'generated_text': completion}]:\n",
    "            return completion\n",
    "        case {'error': [*errors]}:\n",
    "            raise CompletionError(*errors)\n",
    "        case other_response:\n",
    "            raise UnexpectedResponseError(other_response)"
   ]
  },
  {
   "cell_type": "code",
   "execution_count": 7,
   "metadata": {},
   "outputs": [],
   "source": [
    "def test(text):\n",
    "    print(complete(text.strip()).strip().replace('\\n', '\\n\\n'))"
   ]
  },
  {
   "cell_type": "code",
   "execution_count": 8,
   "metadata": {},
   "outputs": [
    {
     "name": "stdout",
     "output_type": "stream",
     "text": [
      "To write a compelling hero in a period drama about the history of aviation, you need to find a real person who you can make a good hero. The fact that Waddell was a complete hero and a person of great stature was not lost on anyone who knew him. His exploits and accomplishments have made him a hero in Australia. His impact on Australian aviation cannot be overstated. He was responsible for the establishment of the Royal Flying Corps (RFC) in Australia, the creation of the Australian Air Corps (AAC), and the Australian Flying Corps (AFC) before the war.\n",
      "\n",
      "The best biographical work on Waddell is his official war biography entitled The Life of John M. Waddell, published by the AAC in 1925. In addition, the official Royal Australian Air Force biography of Waddell was also published in 1925. Waddell’s life has been well-documented elsewhere.\n",
      "\n",
      "Waddell’s life story is well-known among his descendants and family members. Waddell’s siblings have published books about him, and his son published a collection of his letters in 1960. His daughter, Anne (Gifford), has written several books about her father. Anne wrote of her father:\n",
      "\n",
      "Waddell had a short fuse. He was sharp-tongued\n"
     ]
    }
   ],
   "source": [
    "test(\"\"\"\n",
    "To write a compelling hero in a period drama about the history of aviation,\n",
    "\"\"\")"
   ]
  },
  {
   "cell_type": "code",
   "execution_count": 9,
   "metadata": {},
   "outputs": [
    {
     "name": "stdout",
     "output_type": "stream",
     "text": [
      "To write a compelling hero in a period video game about the history of aviation, I knew I had to study that world very carefully. But I didn’t want to become a historian. I just wanted to get my head around the period and its people.\n",
      "\n",
      "To get my head around a subject as vast as the history of aviation in the 1920s, I knew I needed a detailed timeline. In the early days of my research, I scoured the internet for every scrap of information I could find. I spent hours poring over photographs and scanning texts from obscure periodicals. But I wasn’t finding the answers I needed. The information I found was so vague that I couldn’t get a clear picture of the decade.\n",
      "\n",
      "I felt like I needed to see the era in its entirety to truly grasp the time period. So, I took it upon myself to create the most comprehensive timeline I could. Over the course of six months, I combed through newspapers, magazines, and books for every date that might be relevant. I looked through thousands of images to piece together the events of the decade. I created a detailed timeline in Google Docs that included every major event in the aviation industry, from the Wright Brothers first flight in 1903 to the first commercial airliner, the Boeing 247, in 1935. I built my timeline by date\n"
     ]
    }
   ],
   "source": [
    "test(\"\"\"\n",
    "To write a compelling hero in a period video game about the history of aviation,\n",
    "\"\"\")"
   ]
  },
  {
   "cell_type": "code",
   "execution_count": null,
   "metadata": {},
   "outputs": [],
   "source": []
  }
 ],
 "metadata": {
  "kernelspec": {
   "display_name": "algal",
   "language": "python",
   "name": "python3"
  },
  "language_info": {
   "codemirror_mode": {
    "name": "ipython",
    "version": 3
   },
   "file_extension": ".py",
   "mimetype": "text/x-python",
   "name": "python",
   "nbconvert_exporter": "python",
   "pygments_lexer": "ipython3",
   "version": "3.11.4"
  },
  "orig_nbformat": 4,
  "vscode": {
   "interpreter": {
    "hash": "47f22c742691cc19298478bc374786c171b4fd35c166f45dc5b5c33aa184105a"
   }
  }
 },
 "nbformat": 4,
 "nbformat_minor": 2
}
