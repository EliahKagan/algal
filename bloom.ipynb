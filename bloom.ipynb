{
 "cells": [
  {
   "attachments": {},
   "cell_type": "markdown",
   "metadata": {},
   "source": [
    "# BLOOM - Inference API - via `huggingface_hub` library\n",
    "\n",
    "SPDX-License-Identifier: 0BSD"
   ]
  },
  {
   "cell_type": "code",
   "execution_count": 1,
   "metadata": {},
   "outputs": [],
   "source": [
    "import random\n",
    "\n",
    "from huggingface_hub import InferenceApi"
   ]
  },
  {
   "cell_type": "code",
   "execution_count": 2,
   "metadata": {},
   "outputs": [],
   "source": [
    "class CompletionError(Exception):\n",
    "    pass"
   ]
  },
  {
   "cell_type": "code",
   "execution_count": 3,
   "metadata": {},
   "outputs": [],
   "source": [
    "class UnexpectedResponseError(AssertionError):\n",
    "    pass"
   ]
  },
  {
   "cell_type": "code",
   "execution_count": 4,
   "metadata": {},
   "outputs": [],
   "source": [
    "with open('.hf_token', encoding='utf-8') as file:\n",
    "    api_token = file.read().strip()"
   ]
  },
  {
   "cell_type": "code",
   "execution_count": 5,
   "metadata": {},
   "outputs": [],
   "source": [
    "inference = InferenceApi(repo_id='bigscience/bloom', token=api_token)"
   ]
  },
  {
   "cell_type": "code",
   "execution_count": 6,
   "metadata": {},
   "outputs": [],
   "source": [
    "def complete(text):\n",
    "    parameters = {\n",
    "        'do_sample': True,\n",
    "        'max_new_tokens': 250,\n",
    "        'seed': random.randrange(2**64),\n",
    "        'temperature': 0.9,\n",
    "        'top_k': 600,\n",
    "        'top_p': 0.9,\n",
    "    }\n",
    "\n",
    "    match inference(inputs=text, params=parameters):\n",
    "        case [{'generated_text': completion}]:\n",
    "            return completion\n",
    "        case {'error': [*errors]}:\n",
    "            raise CompletionError(*errors)\n",
    "        case other_response:\n",
    "            raise UnexpectedResponseError(other_response)"
   ]
  },
  {
   "cell_type": "code",
   "execution_count": 7,
   "metadata": {},
   "outputs": [],
   "source": [
    "def test(text):\n",
    "    print(complete(text.strip()).strip().replace('\\n', '\\n\\n'))"
   ]
  },
  {
   "cell_type": "code",
   "execution_count": 8,
   "metadata": {},
   "outputs": [
    {
     "name": "stdout",
     "output_type": "stream",
     "text": [
      "To write a compelling hero in a period drama about the history of aviation, there are certain things you have to get right. The hero should be brave and noble, of course, but he or she must also be flawed in some way. The character is a composite of many real people, and a flawed hero is much more interesting than a perfect one.\n",
      "\n",
      "Here are three characteristics to keep in mind as you write your character. If you feel like you are lacking in these areas, take a little time to work on them.\n",
      "\n",
      "This is an important characteristic in a hero. The best pilots never had a problem telling it like it is. They were strong and confident. They didn’t back down from a fight. They were willing to take a chance and try to fly the unflyable.\n",
      "\n",
      "This doesn’t mean the hero has to be a cowboy. The most powerful thing about a hero is his or her character. You can have a serious, even a down-and-out, hero, but the hero must be willing to take a stand for what’s right.\n",
      "\n",
      "The hero must also be willing to take a chance on someone else, if only to keep the story moving forward. In “Zero Hour,” Lt. Col. Robert A. Lovett has a hard time trusting people. As his executive officer in the\n"
     ]
    }
   ],
   "source": [
    "test(\"\"\"\n",
    "To write a compelling hero in a period drama about the history of aviation,\n",
    "\"\"\")"
   ]
  },
  {
   "cell_type": "code",
   "execution_count": 9,
   "metadata": {},
   "outputs": [
    {
     "name": "stdout",
     "output_type": "stream",
     "text": [
      "To write a compelling hero in a period video game about the history of aviation, you’re going to have to have an interesting character. This isn’t the “It’s Hero Time” era of gaming, where you get to play as a cop, a doctor, or a pro gamer – you’re here to save the world.\n",
      "\n",
      "Pilot’s on your side, at least in World of Warplanes. But he’s a complex character with a little more to him than your average pilot hero. Let’s take a look at his backstory.\n",
      "\n",
      "Pilot has always been a pilot. At least, that’s what his files say. When his records started getting spotty, he was already earning his wings. Pilot’s grandparents immigrated from Russia, and though he has no idea what his parents are like, his grandfather instilled in him a love of flying.\n",
      "\n",
      "When he was young, the family moved to a small town outside of the city of Moscow. Pilot and his brother learned to fly together, but their favorite activity was building and flying their own homemade models. They had a lot of fun, but things didn’t end well for their model aircraft, and neither did their relationship.\n",
      "\n",
      "At the age of fourteen, Pilot’s brother and mother died in a plane crash. The world around him crumbled, and the only\n"
     ]
    }
   ],
   "source": [
    "test(\"\"\"\n",
    "To write a compelling hero in a period video game about the history of aviation,\n",
    "\"\"\")"
   ]
  }
 ],
 "metadata": {
  "kernelspec": {
   "display_name": "algal",
   "language": "python",
   "name": "python3"
  },
  "language_info": {
   "codemirror_mode": {
    "name": "ipython",
    "version": 3
   },
   "file_extension": ".py",
   "mimetype": "text/x-python",
   "name": "python",
   "nbconvert_exporter": "python",
   "pygments_lexer": "ipython3",
   "version": "3.11.3"
  },
  "orig_nbformat": 4,
  "vscode": {
   "interpreter": {
    "hash": "47f22c742691cc19298478bc374786c171b4fd35c166f45dc5b5c33aa184105a"
   }
  }
 },
 "nbformat": 4,
 "nbformat_minor": 2
}
