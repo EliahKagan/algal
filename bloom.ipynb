{
 "cells": [
  {
   "cell_type": "code",
   "execution_count": 1,
   "metadata": {},
   "outputs": [],
   "source": [
    "import random\n",
    "\n",
    "import requests"
   ]
  },
  {
   "cell_type": "code",
   "execution_count": 2,
   "metadata": {},
   "outputs": [],
   "source": [
    "class CompletionError(Exception):\n",
    "    pass"
   ]
  },
  {
   "cell_type": "code",
   "execution_count": 3,
   "metadata": {},
   "outputs": [],
   "source": [
    "class UnexpectedResponseError(AssertionError):\n",
    "    pass"
   ]
  },
  {
   "cell_type": "code",
   "execution_count": 4,
   "metadata": {},
   "outputs": [],
   "source": [
    "API_URL = 'https://api-inference.huggingface.co/models/bigscience/bloom'\n",
    "\n",
    "with open('.hf_token', encoding='utf-8') as file:\n",
    "    headers = {'Authorization': f'Bearer {file.read().strip()}'}"
   ]
  },
  {
   "cell_type": "code",
   "execution_count": 8,
   "metadata": {},
   "outputs": [],
   "source": [
    "def complete(text):\n",
    "    parameters = {\n",
    "        'max_new_tokens': 250,\n",
    "        'seed': random.random(),\n",
    "        'temperature': 0.7,\n",
    "        'top_p': 1.0,\n",
    "    }\n",
    "\n",
    "    response = requests.post(\n",
    "        API_URL,\n",
    "        headers=headers,\n",
    "        json={'inputs': text, 'parameters': parameters},\n",
    "    )\n",
    "\n",
    "    match response.json():\n",
    "        case [{'generated_text': completion}]:\n",
    "            return completion\n",
    "        case {'error': [*errors]}:\n",
    "            raise CompletionError(*errors)\n",
    "        case other_response:\n",
    "            raise UnexpectedResponseError(other_response)"
   ]
  },
  {
   "cell_type": "code",
   "execution_count": 9,
   "metadata": {},
   "outputs": [],
   "source": [
    "def test(text):\n",
    "    print(complete(text.strip()).strip().replace('\\n', '\\n\\n'))"
   ]
  },
  {
   "cell_type": "code",
   "execution_count": 12,
   "metadata": {},
   "outputs": [
    {
     "name": "stdout",
     "output_type": "stream",
     "text": [
      "To write a compelling hero in a period drama about the history of aviation, you need to do more than tell a good story. You need to have a deep understanding of history, and you need to develop a character who is realistically flawed. That means you go beyond the stereotypes and the cliches, you create a person who is a fully-fleshed individual, and you give them a realistic set of motivations. If you don’t do that, your hero will seem hollow, false, and unconvincing. That’s what happened with Amelia Earhart in The Lost Girls of Paris. The problem with Earhart is that she never really existed. The real Earhart was a complicated person, a figure of great controversy, who was also a good pilot. But she was not a hero. She was a person. The movie Amelia Earhart is a fascinating example of how we sometimes use real people to create the heroes we want to believe in.\n"
     ]
    }
   ],
   "source": [
    "test(\"\"\"\n",
    "To write a compelling hero in a period drama about the history of aviation,\n",
    "\"\"\")"
   ]
  },
  {
   "cell_type": "code",
   "execution_count": 18,
   "metadata": {},
   "outputs": [
    {
     "name": "stdout",
     "output_type": "stream",
     "text": [
      "To write a compelling hero in a period video game about the history of aviation, I needed to know a lot more about the science of flight and the technology of the first planes. I did as much homework in this area as I did for my time in the trenches of World War I, reading books and doing trial and error in flight simulators. How do I know if I was successful? When I worked at EA, I had a meeting with a marketing manager about the plane I'm flying in the game. While I was talking to him, he turned to his colleague and said, \"OK, how do you make a plane fly upside down?\" I knew I was on the right track with my design for the hero.\n",
      "\n",
      "In the end, I had to balance the research aspect of the game with the need to make it fun and entertaining. If you're building a character, you want to do all of that research, but if you're doing it for the sake of doing it, it won't translate to the player. If I made the hero too scientifically accurate, players would be bored. If I made him too fictional, they wouldn't care.\n",
      "\n",
      "That was an important lesson to learn. We need to do the research to make sure the characters are fun and believable, but we have to design them\n"
     ]
    }
   ],
   "source": [
    "test(\"\"\"\n",
    "To write a compelling hero in a period video game about the history of aviation,\n",
    "\"\"\")"
   ]
  },
  {
   "cell_type": "code",
   "execution_count": null,
   "metadata": {},
   "outputs": [],
   "source": []
  }
 ],
 "metadata": {
  "kernelspec": {
   "display_name": "algal",
   "language": "python",
   "name": "python3"
  },
  "language_info": {
   "codemirror_mode": {
    "name": "ipython",
    "version": 3
   },
   "file_extension": ".py",
   "mimetype": "text/x-python",
   "name": "python",
   "nbconvert_exporter": "python",
   "pygments_lexer": "ipython3",
   "version": "3.11.0"
  },
  "orig_nbformat": 4,
  "vscode": {
   "interpreter": {
    "hash": "47f22c742691cc19298478bc374786c171b4fd35c166f45dc5b5c33aa184105a"
   }
  }
 },
 "nbformat": 4,
 "nbformat_minor": 2
}
