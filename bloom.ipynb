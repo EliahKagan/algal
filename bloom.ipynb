{
 "cells": [
  {
   "attachments": {},
   "cell_type": "markdown",
   "metadata": {},
   "source": [
    "# BLOOM - Inference API - via `huggingface_hub` library\n",
    "\n",
    "SPDX-License-Identifier: 0BSD"
   ]
  },
  {
   "cell_type": "code",
   "execution_count": 1,
   "metadata": {},
   "outputs": [],
   "source": [
    "import random\n",
    "\n",
    "from huggingface_hub import InferenceApi"
   ]
  },
  {
   "cell_type": "code",
   "execution_count": 2,
   "metadata": {},
   "outputs": [],
   "source": [
    "class CompletionError(Exception):\n",
    "    pass"
   ]
  },
  {
   "cell_type": "code",
   "execution_count": 3,
   "metadata": {},
   "outputs": [],
   "source": [
    "class UnexpectedResponseError(AssertionError):\n",
    "    pass"
   ]
  },
  {
   "cell_type": "code",
   "execution_count": 4,
   "metadata": {},
   "outputs": [],
   "source": [
    "with open('.hf_token', encoding='utf-8') as file:\n",
    "    api_token = file.read().strip()"
   ]
  },
  {
   "cell_type": "code",
   "execution_count": 5,
   "metadata": {},
   "outputs": [],
   "source": [
    "inference = InferenceApi(repo_id='bigscience/bloom', token=api_token)"
   ]
  },
  {
   "cell_type": "code",
   "execution_count": 6,
   "metadata": {},
   "outputs": [],
   "source": [
    "def complete(text):\n",
    "    parameters = {\n",
    "        'do_sample': True,\n",
    "        'max_new_tokens': 250,\n",
    "        'seed': random.randrange(2**64),\n",
    "        'temperature': 0.9,\n",
    "        'top_k': 600,\n",
    "        'top_p': 0.9,\n",
    "    }\n",
    "\n",
    "    match inference(inputs=text, params=parameters):\n",
    "        case [{'generated_text': completion}]:\n",
    "            return completion\n",
    "        case {'error': [*errors]}:\n",
    "            raise CompletionError(*errors)\n",
    "        case other_response:\n",
    "            raise UnexpectedResponseError(other_response)"
   ]
  },
  {
   "cell_type": "code",
   "execution_count": 7,
   "metadata": {},
   "outputs": [],
   "source": [
    "def test(text):\n",
    "    print(complete(text.strip()).strip().replace('\\n', '\\n\\n'))"
   ]
  },
  {
   "cell_type": "code",
   "execution_count": 8,
   "metadata": {},
   "outputs": [
    {
     "name": "stdout",
     "output_type": "stream",
     "text": [
      "To write a compelling hero in a period drama about the history of aviation, I knew I would need to go back in time to discover exactly what it meant to be a pilot in 1919. With so many resources available to learn about the early days of aviation, I decided to head out and see for myself! I began to fly with the World War I Flying Legends at airshows around the country.\n",
      "\n",
      "Each pilot had a very unique story to tell, and I was intrigued to hear how each of them viewed their time in the air. As I flew with them, I began to write a script that I thought would be very powerful. I really felt that this story would bring a new perspective to the often-neglected first phase of aviation. A few years later, the FAA commissioned an aviation history film that would share the stories of the greatest pilots of the era. The script I had written for that film evolved into the one that you see today.\n"
     ]
    }
   ],
   "source": [
    "test(\"\"\"\n",
    "To write a compelling hero in a period drama about the history of aviation,\n",
    "\"\"\")"
   ]
  },
  {
   "cell_type": "code",
   "execution_count": 9,
   "metadata": {},
   "outputs": [
    {
     "name": "stdout",
     "output_type": "stream",
     "text": [
      "To write a compelling hero in a period video game about the history of aviation, they didn’t need a pretty boy or a macho man. They didn’t even need a real person to base him on. They needed someone who could inspire people to dream of flying.\n",
      "\n",
      "What inspired me was the little bit of story I’d seen before playing. He’d had an accident. He had a brother who died. He was unable to fly anymore. And he decided he’d become a teacher.\n"
     ]
    }
   ],
   "source": [
    "test(\"\"\"\n",
    "To write a compelling hero in a period video game about the history of aviation,\n",
    "\"\"\")"
   ]
  }
 ],
 "metadata": {
  "kernelspec": {
   "display_name": "algal",
   "language": "python",
   "name": "python3"
  },
  "language_info": {
   "codemirror_mode": {
    "name": "ipython",
    "version": 3
   },
   "file_extension": ".py",
   "mimetype": "text/x-python",
   "name": "python",
   "nbconvert_exporter": "python",
   "pygments_lexer": "ipython3",
   "version": "3.11.3"
  },
  "orig_nbformat": 4,
  "vscode": {
   "interpreter": {
    "hash": "47f22c742691cc19298478bc374786c171b4fd35c166f45dc5b5c33aa184105a"
   }
  }
 },
 "nbformat": 4,
 "nbformat_minor": 2
}
