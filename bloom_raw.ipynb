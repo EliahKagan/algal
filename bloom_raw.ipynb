{
 "cells": [
  {
   "attachments": {},
   "cell_type": "markdown",
   "metadata": {},
   "source": [
    "# BLOOM - Inference API - via Requests\n",
    "\n",
    "SPDX-License-Identifier: 0BSD"
   ]
  },
  {
   "cell_type": "code",
   "execution_count": 1,
   "metadata": {},
   "outputs": [],
   "source": [
    "import json\n",
    "import random\n",
    "\n",
    "import requests"
   ]
  },
  {
   "cell_type": "code",
   "execution_count": 2,
   "metadata": {},
   "outputs": [],
   "source": [
    "class CompletionError(Exception):\n",
    "    pass"
   ]
  },
  {
   "cell_type": "code",
   "execution_count": 3,
   "metadata": {},
   "outputs": [],
   "source": [
    "class UnexpectedResponseError(AssertionError):\n",
    "    pass"
   ]
  },
  {
   "cell_type": "code",
   "execution_count": 4,
   "metadata": {},
   "outputs": [],
   "source": [
    "API_URL = 'https://api-inference.huggingface.co/models/bigscience/bloom'\n",
    "\n",
    "with open('.hf_token', encoding='utf-8') as file:\n",
    "    headers = {'Authorization': f'Bearer {file.read().strip()}'}"
   ]
  },
  {
   "cell_type": "code",
   "execution_count": 5,
   "metadata": {},
   "outputs": [],
   "source": [
    "def complete(text):\n",
    "    parameters = {\n",
    "        'do_sample': True,\n",
    "        'max_new_tokens': 250,\n",
    "        'seed': random.randrange(2**64),\n",
    "        'temperature': 0.9,\n",
    "        'top_k': 600,\n",
    "        'top_p': 0.9,\n",
    "    }\n",
    "\n",
    "    response = requests.post(\n",
    "        API_URL,\n",
    "        headers=headers,\n",
    "        json={'inputs': text, 'parameters': parameters},\n",
    "    )\n",
    "\n",
    "    try:\n",
    "        as_json = response.json()\n",
    "    except json.JSONDecodeError as error:\n",
    "        raise UnexpectedResponseError(response.text) from error\n",
    "\n",
    "    match as_json:\n",
    "        case [{'generated_text': completion}]:\n",
    "            return completion\n",
    "        case {'error': [*errors]}:\n",
    "            raise CompletionError(*errors)\n",
    "        case other_response:\n",
    "            raise UnexpectedResponseError(other_response)"
   ]
  },
  {
   "cell_type": "code",
   "execution_count": 6,
   "metadata": {},
   "outputs": [],
   "source": [
    "def test(text):\n",
    "    print(complete(text.strip()).strip().replace('\\n', '\\n\\n'))"
   ]
  },
  {
   "cell_type": "code",
   "execution_count": 7,
   "metadata": {},
   "outputs": [
    {
     "name": "stdout",
     "output_type": "stream",
     "text": [
      "To write a compelling hero in a period drama about the history of aviation, I want to draw on my own experiences as a pilot.\n",
      "\n",
      "I am a Canadian and my country was one of the first to have airmail service. Back in the 1940s, we would be the first to have our mail delivered by plane.\n",
      "\n",
      "In the 1970s, my father was an airline pilot, so he helped me with my first solo flight. He also taught me how to fly an airplane.\n",
      "\n",
      "In my younger years, I had been on a flying lesson with my father, and he wanted me to do a solo flight, which I did.\n",
      "\n",
      "This is a part of my story. As a pilot, I can say that I know a lot about the world of aviation. I also know a lot about the way that planes operate, and how different people can have different reactions when it comes to flying. And I also know how an airplane can be destroyed by a storm.\n",
      "\n",
      "I would like to show my readers some of the things that a heroine like Amelia Earhart would have experienced. This includes how she would have experienced the weather, how she would have had to take care of herself, and how she would have had to deal with the different types of passengers.\n",
      "\n",
      "One of the things that I think that I can bring to my writing is\n"
     ]
    }
   ],
   "source": [
    "test(\"\"\"\n",
    "To write a compelling hero in a period drama about the history of aviation,\n",
    "\"\"\")"
   ]
  },
  {
   "cell_type": "code",
   "execution_count": 8,
   "metadata": {},
   "outputs": [
    {
     "name": "stdout",
     "output_type": "stream",
     "text": [
      "To write a compelling hero in a period video game about the history of aviation, designers went through an extensive list of heroes. Each one of them was considered for the story and their relationship with the protagonist. They compared the candidates’ psychological and emotional qualities. They also studied their past activities and looked at the results. The best choice, they concluded, was Charles Lindbergh.\n"
     ]
    }
   ],
   "source": [
    "test(\"\"\"\n",
    "To write a compelling hero in a period video game about the history of aviation,\n",
    "\"\"\")"
   ]
  },
  {
   "cell_type": "code",
   "execution_count": null,
   "metadata": {},
   "outputs": [],
   "source": []
  }
 ],
 "metadata": {
  "kernelspec": {
   "display_name": "algal",
   "language": "python",
   "name": "python3"
  },
  "language_info": {
   "codemirror_mode": {
    "name": "ipython",
    "version": 3
   },
   "file_extension": ".py",
   "mimetype": "text/x-python",
   "name": "python",
   "nbconvert_exporter": "python",
   "pygments_lexer": "ipython3",
   "version": "3.11.0"
  },
  "orig_nbformat": 4,
  "vscode": {
   "interpreter": {
    "hash": "47f22c742691cc19298478bc374786c171b4fd35c166f45dc5b5c33aa184105a"
   }
  }
 },
 "nbformat": 4,
 "nbformat_minor": 2
}
