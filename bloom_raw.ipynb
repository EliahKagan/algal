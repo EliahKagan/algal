{
 "cells": [
  {
   "attachments": {},
   "cell_type": "markdown",
   "metadata": {},
   "source": [
    "# BLOOM - Inference API - via Requests\n",
    "\n",
    "SPDX-License-Identifier: 0BSD"
   ]
  },
  {
   "cell_type": "code",
   "execution_count": 1,
   "metadata": {},
   "outputs": [],
   "source": [
    "import json\n",
    "import random\n",
    "\n",
    "import requests"
   ]
  },
  {
   "cell_type": "code",
   "execution_count": 2,
   "metadata": {},
   "outputs": [],
   "source": [
    "class CompletionError(Exception):\n",
    "    pass"
   ]
  },
  {
   "cell_type": "code",
   "execution_count": 3,
   "metadata": {},
   "outputs": [],
   "source": [
    "class UnexpectedResponseError(AssertionError):\n",
    "    pass"
   ]
  },
  {
   "cell_type": "code",
   "execution_count": 4,
   "metadata": {},
   "outputs": [],
   "source": [
    "API_URL = 'https://api-inference.huggingface.co/models/bigscience/bloom'\n",
    "\n",
    "with open('.hf_token', encoding='utf-8') as file:\n",
    "    headers = {'Authorization': f'Bearer {file.read().strip()}'}"
   ]
  },
  {
   "cell_type": "code",
   "execution_count": 5,
   "metadata": {},
   "outputs": [],
   "source": [
    "def complete(text):\n",
    "    parameters = {\n",
    "        'do_sample': True,\n",
    "        'max_new_tokens': 250,\n",
    "        'seed': random.randrange(2**64),\n",
    "        'temperature': 0.9,\n",
    "        'top_k': 600,\n",
    "        'top_p': 0.9,\n",
    "    }\n",
    "\n",
    "    response = requests.post(\n",
    "        API_URL,\n",
    "        headers=headers,\n",
    "        json={'inputs': text, 'parameters': parameters},\n",
    "    )\n",
    "\n",
    "    try:\n",
    "        as_json = response.json()\n",
    "    except json.JSONDecodeError as error:\n",
    "        raise UnexpectedResponseError(response.text) from error\n",
    "\n",
    "    match as_json:\n",
    "        case [{'generated_text': completion}]:\n",
    "            return completion\n",
    "        case {'error': [*errors]}:\n",
    "            raise CompletionError(*errors)\n",
    "        case other_response:\n",
    "            raise UnexpectedResponseError(other_response)"
   ]
  },
  {
   "cell_type": "code",
   "execution_count": 6,
   "metadata": {},
   "outputs": [],
   "source": [
    "def test(text):\n",
    "    print(complete(text.strip()).strip().replace('\\n', '\\n\\n'))"
   ]
  },
  {
   "cell_type": "code",
   "execution_count": 7,
   "metadata": {},
   "outputs": [
    {
     "name": "stdout",
     "output_type": "stream",
     "text": [
      "To write a compelling hero in a period drama about the history of aviation, you should be familiar with the technology and society of the time. You should also understand the prevailing attitudes toward women and minorities in the period in question.\n",
      "\n",
      "On the personal side, you need to be able to relate to the inner struggles and the values of your hero, whether it be a boy or girl. You will find it helpful to know more about the character’s backstory, which may be related to the events of the story or to some event in the hero’s life before you begin to write.\n",
      "\n",
      "As you write your story, make sure that your protagonist has a goal and a desire to reach that goal. That goal needs to be attainable, but also at the heart of the story and the conflict you have created for the character. Even if the goal is not to be realized by the end of the story, you must establish a strong goal at the beginning. The hero should not be one-dimensional. He or she must have a series of internal conflicts that must be overcome. The hero’s challenges must be realistic and relate to the time in which the story takes place.\n",
      "\n",
      "The protagonist’s goal should be a driving force in the story and should connect with the characters and setting. He or she should have the desire and the\n"
     ]
    }
   ],
   "source": [
    "test(\"\"\"\n",
    "To write a compelling hero in a period drama about the history of aviation,\n",
    "\"\"\")"
   ]
  },
  {
   "cell_type": "code",
   "execution_count": 8,
   "metadata": {},
   "outputs": [
    {
     "name": "stdout",
     "output_type": "stream",
     "text": [
      "To write a compelling hero in a period video game about the history of aviation, one might think it would be easy to simply pick someone like Charles Lindbergh or Amelia Earhart. However, if you’re Chris Roberts, you’d probably pick a British aviator who was also a Welsh-language poet. That is how Captain Rhys Edwards of Cloud Imperium Games came to be the protagonist in Star Citizen Alpha 3.0, the game’s most recent major update.\n",
      "\n",
      "A native of south Wales, Edwards has spent the last 15 years working at Cloud Imperium Games, and previously has worked on The Secret World. Edwards began his career in gaming when he joined id Software, a leading developer in first-person shooters, to work on the Unreal Tournament: Uprising. He later joined Insomniac Games to work on the PlayStation 4 title Sunset Overdrive. However, the most interesting part of his career is that he started working on The Secret World before it was fully developed.\n",
      "\n",
      "Prior to joining Cloud Imperium Games, Edwards had spent eight years with Bioware, working on the RPG franchises Baldur’s Gate and Mass Effect. However, in the second half of 2012, he left Bioware to work on The Secret World. The game was developed by Funcom, a Norwegian company, and was\n"
     ]
    }
   ],
   "source": [
    "test(\"\"\"\n",
    "To write a compelling hero in a period video game about the history of aviation,\n",
    "\"\"\")"
   ]
  },
  {
   "cell_type": "code",
   "execution_count": null,
   "metadata": {},
   "outputs": [],
   "source": []
  }
 ],
 "metadata": {
  "kernelspec": {
   "display_name": "algal",
   "language": "python",
   "name": "python3"
  },
  "language_info": {
   "codemirror_mode": {
    "name": "ipython",
    "version": 3
   },
   "file_extension": ".py",
   "mimetype": "text/x-python",
   "name": "python",
   "nbconvert_exporter": "python",
   "pygments_lexer": "ipython3",
   "version": "3.11.3"
  },
  "orig_nbformat": 4,
  "vscode": {
   "interpreter": {
    "hash": "47f22c742691cc19298478bc374786c171b4fd35c166f45dc5b5c33aa184105a"
   }
  }
 },
 "nbformat": 4,
 "nbformat_minor": 2
}
