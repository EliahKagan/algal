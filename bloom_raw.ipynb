{
 "cells": [
  {
   "attachments": {},
   "cell_type": "markdown",
   "metadata": {},
   "source": [
    "# BLOOM - Inference API - via Requests\n",
    "\n",
    "SPDX-License-Identifier: 0BSD"
   ]
  },
  {
   "cell_type": "code",
   "execution_count": 1,
   "metadata": {},
   "outputs": [],
   "source": [
    "import json\n",
    "import random\n",
    "\n",
    "import requests"
   ]
  },
  {
   "cell_type": "code",
   "execution_count": 2,
   "metadata": {},
   "outputs": [],
   "source": [
    "class CompletionError(Exception):\n",
    "    pass"
   ]
  },
  {
   "cell_type": "code",
   "execution_count": 3,
   "metadata": {},
   "outputs": [],
   "source": [
    "class UnexpectedResponseError(AssertionError):\n",
    "    pass"
   ]
  },
  {
   "cell_type": "code",
   "execution_count": 4,
   "metadata": {},
   "outputs": [],
   "source": [
    "API_URL = 'https://api-inference.huggingface.co/models/bigscience/bloom'\n",
    "\n",
    "with open('.hf_token', encoding='utf-8') as file:\n",
    "    headers = {'Authorization': f'Bearer {file.read().strip()}'}"
   ]
  },
  {
   "cell_type": "code",
   "execution_count": 5,
   "metadata": {},
   "outputs": [],
   "source": [
    "def complete(text):\n",
    "    parameters = {\n",
    "        'do_sample': True,\n",
    "        'max_new_tokens': 250,\n",
    "        'seed': random.randrange(2**64),\n",
    "        'temperature': 0.9,\n",
    "        'top_k': 600,\n",
    "        'top_p': 0.9,\n",
    "    }\n",
    "\n",
    "    response = requests.post(\n",
    "        API_URL,\n",
    "        headers=headers,\n",
    "        json={'inputs': text, 'parameters': parameters},\n",
    "    )\n",
    "\n",
    "    try:\n",
    "        as_json = response.json()\n",
    "    except json.JSONDecodeError as error:\n",
    "        raise UnexpectedResponseError(response.text) from error\n",
    "\n",
    "    match as_json:\n",
    "        case [{'generated_text': completion}]:\n",
    "            return completion\n",
    "        case {'error': [*errors]}:\n",
    "            raise CompletionError(*errors)\n",
    "        case other_response:\n",
    "            raise UnexpectedResponseError(other_response)"
   ]
  },
  {
   "cell_type": "code",
   "execution_count": 6,
   "metadata": {},
   "outputs": [],
   "source": [
    "def test(text):\n",
    "    print(complete(text.strip()).strip().replace('\\n', '\\n\\n'))"
   ]
  },
  {
   "cell_type": "code",
   "execution_count": 7,
   "metadata": {},
   "outputs": [
    {
     "name": "stdout",
     "output_type": "stream",
     "text": [
      "To write a compelling hero in a period drama about the history of aviation, the person had to be a hero who had achieved incredible things in history and was willing to share their story.”\n",
      "\n",
      "Although he had never flown an airplane before, the producers of the film offered him the role of Charles Lindbergh, “the hero of the aviation world and the first person to fly non-stop from New York to Paris.”\n",
      "\n",
      "“When I was approached with the role, I was pretty excited,” McLaughlin said. “I loved the story and I was a history geek at the time so I knew that I was very interested in the story of the man and the technology.”\n",
      "\n",
      "“I had to learn how to fly. I had to learn how to fly solo because I am a pilot in the movie. I had to learn how to fly a biplane and then the producers made me do some of the stunts.”\n",
      "\n",
      "“I was scared to do the stunts. I was scared because I had never done any of them before. I did a scene where I have to shoot a Nazi. I was terrified,” he said with a laugh.\n",
      "\n",
      "“I have to say, ‘Go and get that Nazi,’ and I have to do it in German because I was fluent in German\n"
     ]
    }
   ],
   "source": [
    "test(\"\"\"\n",
    "To write a compelling hero in a period drama about the history of aviation,\n",
    "\"\"\")"
   ]
  },
  {
   "cell_type": "code",
   "execution_count": 8,
   "metadata": {},
   "outputs": [
    {
     "name": "stdout",
     "output_type": "stream",
     "text": [
      "To write a compelling hero in a period video game about the history of aviation, there are lots of challenges. There are so many aviation historians out there who could tell a better story than a developer could. There are just so many people who have a deep knowledge of history and they can write about it and put it in a story. I guess I can kind of sit in the middle ground and tell a story that is accessible to people that have some knowledge about aviation history, but that doesn’t require that they have the deep knowledge. That is a challenge. I think if you’re telling a story about the history of aviation, you need to have that deep knowledge, but if you want to tell a story about a modern day fighter pilot, you don’t have to have that deep knowledge. It kind of depends on the story.\n",
      "\n",
      "Q: You have recently put out the latest title in the Ace Combat franchise, called Ace Combat 7: Skies Unknown. What do you think the biggest challenges were in creating a new combat flight simulator game?\n"
     ]
    }
   ],
   "source": [
    "test(\"\"\"\n",
    "To write a compelling hero in a period video game about the history of aviation,\n",
    "\"\"\")"
   ]
  },
  {
   "cell_type": "code",
   "execution_count": null,
   "metadata": {},
   "outputs": [],
   "source": []
  }
 ],
 "metadata": {
  "kernelspec": {
   "display_name": "algal",
   "language": "python",
   "name": "python3"
  },
  "language_info": {
   "codemirror_mode": {
    "name": "ipython",
    "version": 3
   },
   "file_extension": ".py",
   "mimetype": "text/x-python",
   "name": "python",
   "nbconvert_exporter": "python",
   "pygments_lexer": "ipython3",
   "version": "3.11.2"
  },
  "orig_nbformat": 4,
  "vscode": {
   "interpreter": {
    "hash": "47f22c742691cc19298478bc374786c171b4fd35c166f45dc5b5c33aa184105a"
   }
  }
 },
 "nbformat": 4,
 "nbformat_minor": 2
}
