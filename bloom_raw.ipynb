{
 "cells": [
  {
   "attachments": {},
   "cell_type": "markdown",
   "metadata": {},
   "source": [
    "# BLOOM - Inference API - via Requests\n",
    "\n",
    "SPDX-License-Identifier: 0BSD"
   ]
  },
  {
   "cell_type": "code",
   "execution_count": 1,
   "metadata": {},
   "outputs": [],
   "source": [
    "import json\n",
    "import random\n",
    "\n",
    "import requests"
   ]
  },
  {
   "cell_type": "code",
   "execution_count": 2,
   "metadata": {},
   "outputs": [],
   "source": [
    "class CompletionError(Exception):\n",
    "    pass"
   ]
  },
  {
   "cell_type": "code",
   "execution_count": 3,
   "metadata": {},
   "outputs": [],
   "source": [
    "class UnexpectedResponseError(AssertionError):\n",
    "    pass"
   ]
  },
  {
   "cell_type": "code",
   "execution_count": 4,
   "metadata": {},
   "outputs": [],
   "source": [
    "API_URL = 'https://api-inference.huggingface.co/models/bigscience/bloom'\n",
    "\n",
    "with open('.hf_token', encoding='utf-8') as file:\n",
    "    headers = {'Authorization': f'Bearer {file.read().strip()}'}"
   ]
  },
  {
   "cell_type": "code",
   "execution_count": 5,
   "metadata": {},
   "outputs": [],
   "source": [
    "def complete(text):\n",
    "    parameters = {\n",
    "        'do_sample': True,\n",
    "        'max_new_tokens': 250,\n",
    "        'seed': random.randrange(2**64),\n",
    "        'temperature': 0.9,\n",
    "        'top_k': 600,\n",
    "        'top_p': 0.9,\n",
    "    }\n",
    "\n",
    "    response = requests.post(\n",
    "        API_URL,\n",
    "        headers=headers,\n",
    "        json={'inputs': text, 'parameters': parameters},\n",
    "    )\n",
    "\n",
    "    try:\n",
    "        as_json = response.json()\n",
    "    except json.JSONDecodeError as error:\n",
    "        raise UnexpectedResponseError(response.text) from error\n",
    "\n",
    "    match as_json:\n",
    "        case [{'generated_text': completion}]:\n",
    "            return completion\n",
    "        case {'error': [*errors]}:\n",
    "            raise CompletionError(*errors)\n",
    "        case other_response:\n",
    "            raise UnexpectedResponseError(other_response)"
   ]
  },
  {
   "cell_type": "code",
   "execution_count": 6,
   "metadata": {},
   "outputs": [],
   "source": [
    "def test(text):\n",
    "    print(complete(text.strip()).strip().replace('\\n', '\\n\\n'))"
   ]
  },
  {
   "cell_type": "code",
   "execution_count": 7,
   "metadata": {},
   "outputs": [
    {
     "name": "stdout",
     "output_type": "stream",
     "text": [
      "To write a compelling hero in a period drama about the history of aviation, you'd have to cast the likes of Cillian Murphy. But instead, the filmmakers went with another Brit, Harry Treadaway. He delivers a memorable performance and captures the spirit of the era.\n",
      "\n",
      "Overall, it is a solid film, but the filmmakers could have delved deeper into the life of a real hero. That said, this is the best period drama about aviation we've seen so far.\n",
      "\n",
      "\"The Dove of Death,\" written by Alfred Bester and George Clayton Johnson, is a short story that appeared in the July, 1941 issue of Astounding Science Fiction. It was included in the 1956 collection Nightmare Roads, but has never been reprinted. The Dove of Death is the story of two men in a doomed space mission to a planet that seems to be rife with danger.\n",
      "\n",
      "Jack Bolton has been approached by the government to be a part of a secret space mission. His partner is the first man to ever orbit the Earth, Captain Thomas Dewey. But Dewey is now suffering from the effects of cosmic radiation. In his attempts to stop Jack from leaving Earth, he reveals a frightening secret. The planet where the spacecraft is heading is home to creatures that are death incarn\n"
     ]
    }
   ],
   "source": [
    "test(\"\"\"\n",
    "To write a compelling hero in a period drama about the history of aviation,\n",
    "\"\"\")"
   ]
  },
  {
   "cell_type": "code",
   "execution_count": 8,
   "metadata": {},
   "outputs": [
    {
     "name": "stdout",
     "output_type": "stream",
     "text": [
      "To write a compelling hero in a period video game about the history of aviation, the team at Iron Tower Studio spent months poring over newspaper and magazine articles to uncover stories about pilots and the early days of aviation. One of the many pilots that helped inspire the game’s protagonist was Amelia Earhart, the famous woman pilot. While she was an inspiration to so many, she also came with a lot of questions.\n"
     ]
    }
   ],
   "source": [
    "test(\"\"\"\n",
    "To write a compelling hero in a period video game about the history of aviation,\n",
    "\"\"\")"
   ]
  },
  {
   "cell_type": "code",
   "execution_count": null,
   "metadata": {},
   "outputs": [],
   "source": []
  }
 ],
 "metadata": {
  "kernelspec": {
   "display_name": "algal",
   "language": "python",
   "name": "python3"
  },
  "language_info": {
   "codemirror_mode": {
    "name": "ipython",
    "version": 3
   },
   "file_extension": ".py",
   "mimetype": "text/x-python",
   "name": "python",
   "nbconvert_exporter": "python",
   "pygments_lexer": "ipython3",
   "version": "3.11.5"
  },
  "orig_nbformat": 4,
  "vscode": {
   "interpreter": {
    "hash": "47f22c742691cc19298478bc374786c171b4fd35c166f45dc5b5c33aa184105a"
   }
  }
 },
 "nbformat": 4,
 "nbformat_minor": 2
}
